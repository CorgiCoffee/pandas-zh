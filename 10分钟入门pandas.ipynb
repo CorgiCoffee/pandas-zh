{
 "cells": [
  {
   "cell_type": "markdown",
   "metadata": {
    "deletable": true,
    "editable": true
   },
   "source": [
    "# 10分钟入门pandas\n",
    "\n",
    "这是一篇针对pandas新手的简短入门。\n",
    "\n",
    "在开始之前，首先导入以下几个库："
   ]
  },
  {
   "cell_type": "code",
   "execution_count": 1,
   "metadata": {
    "collapsed": true,
    "deletable": true,
    "editable": true
   },
   "outputs": [],
   "source": [
    "import pandas as pd\n",
    "import numpy as np\n",
    "import matplotlib.pyplot as plt"
   ]
  },
  {
   "cell_type": "markdown",
   "metadata": {
    "deletable": true,
    "editable": true
   },
   "source": [
    "## 创建对象\n",
    "\n",
    "通过传递一个list来创建**Series **,pandas会默认创建整型index："
   ]
  },
  {
   "cell_type": "code",
   "execution_count": 2,
   "metadata": {
    "collapsed": false,
    "deletable": true,
    "editable": true
   },
   "outputs": [
    {
     "data": {
      "text/plain": [
       "0    1.0\n",
       "1    3.0\n",
       "2    5.0\n",
       "3    NaN\n",
       "4    6.0\n",
       "5    8.0\n",
       "dtype: float64"
      ]
     },
     "execution_count": 2,
     "metadata": {},
     "output_type": "execute_result"
    }
   ],
   "source": [
    "s = pd.Series([1,3,5,np.nan,6,8])\n",
    "s"
   ]
  },
  {
   "cell_type": "markdown",
   "metadata": {
    "deletable": true,
    "editable": true
   },
   "source": [
    "通过传递一个numpy array，日期index以及column标签来创建一个**DataFrame**:"
   ]
  },
  {
   "cell_type": "code",
   "execution_count": 5,
   "metadata": {
    "collapsed": false,
    "deletable": true,
    "editable": true
   },
   "outputs": [
    {
     "data": {
      "text/plain": [
       "DatetimeIndex(['2016-01-01', '2016-01-02', '2016-01-03', '2016-01-04',\n",
       "               '2016-01-05', '2016-01-06'],\n",
       "              dtype='datetime64[ns]', freq='D')"
      ]
     },
     "execution_count": 5,
     "metadata": {},
     "output_type": "execute_result"
    }
   ],
   "source": [
    "dates = pd.date_range('20160101',periods=6)\n",
    "dates"
   ]
  },
  {
   "cell_type": "code",
   "execution_count": 6,
   "metadata": {
    "collapsed": false,
    "deletable": true,
    "editable": true
   },
   "outputs": [
    {
     "data": {
      "text/html": [
       "<div>\n",
       "<table border=\"1\" class=\"dataframe\">\n",
       "  <thead>\n",
       "    <tr style=\"text-align: right;\">\n",
       "      <th></th>\n",
       "      <th>A</th>\n",
       "      <th>B</th>\n",
       "      <th>C</th>\n",
       "      <th>D</th>\n",
       "    </tr>\n",
       "  </thead>\n",
       "  <tbody>\n",
       "    <tr>\n",
       "      <th>2016-01-01</th>\n",
       "      <td>-1.010297</td>\n",
       "      <td>0.696287</td>\n",
       "      <td>1.581958</td>\n",
       "      <td>0.570403</td>\n",
       "    </tr>\n",
       "    <tr>\n",
       "      <th>2016-01-02</th>\n",
       "      <td>0.987048</td>\n",
       "      <td>-1.886653</td>\n",
       "      <td>0.996055</td>\n",
       "      <td>0.166742</td>\n",
       "    </tr>\n",
       "    <tr>\n",
       "      <th>2016-01-03</th>\n",
       "      <td>0.231736</td>\n",
       "      <td>1.205385</td>\n",
       "      <td>0.234630</td>\n",
       "      <td>0.660184</td>\n",
       "    </tr>\n",
       "    <tr>\n",
       "      <th>2016-01-04</th>\n",
       "      <td>-1.619384</td>\n",
       "      <td>0.698944</td>\n",
       "      <td>0.333947</td>\n",
       "      <td>-0.726975</td>\n",
       "    </tr>\n",
       "    <tr>\n",
       "      <th>2016-01-05</th>\n",
       "      <td>-0.108619</td>\n",
       "      <td>0.330310</td>\n",
       "      <td>0.750473</td>\n",
       "      <td>2.773949</td>\n",
       "    </tr>\n",
       "    <tr>\n",
       "      <th>2016-01-06</th>\n",
       "      <td>-0.043439</td>\n",
       "      <td>-0.863584</td>\n",
       "      <td>1.104039</td>\n",
       "      <td>-1.966649</td>\n",
       "    </tr>\n",
       "  </tbody>\n",
       "</table>\n",
       "</div>"
      ],
      "text/plain": [
       "                   A         B         C         D\n",
       "2016-01-01 -1.010297  0.696287  1.581958  0.570403\n",
       "2016-01-02  0.987048 -1.886653  0.996055  0.166742\n",
       "2016-01-03  0.231736  1.205385  0.234630  0.660184\n",
       "2016-01-04 -1.619384  0.698944  0.333947 -0.726975\n",
       "2016-01-05 -0.108619  0.330310  0.750473  2.773949\n",
       "2016-01-06 -0.043439 -0.863584  1.104039 -1.966649"
      ]
     },
     "execution_count": 6,
     "metadata": {},
     "output_type": "execute_result"
    }
   ],
   "source": [
    "df = pd.DataFrame(np.random.randn(6,4),index=dates,columns=list('ABCD'))\n",
    "df"
   ]
  },
  {
   "cell_type": "markdown",
   "metadata": {
    "deletable": true,
    "editable": true
   },
   "source": [
    "通过传递一个dictionary来创建一个**DataFrame**:"
   ]
  },
  {
   "cell_type": "code",
   "execution_count": 8,
   "metadata": {
    "collapsed": false,
    "deletable": true,
    "editable": true
   },
   "outputs": [
    {
     "data": {
      "text/html": [
       "<div>\n",
       "<table border=\"1\" class=\"dataframe\">\n",
       "  <thead>\n",
       "    <tr style=\"text-align: right;\">\n",
       "      <th></th>\n",
       "      <th>A</th>\n",
       "      <th>B</th>\n",
       "      <th>C</th>\n",
       "      <th>D</th>\n",
       "      <th>E</th>\n",
       "      <th>F</th>\n",
       "    </tr>\n",
       "  </thead>\n",
       "  <tbody>\n",
       "    <tr>\n",
       "      <th>0</th>\n",
       "      <td>1.0</td>\n",
       "      <td>2016-01-02</td>\n",
       "      <td>1.0</td>\n",
       "      <td>3</td>\n",
       "      <td>test</td>\n",
       "      <td>foo</td>\n",
       "    </tr>\n",
       "    <tr>\n",
       "      <th>1</th>\n",
       "      <td>1.0</td>\n",
       "      <td>2016-01-02</td>\n",
       "      <td>1.0</td>\n",
       "      <td>3</td>\n",
       "      <td>train</td>\n",
       "      <td>foo</td>\n",
       "    </tr>\n",
       "    <tr>\n",
       "      <th>2</th>\n",
       "      <td>1.0</td>\n",
       "      <td>2016-01-02</td>\n",
       "      <td>1.0</td>\n",
       "      <td>3</td>\n",
       "      <td>test</td>\n",
       "      <td>foo</td>\n",
       "    </tr>\n",
       "    <tr>\n",
       "      <th>3</th>\n",
       "      <td>1.0</td>\n",
       "      <td>2016-01-02</td>\n",
       "      <td>1.0</td>\n",
       "      <td>3</td>\n",
       "      <td>train</td>\n",
       "      <td>foo</td>\n",
       "    </tr>\n",
       "  </tbody>\n",
       "</table>\n",
       "</div>"
      ],
      "text/plain": [
       "     A          B    C  D      E    F\n",
       "0  1.0 2016-01-02  1.0  3   test  foo\n",
       "1  1.0 2016-01-02  1.0  3  train  foo\n",
       "2  1.0 2016-01-02  1.0  3   test  foo\n",
       "3  1.0 2016-01-02  1.0  3  train  foo"
      ]
     },
     "execution_count": 8,
     "metadata": {},
     "output_type": "execute_result"
    }
   ],
   "source": [
    "df2 = pd.DataFrame({ 'A' : 1.,\n",
    "                     'B' : pd.Timestamp('20160102'),\n",
    "                     'C' : pd.Series(1,index=list(range(4)),dtype='float32'),\n",
    "                     'D' : np.array([3]*4,dtype='int32'),\n",
    "                     'E' : pd.Categorical([\"test\",\"train\",\"test\",\"train\"]),\n",
    "                     'F' : 'foo' })\n",
    "df2"
   ]
  },
  {
   "cell_type": "markdown",
   "metadata": {
    "deletable": true,
    "editable": true
   },
   "source": [
    "查看每一列的数据类型："
   ]
  },
  {
   "cell_type": "code",
   "execution_count": 10,
   "metadata": {
    "collapsed": false,
    "deletable": true,
    "editable": true
   },
   "outputs": [
    {
     "data": {
      "text/plain": [
       "A           float64\n",
       "B    datetime64[ns]\n",
       "C           float32\n",
       "D             int32\n",
       "E          category\n",
       "F            object\n",
       "dtype: object"
      ]
     },
     "execution_count": 10,
     "metadata": {},
     "output_type": "execute_result"
    }
   ],
   "source": [
    "df2.dtypes"
   ]
  },
  {
   "cell_type": "markdown",
   "metadata": {
    "deletable": true,
    "editable": true
   },
   "source": [
    "## 查看数据\n",
    "\n",
    "查看DataFrame中前几行和最后几行："
   ]
  },
  {
   "cell_type": "code",
   "execution_count": 11,
   "metadata": {
    "collapsed": false,
    "deletable": true,
    "editable": true
   },
   "outputs": [
    {
     "data": {
      "text/html": [
       "<div>\n",
       "<table border=\"1\" class=\"dataframe\">\n",
       "  <thead>\n",
       "    <tr style=\"text-align: right;\">\n",
       "      <th></th>\n",
       "      <th>A</th>\n",
       "      <th>B</th>\n",
       "      <th>C</th>\n",
       "      <th>D</th>\n",
       "    </tr>\n",
       "  </thead>\n",
       "  <tbody>\n",
       "    <tr>\n",
       "      <th>2016-01-01</th>\n",
       "      <td>-1.010297</td>\n",
       "      <td>0.696287</td>\n",
       "      <td>1.581958</td>\n",
       "      <td>0.570403</td>\n",
       "    </tr>\n",
       "    <tr>\n",
       "      <th>2016-01-02</th>\n",
       "      <td>0.987048</td>\n",
       "      <td>-1.886653</td>\n",
       "      <td>0.996055</td>\n",
       "      <td>0.166742</td>\n",
       "    </tr>\n",
       "    <tr>\n",
       "      <th>2016-01-03</th>\n",
       "      <td>0.231736</td>\n",
       "      <td>1.205385</td>\n",
       "      <td>0.234630</td>\n",
       "      <td>0.660184</td>\n",
       "    </tr>\n",
       "    <tr>\n",
       "      <th>2016-01-04</th>\n",
       "      <td>-1.619384</td>\n",
       "      <td>0.698944</td>\n",
       "      <td>0.333947</td>\n",
       "      <td>-0.726975</td>\n",
       "    </tr>\n",
       "    <tr>\n",
       "      <th>2016-01-05</th>\n",
       "      <td>-0.108619</td>\n",
       "      <td>0.330310</td>\n",
       "      <td>0.750473</td>\n",
       "      <td>2.773949</td>\n",
       "    </tr>\n",
       "  </tbody>\n",
       "</table>\n",
       "</div>"
      ],
      "text/plain": [
       "                   A         B         C         D\n",
       "2016-01-01 -1.010297  0.696287  1.581958  0.570403\n",
       "2016-01-02  0.987048 -1.886653  0.996055  0.166742\n",
       "2016-01-03  0.231736  1.205385  0.234630  0.660184\n",
       "2016-01-04 -1.619384  0.698944  0.333947 -0.726975\n",
       "2016-01-05 -0.108619  0.330310  0.750473  2.773949"
      ]
     },
     "execution_count": 11,
     "metadata": {},
     "output_type": "execute_result"
    }
   ],
   "source": [
    "df.head()"
   ]
  },
  {
   "cell_type": "code",
   "execution_count": 12,
   "metadata": {
    "collapsed": false,
    "deletable": true,
    "editable": true
   },
   "outputs": [
    {
     "data": {
      "text/html": [
       "<div>\n",
       "<table border=\"1\" class=\"dataframe\">\n",
       "  <thead>\n",
       "    <tr style=\"text-align: right;\">\n",
       "      <th></th>\n",
       "      <th>A</th>\n",
       "      <th>B</th>\n",
       "      <th>C</th>\n",
       "      <th>D</th>\n",
       "    </tr>\n",
       "  </thead>\n",
       "  <tbody>\n",
       "    <tr>\n",
       "      <th>2016-01-04</th>\n",
       "      <td>-1.619384</td>\n",
       "      <td>0.698944</td>\n",
       "      <td>0.333947</td>\n",
       "      <td>-0.726975</td>\n",
       "    </tr>\n",
       "    <tr>\n",
       "      <th>2016-01-05</th>\n",
       "      <td>-0.108619</td>\n",
       "      <td>0.330310</td>\n",
       "      <td>0.750473</td>\n",
       "      <td>2.773949</td>\n",
       "    </tr>\n",
       "    <tr>\n",
       "      <th>2016-01-06</th>\n",
       "      <td>-0.043439</td>\n",
       "      <td>-0.863584</td>\n",
       "      <td>1.104039</td>\n",
       "      <td>-1.966649</td>\n",
       "    </tr>\n",
       "  </tbody>\n",
       "</table>\n",
       "</div>"
      ],
      "text/plain": [
       "                   A         B         C         D\n",
       "2016-01-04 -1.619384  0.698944  0.333947 -0.726975\n",
       "2016-01-05 -0.108619  0.330310  0.750473  2.773949\n",
       "2016-01-06 -0.043439 -0.863584  1.104039 -1.966649"
      ]
     },
     "execution_count": 12,
     "metadata": {},
     "output_type": "execute_result"
    }
   ],
   "source": [
    "df.tail(3)"
   ]
  },
  {
   "cell_type": "markdown",
   "metadata": {
    "deletable": true,
    "editable": true
   },
   "source": [
    "显示index，columns以及底层的numpy数据："
   ]
  },
  {
   "cell_type": "code",
   "execution_count": 13,
   "metadata": {
    "collapsed": false,
    "deletable": true,
    "editable": true
   },
   "outputs": [
    {
     "data": {
      "text/plain": [
       "DatetimeIndex(['2016-01-01', '2016-01-02', '2016-01-03', '2016-01-04',\n",
       "               '2016-01-05', '2016-01-06'],\n",
       "              dtype='datetime64[ns]', freq='D')"
      ]
     },
     "execution_count": 13,
     "metadata": {},
     "output_type": "execute_result"
    }
   ],
   "source": [
    "df.index"
   ]
  },
  {
   "cell_type": "code",
   "execution_count": 14,
   "metadata": {
    "collapsed": false,
    "deletable": true,
    "editable": true
   },
   "outputs": [
    {
     "data": {
      "text/plain": [
       "Index([u'A', u'B', u'C', u'D'], dtype='object')"
      ]
     },
     "execution_count": 14,
     "metadata": {},
     "output_type": "execute_result"
    }
   ],
   "source": [
    "df.columns"
   ]
  },
  {
   "cell_type": "code",
   "execution_count": 15,
   "metadata": {
    "collapsed": false,
    "deletable": true,
    "editable": true
   },
   "outputs": [
    {
     "data": {
      "text/plain": [
       "array([[-1.01029681,  0.69628715,  1.58195759,  0.57040348],\n",
       "       [ 0.98704841, -1.88665261,  0.99605479,  0.1667424 ],\n",
       "       [ 0.23173557,  1.20538498,  0.23463005,  0.66018443],\n",
       "       [-1.61938431,  0.69894436,  0.33394681, -0.72697456],\n",
       "       [-0.10861947,  0.33030997,  0.75047258,  2.77394869],\n",
       "       [-0.04343913, -0.86358449,  1.10403867, -1.96664921]])"
      ]
     },
     "execution_count": 15,
     "metadata": {},
     "output_type": "execute_result"
    }
   ],
   "source": [
    "df.values"
   ]
  },
  {
   "cell_type": "markdown",
   "metadata": {
    "deletable": true,
    "editable": true
   },
   "source": [
    "describe()方法能对数据做一个快速统计汇总:"
   ]
  },
  {
   "cell_type": "code",
   "execution_count": 16,
   "metadata": {
    "collapsed": false,
    "deletable": true,
    "editable": true
   },
   "outputs": [
    {
     "data": {
      "text/html": [
       "<div>\n",
       "<table border=\"1\" class=\"dataframe\">\n",
       "  <thead>\n",
       "    <tr style=\"text-align: right;\">\n",
       "      <th></th>\n",
       "      <th>A</th>\n",
       "      <th>B</th>\n",
       "      <th>C</th>\n",
       "      <th>D</th>\n",
       "    </tr>\n",
       "  </thead>\n",
       "  <tbody>\n",
       "    <tr>\n",
       "      <th>count</th>\n",
       "      <td>6.000000</td>\n",
       "      <td>6.000000</td>\n",
       "      <td>6.000000</td>\n",
       "      <td>6.000000</td>\n",
       "    </tr>\n",
       "    <tr>\n",
       "      <th>mean</th>\n",
       "      <td>-0.260493</td>\n",
       "      <td>0.030115</td>\n",
       "      <td>0.833517</td>\n",
       "      <td>0.246276</td>\n",
       "    </tr>\n",
       "    <tr>\n",
       "      <th>std</th>\n",
       "      <td>0.924945</td>\n",
       "      <td>1.169204</td>\n",
       "      <td>0.504955</td>\n",
       "      <td>1.582156</td>\n",
       "    </tr>\n",
       "    <tr>\n",
       "      <th>min</th>\n",
       "      <td>-1.619384</td>\n",
       "      <td>-1.886653</td>\n",
       "      <td>0.234630</td>\n",
       "      <td>-1.966649</td>\n",
       "    </tr>\n",
       "    <tr>\n",
       "      <th>25%</th>\n",
       "      <td>-0.784877</td>\n",
       "      <td>-0.565111</td>\n",
       "      <td>0.438078</td>\n",
       "      <td>-0.503545</td>\n",
       "    </tr>\n",
       "    <tr>\n",
       "      <th>50%</th>\n",
       "      <td>-0.076029</td>\n",
       "      <td>0.513299</td>\n",
       "      <td>0.873264</td>\n",
       "      <td>0.368573</td>\n",
       "    </tr>\n",
       "    <tr>\n",
       "      <th>75%</th>\n",
       "      <td>0.162942</td>\n",
       "      <td>0.698280</td>\n",
       "      <td>1.077043</td>\n",
       "      <td>0.637739</td>\n",
       "    </tr>\n",
       "    <tr>\n",
       "      <th>max</th>\n",
       "      <td>0.987048</td>\n",
       "      <td>1.205385</td>\n",
       "      <td>1.581958</td>\n",
       "      <td>2.773949</td>\n",
       "    </tr>\n",
       "  </tbody>\n",
       "</table>\n",
       "</div>"
      ],
      "text/plain": [
       "              A         B         C         D\n",
       "count  6.000000  6.000000  6.000000  6.000000\n",
       "mean  -0.260493  0.030115  0.833517  0.246276\n",
       "std    0.924945  1.169204  0.504955  1.582156\n",
       "min   -1.619384 -1.886653  0.234630 -1.966649\n",
       "25%   -0.784877 -0.565111  0.438078 -0.503545\n",
       "50%   -0.076029  0.513299  0.873264  0.368573\n",
       "75%    0.162942  0.698280  1.077043  0.637739\n",
       "max    0.987048  1.205385  1.581958  2.773949"
      ]
     },
     "execution_count": 16,
     "metadata": {},
     "output_type": "execute_result"
    }
   ],
   "source": [
    "df.describe()"
   ]
  },
  {
   "cell_type": "markdown",
   "metadata": {},
   "source": [
    "对数据进行转置："
   ]
  },
  {
   "cell_type": "code",
   "execution_count": 17,
   "metadata": {
    "collapsed": false,
    "deletable": true,
    "editable": true
   },
   "outputs": [
    {
     "data": {
      "text/html": [
       "<div>\n",
       "<table border=\"1\" class=\"dataframe\">\n",
       "  <thead>\n",
       "    <tr style=\"text-align: right;\">\n",
       "      <th></th>\n",
       "      <th>2016-01-01 00:00:00</th>\n",
       "      <th>2016-01-02 00:00:00</th>\n",
       "      <th>2016-01-03 00:00:00</th>\n",
       "      <th>2016-01-04 00:00:00</th>\n",
       "      <th>2016-01-05 00:00:00</th>\n",
       "      <th>2016-01-06 00:00:00</th>\n",
       "    </tr>\n",
       "  </thead>\n",
       "  <tbody>\n",
       "    <tr>\n",
       "      <th>A</th>\n",
       "      <td>-1.010297</td>\n",
       "      <td>0.987048</td>\n",
       "      <td>0.231736</td>\n",
       "      <td>-1.619384</td>\n",
       "      <td>-0.108619</td>\n",
       "      <td>-0.043439</td>\n",
       "    </tr>\n",
       "    <tr>\n",
       "      <th>B</th>\n",
       "      <td>0.696287</td>\n",
       "      <td>-1.886653</td>\n",
       "      <td>1.205385</td>\n",
       "      <td>0.698944</td>\n",
       "      <td>0.330310</td>\n",
       "      <td>-0.863584</td>\n",
       "    </tr>\n",
       "    <tr>\n",
       "      <th>C</th>\n",
       "      <td>1.581958</td>\n",
       "      <td>0.996055</td>\n",
       "      <td>0.234630</td>\n",
       "      <td>0.333947</td>\n",
       "      <td>0.750473</td>\n",
       "      <td>1.104039</td>\n",
       "    </tr>\n",
       "    <tr>\n",
       "      <th>D</th>\n",
       "      <td>0.570403</td>\n",
       "      <td>0.166742</td>\n",
       "      <td>0.660184</td>\n",
       "      <td>-0.726975</td>\n",
       "      <td>2.773949</td>\n",
       "      <td>-1.966649</td>\n",
       "    </tr>\n",
       "  </tbody>\n",
       "</table>\n",
       "</div>"
      ],
      "text/plain": [
       "   2016-01-01  2016-01-02  2016-01-03  2016-01-04  2016-01-05  2016-01-06\n",
       "A   -1.010297    0.987048    0.231736   -1.619384   -0.108619   -0.043439\n",
       "B    0.696287   -1.886653    1.205385    0.698944    0.330310   -0.863584\n",
       "C    1.581958    0.996055    0.234630    0.333947    0.750473    1.104039\n",
       "D    0.570403    0.166742    0.660184   -0.726975    2.773949   -1.966649"
      ]
     },
     "execution_count": 17,
     "metadata": {},
     "output_type": "execute_result"
    }
   ],
   "source": [
    "df.T"
   ]
  },
  {
   "cell_type": "markdown",
   "metadata": {
    "deletable": true,
    "editable": true
   },
   "source": [
    "按某一坐标轴进行排序："
   ]
  },
  {
   "cell_type": "code",
   "execution_count": 18,
   "metadata": {
    "collapsed": false,
    "deletable": true,
    "editable": true
   },
   "outputs": [
    {
     "data": {
      "text/html": [
       "<div>\n",
       "<table border=\"1\" class=\"dataframe\">\n",
       "  <thead>\n",
       "    <tr style=\"text-align: right;\">\n",
       "      <th></th>\n",
       "      <th>D</th>\n",
       "      <th>C</th>\n",
       "      <th>B</th>\n",
       "      <th>A</th>\n",
       "    </tr>\n",
       "  </thead>\n",
       "  <tbody>\n",
       "    <tr>\n",
       "      <th>2016-01-01</th>\n",
       "      <td>0.570403</td>\n",
       "      <td>1.581958</td>\n",
       "      <td>0.696287</td>\n",
       "      <td>-1.010297</td>\n",
       "    </tr>\n",
       "    <tr>\n",
       "      <th>2016-01-02</th>\n",
       "      <td>0.166742</td>\n",
       "      <td>0.996055</td>\n",
       "      <td>-1.886653</td>\n",
       "      <td>0.987048</td>\n",
       "    </tr>\n",
       "    <tr>\n",
       "      <th>2016-01-03</th>\n",
       "      <td>0.660184</td>\n",
       "      <td>0.234630</td>\n",
       "      <td>1.205385</td>\n",
       "      <td>0.231736</td>\n",
       "    </tr>\n",
       "    <tr>\n",
       "      <th>2016-01-04</th>\n",
       "      <td>-0.726975</td>\n",
       "      <td>0.333947</td>\n",
       "      <td>0.698944</td>\n",
       "      <td>-1.619384</td>\n",
       "    </tr>\n",
       "    <tr>\n",
       "      <th>2016-01-05</th>\n",
       "      <td>2.773949</td>\n",
       "      <td>0.750473</td>\n",
       "      <td>0.330310</td>\n",
       "      <td>-0.108619</td>\n",
       "    </tr>\n",
       "    <tr>\n",
       "      <th>2016-01-06</th>\n",
       "      <td>-1.966649</td>\n",
       "      <td>1.104039</td>\n",
       "      <td>-0.863584</td>\n",
       "      <td>-0.043439</td>\n",
       "    </tr>\n",
       "  </tbody>\n",
       "</table>\n",
       "</div>"
      ],
      "text/plain": [
       "                   D         C         B         A\n",
       "2016-01-01  0.570403  1.581958  0.696287 -1.010297\n",
       "2016-01-02  0.166742  0.996055 -1.886653  0.987048\n",
       "2016-01-03  0.660184  0.234630  1.205385  0.231736\n",
       "2016-01-04 -0.726975  0.333947  0.698944 -1.619384\n",
       "2016-01-05  2.773949  0.750473  0.330310 -0.108619\n",
       "2016-01-06 -1.966649  1.104039 -0.863584 -0.043439"
      ]
     },
     "execution_count": 18,
     "metadata": {},
     "output_type": "execute_result"
    }
   ],
   "source": [
    "df.sort_index(axis=1,ascending=False)"
   ]
  },
  {
   "cell_type": "markdown",
   "metadata": {
    "deletable": true,
    "editable": true
   },
   "source": [
    "按值进行排序："
   ]
  },
  {
   "cell_type": "code",
   "execution_count": 19,
   "metadata": {
    "collapsed": false
   },
   "outputs": [
    {
     "data": {
      "text/html": [
       "<div>\n",
       "<table border=\"1\" class=\"dataframe\">\n",
       "  <thead>\n",
       "    <tr style=\"text-align: right;\">\n",
       "      <th></th>\n",
       "      <th>A</th>\n",
       "      <th>B</th>\n",
       "      <th>C</th>\n",
       "      <th>D</th>\n",
       "    </tr>\n",
       "  </thead>\n",
       "  <tbody>\n",
       "    <tr>\n",
       "      <th>2016-01-02</th>\n",
       "      <td>0.987048</td>\n",
       "      <td>-1.886653</td>\n",
       "      <td>0.996055</td>\n",
       "      <td>0.166742</td>\n",
       "    </tr>\n",
       "    <tr>\n",
       "      <th>2016-01-06</th>\n",
       "      <td>-0.043439</td>\n",
       "      <td>-0.863584</td>\n",
       "      <td>1.104039</td>\n",
       "      <td>-1.966649</td>\n",
       "    </tr>\n",
       "    <tr>\n",
       "      <th>2016-01-05</th>\n",
       "      <td>-0.108619</td>\n",
       "      <td>0.330310</td>\n",
       "      <td>0.750473</td>\n",
       "      <td>2.773949</td>\n",
       "    </tr>\n",
       "    <tr>\n",
       "      <th>2016-01-01</th>\n",
       "      <td>-1.010297</td>\n",
       "      <td>0.696287</td>\n",
       "      <td>1.581958</td>\n",
       "      <td>0.570403</td>\n",
       "    </tr>\n",
       "    <tr>\n",
       "      <th>2016-01-04</th>\n",
       "      <td>-1.619384</td>\n",
       "      <td>0.698944</td>\n",
       "      <td>0.333947</td>\n",
       "      <td>-0.726975</td>\n",
       "    </tr>\n",
       "    <tr>\n",
       "      <th>2016-01-03</th>\n",
       "      <td>0.231736</td>\n",
       "      <td>1.205385</td>\n",
       "      <td>0.234630</td>\n",
       "      <td>0.660184</td>\n",
       "    </tr>\n",
       "  </tbody>\n",
       "</table>\n",
       "</div>"
      ],
      "text/plain": [
       "                   A         B         C         D\n",
       "2016-01-02  0.987048 -1.886653  0.996055  0.166742\n",
       "2016-01-06 -0.043439 -0.863584  1.104039 -1.966649\n",
       "2016-01-05 -0.108619  0.330310  0.750473  2.773949\n",
       "2016-01-01 -1.010297  0.696287  1.581958  0.570403\n",
       "2016-01-04 -1.619384  0.698944  0.333947 -0.726975\n",
       "2016-01-03  0.231736  1.205385  0.234630  0.660184"
      ]
     },
     "execution_count": 19,
     "metadata": {},
     "output_type": "execute_result"
    }
   ],
   "source": [
    "df.sort_values(by='B')"
   ]
  },
  {
   "cell_type": "markdown",
   "metadata": {
    "deletable": true,
    "editable": true
   },
   "source": [
    "## 数据选择\n",
    "\n",
    "注意：虽然标准的Python/Numpy的表达式能完成选择与赋值等功能，但我们仍推荐使用优化过的pandas数据访问方法：.at，.iat，.loc，.iloc和.ix\n",
    "\n",
    "### 选取\n",
    "\n",
    "选择某一列数据，它会返回一个Series，等同于df.A："
   ]
  },
  {
   "cell_type": "code",
   "execution_count": 16,
   "metadata": {
    "collapsed": false,
    "deletable": true,
    "editable": true
   },
   "outputs": [
    {
     "data": {
      "text/plain": [
       "2013-01-01    0.702633\n",
       "2013-01-02   -0.662246\n",
       "2013-01-03   -0.341566\n",
       "2013-01-04    0.486240\n",
       "2013-01-05    0.173729\n",
       "2013-01-06   -0.972961\n",
       "Freq: D, Name: A, dtype: float64"
      ]
     },
     "execution_count": 16,
     "metadata": {},
     "output_type": "execute_result"
    }
   ],
   "source": [
    "df['A']"
   ]
  },
  {
   "cell_type": "markdown",
   "metadata": {
    "deletable": true,
    "editable": true
   },
   "source": [
    "使用[]，对行进行切片选取："
   ]
  },
  {
   "cell_type": "code",
   "execution_count": 24,
   "metadata": {
    "collapsed": false,
    "deletable": true,
    "editable": true
   },
   "outputs": [
    {
     "data": {
      "text/html": [
       "<div>\n",
       "<table border=\"1\" class=\"dataframe\">\n",
       "  <thead>\n",
       "    <tr style=\"text-align: right;\">\n",
       "      <th></th>\n",
       "      <th>A</th>\n",
       "      <th>B</th>\n",
       "      <th>C</th>\n",
       "      <th>D</th>\n",
       "    </tr>\n",
       "  </thead>\n",
       "  <tbody>\n",
       "    <tr>\n",
       "      <th>2016-01-01</th>\n",
       "      <td>-1.010297</td>\n",
       "      <td>0.696287</td>\n",
       "      <td>1.581958</td>\n",
       "      <td>0.570403</td>\n",
       "    </tr>\n",
       "    <tr>\n",
       "      <th>2016-01-02</th>\n",
       "      <td>0.987048</td>\n",
       "      <td>-1.886653</td>\n",
       "      <td>0.996055</td>\n",
       "      <td>0.166742</td>\n",
       "    </tr>\n",
       "    <tr>\n",
       "      <th>2016-01-03</th>\n",
       "      <td>0.231736</td>\n",
       "      <td>1.205385</td>\n",
       "      <td>0.234630</td>\n",
       "      <td>0.660184</td>\n",
       "    </tr>\n",
       "  </tbody>\n",
       "</table>\n",
       "</div>"
      ],
      "text/plain": [
       "                   A         B         C         D\n",
       "2016-01-01 -1.010297  0.696287  1.581958  0.570403\n",
       "2016-01-02  0.987048 -1.886653  0.996055  0.166742\n",
       "2016-01-03  0.231736  1.205385  0.234630  0.660184"
      ]
     },
     "execution_count": 24,
     "metadata": {},
     "output_type": "execute_result"
    }
   ],
   "source": [
    "df[0:3] # 选取范围是[)，前闭合，后开"
   ]
  },
  {
   "cell_type": "code",
   "execution_count": 25,
   "metadata": {
    "collapsed": false,
    "deletable": true,
    "editable": true
   },
   "outputs": [
    {
     "data": {
      "text/html": [
       "<div>\n",
       "<table border=\"1\" class=\"dataframe\">\n",
       "  <thead>\n",
       "    <tr style=\"text-align: right;\">\n",
       "      <th></th>\n",
       "      <th>A</th>\n",
       "      <th>B</th>\n",
       "      <th>C</th>\n",
       "      <th>D</th>\n",
       "    </tr>\n",
       "  </thead>\n",
       "  <tbody>\n",
       "    <tr>\n",
       "      <th>2016-01-02</th>\n",
       "      <td>0.987048</td>\n",
       "      <td>-1.886653</td>\n",
       "      <td>0.996055</td>\n",
       "      <td>0.166742</td>\n",
       "    </tr>\n",
       "    <tr>\n",
       "      <th>2016-01-03</th>\n",
       "      <td>0.231736</td>\n",
       "      <td>1.205385</td>\n",
       "      <td>0.234630</td>\n",
       "      <td>0.660184</td>\n",
       "    </tr>\n",
       "    <tr>\n",
       "      <th>2016-01-04</th>\n",
       "      <td>-1.619384</td>\n",
       "      <td>0.698944</td>\n",
       "      <td>0.333947</td>\n",
       "      <td>-0.726975</td>\n",
       "    </tr>\n",
       "  </tbody>\n",
       "</table>\n",
       "</div>"
      ],
      "text/plain": [
       "                   A         B         C         D\n",
       "2016-01-02  0.987048 -1.886653  0.996055  0.166742\n",
       "2016-01-03  0.231736  1.205385  0.234630  0.660184\n",
       "2016-01-04 -1.619384  0.698944  0.333947 -0.726975"
      ]
     },
     "execution_count": 25,
     "metadata": {},
     "output_type": "execute_result"
    }
   ],
   "source": [
    "df['20160102':'20160104'] # 选取范围是[], 前闭合，后闭合"
   ]
  },
  {
   "cell_type": "markdown",
   "metadata": {
    "deletable": true,
    "editable": true
   },
   "source": [
    "### 通过标签选取\n",
    "\n",
    "通过标签进行交叉选取："
   ]
  },
  {
   "cell_type": "code",
   "execution_count": 19,
   "metadata": {
    "collapsed": false,
    "deletable": true,
    "editable": true
   },
   "outputs": [
    {
     "data": {
      "text/plain": [
       "A    0.702633\n",
       "B   -0.248319\n",
       "C   -0.677385\n",
       "D   -0.307803\n",
       "Name: 2013-01-01 00:00:00, dtype: float64"
      ]
     },
     "execution_count": 19,
     "metadata": {},
     "output_type": "execute_result"
    }
   ],
   "source": [
    "df.loc[dates[0]]"
   ]
  },
  {
   "cell_type": "markdown",
   "metadata": {
    "deletable": true,
    "editable": true
   },
   "source": [
    "使用标签对多个轴进行选取："
   ]
  },
  {
   "cell_type": "code",
   "execution_count": 20,
   "metadata": {
    "collapsed": false,
    "deletable": true,
    "editable": true
   },
   "outputs": [
    {
     "data": {
      "text/html": [
       "<div style=\"max-height:1000px;max-width:1500px;overflow:auto;\">\n",
       "<table border=\"1\" class=\"dataframe\">\n",
       "  <thead>\n",
       "    <tr style=\"text-align: right;\">\n",
       "      <th></th>\n",
       "      <th>A</th>\n",
       "      <th>B</th>\n",
       "    </tr>\n",
       "  </thead>\n",
       "  <tbody>\n",
       "    <tr>\n",
       "      <th>2013-01-01</th>\n",
       "      <td> 0.702633</td>\n",
       "      <td>-0.248319</td>\n",
       "    </tr>\n",
       "    <tr>\n",
       "      <th>2013-01-02</th>\n",
       "      <td>-0.662246</td>\n",
       "      <td>-0.029070</td>\n",
       "    </tr>\n",
       "    <tr>\n",
       "      <th>2013-01-03</th>\n",
       "      <td>-0.341566</td>\n",
       "      <td>-0.726115</td>\n",
       "    </tr>\n",
       "    <tr>\n",
       "      <th>2013-01-04</th>\n",
       "      <td> 0.486240</td>\n",
       "      <td> 1.190614</td>\n",
       "    </tr>\n",
       "    <tr>\n",
       "      <th>2013-01-05</th>\n",
       "      <td> 0.173729</td>\n",
       "      <td> 0.130515</td>\n",
       "    </tr>\n",
       "    <tr>\n",
       "      <th>2013-01-06</th>\n",
       "      <td>-0.972961</td>\n",
       "      <td> 0.743743</td>\n",
       "    </tr>\n",
       "  </tbody>\n",
       "</table>\n",
       "</div>"
      ],
      "text/plain": [
       "                   A         B\n",
       "2013-01-01  0.702633 -0.248319\n",
       "2013-01-02 -0.662246 -0.029070\n",
       "2013-01-03 -0.341566 -0.726115\n",
       "2013-01-04  0.486240  1.190614\n",
       "2013-01-05  0.173729  0.130515\n",
       "2013-01-06 -0.972961  0.743743"
      ]
     },
     "execution_count": 20,
     "metadata": {},
     "output_type": "execute_result"
    }
   ],
   "source": [
    "df.loc[:,['A','B']]"
   ]
  },
  {
   "cell_type": "markdown",
   "metadata": {
    "deletable": true,
    "editable": true
   },
   "source": [
    "进行标签切片，包含两个端点："
   ]
  },
  {
   "cell_type": "code",
   "execution_count": 21,
   "metadata": {
    "collapsed": false,
    "deletable": true,
    "editable": true
   },
   "outputs": [
    {
     "data": {
      "text/html": [
       "<div style=\"max-height:1000px;max-width:1500px;overflow:auto;\">\n",
       "<table border=\"1\" class=\"dataframe\">\n",
       "  <thead>\n",
       "    <tr style=\"text-align: right;\">\n",
       "      <th></th>\n",
       "      <th>A</th>\n",
       "      <th>B</th>\n",
       "    </tr>\n",
       "  </thead>\n",
       "  <tbody>\n",
       "    <tr>\n",
       "      <th>2013-01-02</th>\n",
       "      <td>-0.662246</td>\n",
       "      <td>-0.029070</td>\n",
       "    </tr>\n",
       "    <tr>\n",
       "      <th>2013-01-03</th>\n",
       "      <td>-0.341566</td>\n",
       "      <td>-0.726115</td>\n",
       "    </tr>\n",
       "    <tr>\n",
       "      <th>2013-01-04</th>\n",
       "      <td> 0.486240</td>\n",
       "      <td> 1.190614</td>\n",
       "    </tr>\n",
       "  </tbody>\n",
       "</table>\n",
       "</div>"
      ],
      "text/plain": [
       "                   A         B\n",
       "2013-01-02 -0.662246 -0.029070\n",
       "2013-01-03 -0.341566 -0.726115\n",
       "2013-01-04  0.486240  1.190614"
      ]
     },
     "execution_count": 21,
     "metadata": {},
     "output_type": "execute_result"
    }
   ],
   "source": [
    "df.loc['20130102':'20130104',['A','B']]"
   ]
  },
  {
   "cell_type": "markdown",
   "metadata": {
    "deletable": true,
    "editable": true
   },
   "source": [
    "对于返回的对象进行降维处理："
   ]
  },
  {
   "cell_type": "code",
   "execution_count": 22,
   "metadata": {
    "collapsed": false,
    "deletable": true,
    "editable": true
   },
   "outputs": [
    {
     "data": {
      "text/plain": [
       "A   -0.662246\n",
       "B   -0.029070\n",
       "Name: 2013-01-02 00:00:00, dtype: float64"
      ]
     },
     "execution_count": 22,
     "metadata": {},
     "output_type": "execute_result"
    }
   ],
   "source": [
    "df.loc['20130102',['A','B']]"
   ]
  },
  {
   "cell_type": "markdown",
   "metadata": {
    "deletable": true,
    "editable": true
   },
   "source": [
    "获取一个标量："
   ]
  },
  {
   "cell_type": "code",
   "execution_count": 23,
   "metadata": {
    "collapsed": false,
    "deletable": true,
    "editable": true
   },
   "outputs": [
    {
     "data": {
      "text/plain": [
       "0.70263274076420246"
      ]
     },
     "execution_count": 23,
     "metadata": {},
     "output_type": "execute_result"
    }
   ],
   "source": [
    "df.loc[dates[0],'A']"
   ]
  },
  {
   "cell_type": "markdown",
   "metadata": {
    "deletable": true,
    "editable": true
   },
   "source": [
    "快速获取一个标量（与上面方法等价）"
   ]
  },
  {
   "cell_type": "code",
   "execution_count": 24,
   "metadata": {
    "collapsed": false,
    "deletable": true,
    "editable": true
   },
   "outputs": [
    {
     "data": {
      "text/plain": [
       "0.70263274076420246"
      ]
     },
     "execution_count": 24,
     "metadata": {},
     "output_type": "execute_result"
    }
   ],
   "source": [
    "df.at[dates[0],'A']"
   ]
  },
  {
   "cell_type": "markdown",
   "metadata": {
    "deletable": true,
    "editable": true
   },
   "source": [
    "### 通过位置选取\n",
    "\n",
    "通过传递整型的位置进行选取"
   ]
  },
  {
   "cell_type": "code",
   "execution_count": 25,
   "metadata": {
    "collapsed": false,
    "deletable": true,
    "editable": true
   },
   "outputs": [
    {
     "data": {
      "text/plain": [
       "A    0.486240\n",
       "B    1.190614\n",
       "C    0.757092\n",
       "D   -0.736161\n",
       "Name: 2013-01-04 00:00:00, dtype: float64"
      ]
     },
     "execution_count": 25,
     "metadata": {},
     "output_type": "execute_result"
    }
   ],
   "source": [
    "df.iloc[3]"
   ]
  },
  {
   "cell_type": "markdown",
   "metadata": {
    "deletable": true,
    "editable": true
   },
   "source": [
    "通过整型的位置切片进行选取，与python/numpy形式相同"
   ]
  },
  {
   "cell_type": "code",
   "execution_count": 26,
   "metadata": {
    "collapsed": false,
    "deletable": true,
    "editable": true
   },
   "outputs": [
    {
     "data": {
      "text/html": [
       "<div style=\"max-height:1000px;max-width:1500px;overflow:auto;\">\n",
       "<table border=\"1\" class=\"dataframe\">\n",
       "  <thead>\n",
       "    <tr style=\"text-align: right;\">\n",
       "      <th></th>\n",
       "      <th>A</th>\n",
       "      <th>B</th>\n",
       "    </tr>\n",
       "  </thead>\n",
       "  <tbody>\n",
       "    <tr>\n",
       "      <th>2013-01-04</th>\n",
       "      <td> 0.486240</td>\n",
       "      <td> 1.190614</td>\n",
       "    </tr>\n",
       "    <tr>\n",
       "      <th>2013-01-05</th>\n",
       "      <td> 0.173729</td>\n",
       "      <td> 0.130515</td>\n",
       "    </tr>\n",
       "  </tbody>\n",
       "</table>\n",
       "</div>"
      ],
      "text/plain": [
       "                   A         B\n",
       "2013-01-04  0.486240  1.190614\n",
       "2013-01-05  0.173729  0.130515"
      ]
     },
     "execution_count": 26,
     "metadata": {},
     "output_type": "execute_result"
    }
   ],
   "source": [
    "df.iloc[3:5,0:2]"
   ]
  },
  {
   "cell_type": "markdown",
   "metadata": {
    "deletable": true,
    "editable": true
   },
   "source": [
    "只对行进行切片"
   ]
  },
  {
   "cell_type": "code",
   "execution_count": 27,
   "metadata": {
    "collapsed": false,
    "deletable": true,
    "editable": true
   },
   "outputs": [
    {
     "data": {
      "text/html": [
       "<div style=\"max-height:1000px;max-width:1500px;overflow:auto;\">\n",
       "<table border=\"1\" class=\"dataframe\">\n",
       "  <thead>\n",
       "    <tr style=\"text-align: right;\">\n",
       "      <th></th>\n",
       "      <th>A</th>\n",
       "      <th>B</th>\n",
       "      <th>C</th>\n",
       "      <th>D</th>\n",
       "    </tr>\n",
       "  </thead>\n",
       "  <tbody>\n",
       "    <tr>\n",
       "      <th>2013-01-02</th>\n",
       "      <td>-0.662246</td>\n",
       "      <td>-0.029070</td>\n",
       "      <td> 0.428587</td>\n",
       "      <td> 1.209935</td>\n",
       "    </tr>\n",
       "    <tr>\n",
       "      <th>2013-01-03</th>\n",
       "      <td>-0.341566</td>\n",
       "      <td>-0.726115</td>\n",
       "      <td> 0.494828</td>\n",
       "      <td>-0.313599</td>\n",
       "    </tr>\n",
       "  </tbody>\n",
       "</table>\n",
       "</div>"
      ],
      "text/plain": [
       "                   A         B         C         D\n",
       "2013-01-02 -0.662246 -0.029070  0.428587  1.209935\n",
       "2013-01-03 -0.341566 -0.726115  0.494828 -0.313599"
      ]
     },
     "execution_count": 27,
     "metadata": {},
     "output_type": "execute_result"
    }
   ],
   "source": [
    "df.iloc[1:3,:]"
   ]
  },
  {
   "cell_type": "markdown",
   "metadata": {
    "deletable": true,
    "editable": true
   },
   "source": [
    "只对列进行切片"
   ]
  },
  {
   "cell_type": "code",
   "execution_count": 28,
   "metadata": {
    "collapsed": false,
    "deletable": true,
    "editable": true
   },
   "outputs": [
    {
     "data": {
      "text/html": [
       "<div style=\"max-height:1000px;max-width:1500px;overflow:auto;\">\n",
       "<table border=\"1\" class=\"dataframe\">\n",
       "  <thead>\n",
       "    <tr style=\"text-align: right;\">\n",
       "      <th></th>\n",
       "      <th>B</th>\n",
       "      <th>C</th>\n",
       "    </tr>\n",
       "  </thead>\n",
       "  <tbody>\n",
       "    <tr>\n",
       "      <th>2013-01-01</th>\n",
       "      <td>-0.248319</td>\n",
       "      <td>-0.677385</td>\n",
       "    </tr>\n",
       "    <tr>\n",
       "      <th>2013-01-02</th>\n",
       "      <td>-0.029070</td>\n",
       "      <td> 0.428587</td>\n",
       "    </tr>\n",
       "    <tr>\n",
       "      <th>2013-01-03</th>\n",
       "      <td>-0.726115</td>\n",
       "      <td> 0.494828</td>\n",
       "    </tr>\n",
       "    <tr>\n",
       "      <th>2013-01-04</th>\n",
       "      <td> 1.190614</td>\n",
       "      <td> 0.757092</td>\n",
       "    </tr>\n",
       "    <tr>\n",
       "      <th>2013-01-05</th>\n",
       "      <td> 0.130515</td>\n",
       "      <td> 0.057717</td>\n",
       "    </tr>\n",
       "    <tr>\n",
       "      <th>2013-01-06</th>\n",
       "      <td> 0.743743</td>\n",
       "      <td>-0.640023</td>\n",
       "    </tr>\n",
       "  </tbody>\n",
       "</table>\n",
       "</div>"
      ],
      "text/plain": [
       "                   B         C\n",
       "2013-01-01 -0.248319 -0.677385\n",
       "2013-01-02 -0.029070  0.428587\n",
       "2013-01-03 -0.726115  0.494828\n",
       "2013-01-04  1.190614  0.757092\n",
       "2013-01-05  0.130515  0.057717\n",
       "2013-01-06  0.743743 -0.640023"
      ]
     },
     "execution_count": 28,
     "metadata": {},
     "output_type": "execute_result"
    }
   ],
   "source": [
    "df.iloc[:,1:3]"
   ]
  },
  {
   "cell_type": "markdown",
   "metadata": {
    "deletable": true,
    "editable": true
   },
   "source": [
    "只获取某个值"
   ]
  },
  {
   "cell_type": "code",
   "execution_count": 29,
   "metadata": {
    "collapsed": false,
    "deletable": true,
    "editable": true
   },
   "outputs": [
    {
     "data": {
      "text/plain": [
       "-0.029070112494956581"
      ]
     },
     "execution_count": 29,
     "metadata": {},
     "output_type": "execute_result"
    }
   ],
   "source": [
    "df.iloc[1,1]"
   ]
  },
  {
   "cell_type": "markdown",
   "metadata": {
    "deletable": true,
    "editable": true
   },
   "source": [
    "快速获取某个值（与上面的方法等价）"
   ]
  },
  {
   "cell_type": "code",
   "execution_count": 30,
   "metadata": {
    "collapsed": false,
    "deletable": true,
    "editable": true
   },
   "outputs": [
    {
     "data": {
      "text/plain": [
       "-0.029070112494956581"
      ]
     },
     "execution_count": 30,
     "metadata": {},
     "output_type": "execute_result"
    }
   ],
   "source": [
    "df.iat[1,1]"
   ]
  },
  {
   "cell_type": "markdown",
   "metadata": {
    "deletable": true,
    "editable": true
   },
   "source": [
    "### 布尔索引\n",
    "\n",
    "用某列的值来选取数据"
   ]
  },
  {
   "cell_type": "code",
   "execution_count": 31,
   "metadata": {
    "collapsed": false,
    "deletable": true,
    "editable": true
   },
   "outputs": [
    {
     "data": {
      "text/html": [
       "<div style=\"max-height:1000px;max-width:1500px;overflow:auto;\">\n",
       "<table border=\"1\" class=\"dataframe\">\n",
       "  <thead>\n",
       "    <tr style=\"text-align: right;\">\n",
       "      <th></th>\n",
       "      <th>A</th>\n",
       "      <th>B</th>\n",
       "      <th>C</th>\n",
       "      <th>D</th>\n",
       "    </tr>\n",
       "  </thead>\n",
       "  <tbody>\n",
       "    <tr>\n",
       "      <th>2013-01-01</th>\n",
       "      <td> 0.702633</td>\n",
       "      <td>-0.248319</td>\n",
       "      <td>-0.677385</td>\n",
       "      <td>-0.307803</td>\n",
       "    </tr>\n",
       "    <tr>\n",
       "      <th>2013-01-04</th>\n",
       "      <td> 0.486240</td>\n",
       "      <td> 1.190614</td>\n",
       "      <td> 0.757092</td>\n",
       "      <td>-0.736161</td>\n",
       "    </tr>\n",
       "    <tr>\n",
       "      <th>2013-01-05</th>\n",
       "      <td> 0.173729</td>\n",
       "      <td> 0.130515</td>\n",
       "      <td> 0.057717</td>\n",
       "      <td> 0.082774</td>\n",
       "    </tr>\n",
       "  </tbody>\n",
       "</table>\n",
       "</div>"
      ],
      "text/plain": [
       "                   A         B         C         D\n",
       "2013-01-01  0.702633 -0.248319 -0.677385 -0.307803\n",
       "2013-01-04  0.486240  1.190614  0.757092 -0.736161\n",
       "2013-01-05  0.173729  0.130515  0.057717  0.082774"
      ]
     },
     "execution_count": 31,
     "metadata": {},
     "output_type": "execute_result"
    }
   ],
   "source": [
    "df[df.A > 0]"
   ]
  },
  {
   "cell_type": "markdown",
   "metadata": {
    "deletable": true,
    "editable": true
   },
   "source": [
    "用where操作来选取数据"
   ]
  },
  {
   "cell_type": "code",
   "execution_count": 32,
   "metadata": {
    "collapsed": false,
    "deletable": true,
    "editable": true
   },
   "outputs": [
    {
     "data": {
      "text/html": [
       "<div style=\"max-height:1000px;max-width:1500px;overflow:auto;\">\n",
       "<table border=\"1\" class=\"dataframe\">\n",
       "  <thead>\n",
       "    <tr style=\"text-align: right;\">\n",
       "      <th></th>\n",
       "      <th>A</th>\n",
       "      <th>B</th>\n",
       "      <th>C</th>\n",
       "      <th>D</th>\n",
       "    </tr>\n",
       "  </thead>\n",
       "  <tbody>\n",
       "    <tr>\n",
       "      <th>2013-01-01</th>\n",
       "      <td> 0.702633</td>\n",
       "      <td>      NaN</td>\n",
       "      <td>      NaN</td>\n",
       "      <td>      NaN</td>\n",
       "    </tr>\n",
       "    <tr>\n",
       "      <th>2013-01-02</th>\n",
       "      <td>      NaN</td>\n",
       "      <td>      NaN</td>\n",
       "      <td> 0.428587</td>\n",
       "      <td> 1.209935</td>\n",
       "    </tr>\n",
       "    <tr>\n",
       "      <th>2013-01-03</th>\n",
       "      <td>      NaN</td>\n",
       "      <td>      NaN</td>\n",
       "      <td> 0.494828</td>\n",
       "      <td>      NaN</td>\n",
       "    </tr>\n",
       "    <tr>\n",
       "      <th>2013-01-04</th>\n",
       "      <td> 0.486240</td>\n",
       "      <td> 1.190614</td>\n",
       "      <td> 0.757092</td>\n",
       "      <td>      NaN</td>\n",
       "    </tr>\n",
       "    <tr>\n",
       "      <th>2013-01-05</th>\n",
       "      <td> 0.173729</td>\n",
       "      <td> 0.130515</td>\n",
       "      <td> 0.057717</td>\n",
       "      <td> 0.082774</td>\n",
       "    </tr>\n",
       "    <tr>\n",
       "      <th>2013-01-06</th>\n",
       "      <td>      NaN</td>\n",
       "      <td> 0.743743</td>\n",
       "      <td>      NaN</td>\n",
       "      <td> 0.600814</td>\n",
       "    </tr>\n",
       "  </tbody>\n",
       "</table>\n",
       "</div>"
      ],
      "text/plain": [
       "                   A         B         C         D\n",
       "2013-01-01  0.702633       NaN       NaN       NaN\n",
       "2013-01-02       NaN       NaN  0.428587  1.209935\n",
       "2013-01-03       NaN       NaN  0.494828       NaN\n",
       "2013-01-04  0.486240  1.190614  0.757092       NaN\n",
       "2013-01-05  0.173729  0.130515  0.057717  0.082774\n",
       "2013-01-06       NaN  0.743743       NaN  0.600814"
      ]
     },
     "execution_count": 32,
     "metadata": {},
     "output_type": "execute_result"
    }
   ],
   "source": [
    "df[df > 0]"
   ]
  },
  {
   "cell_type": "markdown",
   "metadata": {
    "deletable": true,
    "editable": true
   },
   "source": [
    "用isin()方法来过滤数据"
   ]
  },
  {
   "cell_type": "code",
   "execution_count": 35,
   "metadata": {
    "collapsed": true,
    "deletable": true,
    "editable": true
   },
   "outputs": [],
   "source": [
    "df2 = df.copy()"
   ]
  },
  {
   "cell_type": "code",
   "execution_count": 36,
   "metadata": {
    "collapsed": false,
    "deletable": true,
    "editable": true
   },
   "outputs": [
    {
     "data": {
      "text/html": [
       "<div style=\"max-height:1000px;max-width:1500px;overflow:auto;\">\n",
       "<table border=\"1\" class=\"dataframe\">\n",
       "  <thead>\n",
       "    <tr style=\"text-align: right;\">\n",
       "      <th></th>\n",
       "      <th>A</th>\n",
       "      <th>B</th>\n",
       "      <th>C</th>\n",
       "      <th>D</th>\n",
       "      <th>E</th>\n",
       "    </tr>\n",
       "  </thead>\n",
       "  <tbody>\n",
       "    <tr>\n",
       "      <th>2013-01-01</th>\n",
       "      <td> 0.702633</td>\n",
       "      <td>-0.248319</td>\n",
       "      <td>-0.677385</td>\n",
       "      <td>-0.307803</td>\n",
       "      <td>   one</td>\n",
       "    </tr>\n",
       "    <tr>\n",
       "      <th>2013-01-02</th>\n",
       "      <td>-0.662246</td>\n",
       "      <td>-0.029070</td>\n",
       "      <td> 0.428587</td>\n",
       "      <td> 1.209935</td>\n",
       "      <td>   one</td>\n",
       "    </tr>\n",
       "    <tr>\n",
       "      <th>2013-01-03</th>\n",
       "      <td>-0.341566</td>\n",
       "      <td>-0.726115</td>\n",
       "      <td> 0.494828</td>\n",
       "      <td>-0.313599</td>\n",
       "      <td>   two</td>\n",
       "    </tr>\n",
       "    <tr>\n",
       "      <th>2013-01-04</th>\n",
       "      <td> 0.486240</td>\n",
       "      <td> 1.190614</td>\n",
       "      <td> 0.757092</td>\n",
       "      <td>-0.736161</td>\n",
       "      <td> three</td>\n",
       "    </tr>\n",
       "    <tr>\n",
       "      <th>2013-01-05</th>\n",
       "      <td> 0.173729</td>\n",
       "      <td> 0.130515</td>\n",
       "      <td> 0.057717</td>\n",
       "      <td> 0.082774</td>\n",
       "      <td>  four</td>\n",
       "    </tr>\n",
       "    <tr>\n",
       "      <th>2013-01-06</th>\n",
       "      <td>-0.972961</td>\n",
       "      <td> 0.743743</td>\n",
       "      <td>-0.640023</td>\n",
       "      <td> 0.600814</td>\n",
       "      <td> three</td>\n",
       "    </tr>\n",
       "  </tbody>\n",
       "</table>\n",
       "</div>"
      ],
      "text/plain": [
       "                   A         B         C         D      E\n",
       "2013-01-01  0.702633 -0.248319 -0.677385 -0.307803    one\n",
       "2013-01-02 -0.662246 -0.029070  0.428587  1.209935    one\n",
       "2013-01-03 -0.341566 -0.726115  0.494828 -0.313599    two\n",
       "2013-01-04  0.486240  1.190614  0.757092 -0.736161  three\n",
       "2013-01-05  0.173729  0.130515  0.057717  0.082774   four\n",
       "2013-01-06 -0.972961  0.743743 -0.640023  0.600814  three"
      ]
     },
     "execution_count": 36,
     "metadata": {},
     "output_type": "execute_result"
    }
   ],
   "source": [
    "df2['E'] = ['one','one','two','three','four','three']\n",
    "df2"
   ]
  },
  {
   "cell_type": "code",
   "execution_count": 37,
   "metadata": {
    "collapsed": false,
    "deletable": true,
    "editable": true
   },
   "outputs": [
    {
     "data": {
      "text/html": [
       "<div style=\"max-height:1000px;max-width:1500px;overflow:auto;\">\n",
       "<table border=\"1\" class=\"dataframe\">\n",
       "  <thead>\n",
       "    <tr style=\"text-align: right;\">\n",
       "      <th></th>\n",
       "      <th>A</th>\n",
       "      <th>B</th>\n",
       "      <th>C</th>\n",
       "      <th>D</th>\n",
       "      <th>E</th>\n",
       "    </tr>\n",
       "  </thead>\n",
       "  <tbody>\n",
       "    <tr>\n",
       "      <th>2013-01-03</th>\n",
       "      <td>-0.341566</td>\n",
       "      <td>-0.726115</td>\n",
       "      <td> 0.494828</td>\n",
       "      <td>-0.313599</td>\n",
       "      <td>  two</td>\n",
       "    </tr>\n",
       "    <tr>\n",
       "      <th>2013-01-05</th>\n",
       "      <td> 0.173729</td>\n",
       "      <td> 0.130515</td>\n",
       "      <td> 0.057717</td>\n",
       "      <td> 0.082774</td>\n",
       "      <td> four</td>\n",
       "    </tr>\n",
       "  </tbody>\n",
       "</table>\n",
       "</div>"
      ],
      "text/plain": [
       "                   A         B         C         D     E\n",
       "2013-01-03 -0.341566 -0.726115  0.494828 -0.313599   two\n",
       "2013-01-05  0.173729  0.130515  0.057717  0.082774  four"
      ]
     },
     "execution_count": 37,
     "metadata": {},
     "output_type": "execute_result"
    }
   ],
   "source": [
    "df2[df2['E'].isin(['two','four'])]"
   ]
  },
  {
   "cell_type": "code",
   "execution_count": 38,
   "metadata": {
    "collapsed": false,
    "deletable": true,
    "editable": true
   },
   "outputs": [
    {
     "data": {
      "text/html": [
       "<div style=\"max-height:1000px;max-width:1500px;overflow:auto;\">\n",
       "<table border=\"1\" class=\"dataframe\">\n",
       "  <thead>\n",
       "    <tr style=\"text-align: right;\">\n",
       "      <th></th>\n",
       "      <th>A</th>\n",
       "      <th>B</th>\n",
       "      <th>C</th>\n",
       "      <th>D</th>\n",
       "      <th>E</th>\n",
       "    </tr>\n",
       "  </thead>\n",
       "  <tbody>\n",
       "    <tr>\n",
       "      <th>2013-01-01</th>\n",
       "      <td> 0.702633</td>\n",
       "      <td>-0.248319</td>\n",
       "      <td>-0.677385</td>\n",
       "      <td>-0.307803</td>\n",
       "      <td> one</td>\n",
       "    </tr>\n",
       "    <tr>\n",
       "      <th>2013-01-02</th>\n",
       "      <td>-0.662246</td>\n",
       "      <td>-0.029070</td>\n",
       "      <td> 0.428587</td>\n",
       "      <td> 1.209935</td>\n",
       "      <td> one</td>\n",
       "    </tr>\n",
       "    <tr>\n",
       "      <th>2013-01-03</th>\n",
       "      <td>-0.341566</td>\n",
       "      <td>-0.726115</td>\n",
       "      <td> 0.494828</td>\n",
       "      <td>-0.313599</td>\n",
       "      <td> two</td>\n",
       "    </tr>\n",
       "  </tbody>\n",
       "</table>\n",
       "</div>"
      ],
      "text/plain": [
       "                   A         B         C         D    E\n",
       "2013-01-01  0.702633 -0.248319 -0.677385 -0.307803  one\n",
       "2013-01-02 -0.662246 -0.029070  0.428587  1.209935  one\n",
       "2013-01-03 -0.341566 -0.726115  0.494828 -0.313599  two"
      ]
     },
     "execution_count": 38,
     "metadata": {},
     "output_type": "execute_result"
    }
   ],
   "source": [
    "df2[df2['E'].isin(['one','one','two'])]"
   ]
  },
  {
   "cell_type": "markdown",
   "metadata": {
    "deletable": true,
    "editable": true
   },
   "source": [
    "### 赋值\n",
    "\n",
    "赋值一个新的列，通过索引来自动对齐数据"
   ]
  },
  {
   "cell_type": "code",
   "execution_count": 39,
   "metadata": {
    "collapsed": true,
    "deletable": true,
    "editable": true
   },
   "outputs": [],
   "source": [
    "s1 = pd.Series([1,2,3,4,5,6],index=pd.date_range('20130102',periods=6))"
   ]
  },
  {
   "cell_type": "code",
   "execution_count": 40,
   "metadata": {
    "collapsed": false,
    "deletable": true,
    "editable": true
   },
   "outputs": [
    {
     "data": {
      "text/plain": [
       "2013-01-02    1\n",
       "2013-01-03    2\n",
       "2013-01-04    3\n",
       "2013-01-05    4\n",
       "2013-01-06    5\n",
       "2013-01-07    6\n",
       "Freq: D, dtype: int64"
      ]
     },
     "execution_count": 40,
     "metadata": {},
     "output_type": "execute_result"
    }
   ],
   "source": [
    "s1"
   ]
  },
  {
   "cell_type": "code",
   "execution_count": 41,
   "metadata": {
    "collapsed": false,
    "deletable": true,
    "editable": true
   },
   "outputs": [
    {
     "data": {
      "text/plain": [
       "2013-01-02    1\n",
       "2013-01-03    2\n",
       "2013-01-04    3\n",
       "2013-01-05    4\n",
       "2013-01-06    5\n",
       "2013-01-07    6\n",
       "Freq: D, dtype: int64"
      ]
     },
     "execution_count": 41,
     "metadata": {},
     "output_type": "execute_result"
    }
   ],
   "source": [
    "df['F'] = s1\n",
    "s1"
   ]
  },
  {
   "cell_type": "code",
   "execution_count": 42,
   "metadata": {
    "collapsed": false,
    "deletable": true,
    "editable": true
   },
   "outputs": [
    {
     "data": {
      "text/html": [
       "<div style=\"max-height:1000px;max-width:1500px;overflow:auto;\">\n",
       "<table border=\"1\" class=\"dataframe\">\n",
       "  <thead>\n",
       "    <tr style=\"text-align: right;\">\n",
       "      <th></th>\n",
       "      <th>A</th>\n",
       "      <th>B</th>\n",
       "      <th>C</th>\n",
       "      <th>D</th>\n",
       "      <th>F</th>\n",
       "    </tr>\n",
       "  </thead>\n",
       "  <tbody>\n",
       "    <tr>\n",
       "      <th>2013-01-01</th>\n",
       "      <td> 0.702633</td>\n",
       "      <td>-0.248319</td>\n",
       "      <td>-0.677385</td>\n",
       "      <td>-0.307803</td>\n",
       "      <td>NaN</td>\n",
       "    </tr>\n",
       "    <tr>\n",
       "      <th>2013-01-02</th>\n",
       "      <td>-0.662246</td>\n",
       "      <td>-0.029070</td>\n",
       "      <td> 0.428587</td>\n",
       "      <td> 1.209935</td>\n",
       "      <td>  1</td>\n",
       "    </tr>\n",
       "    <tr>\n",
       "      <th>2013-01-03</th>\n",
       "      <td>-0.341566</td>\n",
       "      <td>-0.726115</td>\n",
       "      <td> 0.494828</td>\n",
       "      <td>-0.313599</td>\n",
       "      <td>  2</td>\n",
       "    </tr>\n",
       "    <tr>\n",
       "      <th>2013-01-04</th>\n",
       "      <td> 0.486240</td>\n",
       "      <td> 1.190614</td>\n",
       "      <td> 0.757092</td>\n",
       "      <td>-0.736161</td>\n",
       "      <td>  3</td>\n",
       "    </tr>\n",
       "    <tr>\n",
       "      <th>2013-01-05</th>\n",
       "      <td> 0.173729</td>\n",
       "      <td> 0.130515</td>\n",
       "      <td> 0.057717</td>\n",
       "      <td> 0.082774</td>\n",
       "      <td>  4</td>\n",
       "    </tr>\n",
       "    <tr>\n",
       "      <th>2013-01-06</th>\n",
       "      <td>-0.972961</td>\n",
       "      <td> 0.743743</td>\n",
       "      <td>-0.640023</td>\n",
       "      <td> 0.600814</td>\n",
       "      <td>  5</td>\n",
       "    </tr>\n",
       "  </tbody>\n",
       "</table>\n",
       "</div>"
      ],
      "text/plain": [
       "                   A         B         C         D   F\n",
       "2013-01-01  0.702633 -0.248319 -0.677385 -0.307803 NaN\n",
       "2013-01-02 -0.662246 -0.029070  0.428587  1.209935   1\n",
       "2013-01-03 -0.341566 -0.726115  0.494828 -0.313599   2\n",
       "2013-01-04  0.486240  1.190614  0.757092 -0.736161   3\n",
       "2013-01-05  0.173729  0.130515  0.057717  0.082774   4\n",
       "2013-01-06 -0.972961  0.743743 -0.640023  0.600814   5"
      ]
     },
     "execution_count": 42,
     "metadata": {},
     "output_type": "execute_result"
    }
   ],
   "source": [
    "df"
   ]
  },
  {
   "cell_type": "markdown",
   "metadata": {
    "deletable": true,
    "editable": true
   },
   "source": [
    "通过标签赋值"
   ]
  },
  {
   "cell_type": "code",
   "execution_count": 43,
   "metadata": {
    "collapsed": false,
    "deletable": true,
    "editable": true
   },
   "outputs": [
    {
     "data": {
      "text/html": [
       "<div style=\"max-height:1000px;max-width:1500px;overflow:auto;\">\n",
       "<table border=\"1\" class=\"dataframe\">\n",
       "  <thead>\n",
       "    <tr style=\"text-align: right;\">\n",
       "      <th></th>\n",
       "      <th>A</th>\n",
       "      <th>B</th>\n",
       "      <th>C</th>\n",
       "      <th>D</th>\n",
       "      <th>F</th>\n",
       "    </tr>\n",
       "  </thead>\n",
       "  <tbody>\n",
       "    <tr>\n",
       "      <th>2013-01-01</th>\n",
       "      <td> 0.000000</td>\n",
       "      <td>-0.248319</td>\n",
       "      <td>-0.677385</td>\n",
       "      <td>-0.307803</td>\n",
       "      <td>NaN</td>\n",
       "    </tr>\n",
       "    <tr>\n",
       "      <th>2013-01-02</th>\n",
       "      <td>-0.662246</td>\n",
       "      <td>-0.029070</td>\n",
       "      <td> 0.428587</td>\n",
       "      <td> 1.209935</td>\n",
       "      <td>  1</td>\n",
       "    </tr>\n",
       "    <tr>\n",
       "      <th>2013-01-03</th>\n",
       "      <td>-0.341566</td>\n",
       "      <td>-0.726115</td>\n",
       "      <td> 0.494828</td>\n",
       "      <td>-0.313599</td>\n",
       "      <td>  2</td>\n",
       "    </tr>\n",
       "    <tr>\n",
       "      <th>2013-01-04</th>\n",
       "      <td> 0.486240</td>\n",
       "      <td> 1.190614</td>\n",
       "      <td> 0.757092</td>\n",
       "      <td>-0.736161</td>\n",
       "      <td>  3</td>\n",
       "    </tr>\n",
       "    <tr>\n",
       "      <th>2013-01-05</th>\n",
       "      <td> 0.173729</td>\n",
       "      <td> 0.130515</td>\n",
       "      <td> 0.057717</td>\n",
       "      <td> 0.082774</td>\n",
       "      <td>  4</td>\n",
       "    </tr>\n",
       "    <tr>\n",
       "      <th>2013-01-06</th>\n",
       "      <td>-0.972961</td>\n",
       "      <td> 0.743743</td>\n",
       "      <td>-0.640023</td>\n",
       "      <td> 0.600814</td>\n",
       "      <td>  5</td>\n",
       "    </tr>\n",
       "  </tbody>\n",
       "</table>\n",
       "</div>"
      ],
      "text/plain": [
       "                   A         B         C         D   F\n",
       "2013-01-01  0.000000 -0.248319 -0.677385 -0.307803 NaN\n",
       "2013-01-02 -0.662246 -0.029070  0.428587  1.209935   1\n",
       "2013-01-03 -0.341566 -0.726115  0.494828 -0.313599   2\n",
       "2013-01-04  0.486240  1.190614  0.757092 -0.736161   3\n",
       "2013-01-05  0.173729  0.130515  0.057717  0.082774   4\n",
       "2013-01-06 -0.972961  0.743743 -0.640023  0.600814   5"
      ]
     },
     "execution_count": 43,
     "metadata": {},
     "output_type": "execute_result"
    }
   ],
   "source": [
    "df.at[dates[0],'A'] = 0\n",
    "df"
   ]
  },
  {
   "cell_type": "markdown",
   "metadata": {
    "deletable": true,
    "editable": true
   },
   "source": [
    "通过位置赋值"
   ]
  },
  {
   "cell_type": "code",
   "execution_count": 44,
   "metadata": {
    "collapsed": false,
    "deletable": true,
    "editable": true
   },
   "outputs": [
    {
     "data": {
      "text/html": [
       "<div style=\"max-height:1000px;max-width:1500px;overflow:auto;\">\n",
       "<table border=\"1\" class=\"dataframe\">\n",
       "  <thead>\n",
       "    <tr style=\"text-align: right;\">\n",
       "      <th></th>\n",
       "      <th>A</th>\n",
       "      <th>B</th>\n",
       "      <th>C</th>\n",
       "      <th>D</th>\n",
       "      <th>F</th>\n",
       "    </tr>\n",
       "  </thead>\n",
       "  <tbody>\n",
       "    <tr>\n",
       "      <th>2013-01-01</th>\n",
       "      <td> 0.000000</td>\n",
       "      <td> 0.000000</td>\n",
       "      <td>-0.677385</td>\n",
       "      <td>-0.307803</td>\n",
       "      <td>NaN</td>\n",
       "    </tr>\n",
       "    <tr>\n",
       "      <th>2013-01-02</th>\n",
       "      <td>-0.662246</td>\n",
       "      <td>-0.029070</td>\n",
       "      <td> 0.428587</td>\n",
       "      <td> 1.209935</td>\n",
       "      <td>  1</td>\n",
       "    </tr>\n",
       "    <tr>\n",
       "      <th>2013-01-03</th>\n",
       "      <td>-0.341566</td>\n",
       "      <td>-0.726115</td>\n",
       "      <td> 0.494828</td>\n",
       "      <td>-0.313599</td>\n",
       "      <td>  2</td>\n",
       "    </tr>\n",
       "    <tr>\n",
       "      <th>2013-01-04</th>\n",
       "      <td> 0.486240</td>\n",
       "      <td> 1.190614</td>\n",
       "      <td> 0.757092</td>\n",
       "      <td>-0.736161</td>\n",
       "      <td>  3</td>\n",
       "    </tr>\n",
       "    <tr>\n",
       "      <th>2013-01-05</th>\n",
       "      <td> 0.173729</td>\n",
       "      <td> 0.130515</td>\n",
       "      <td> 0.057717</td>\n",
       "      <td> 0.082774</td>\n",
       "      <td>  4</td>\n",
       "    </tr>\n",
       "    <tr>\n",
       "      <th>2013-01-06</th>\n",
       "      <td>-0.972961</td>\n",
       "      <td> 0.743743</td>\n",
       "      <td>-0.640023</td>\n",
       "      <td> 0.600814</td>\n",
       "      <td>  5</td>\n",
       "    </tr>\n",
       "  </tbody>\n",
       "</table>\n",
       "</div>"
      ],
      "text/plain": [
       "                   A         B         C         D   F\n",
       "2013-01-01  0.000000  0.000000 -0.677385 -0.307803 NaN\n",
       "2013-01-02 -0.662246 -0.029070  0.428587  1.209935   1\n",
       "2013-01-03 -0.341566 -0.726115  0.494828 -0.313599   2\n",
       "2013-01-04  0.486240  1.190614  0.757092 -0.736161   3\n",
       "2013-01-05  0.173729  0.130515  0.057717  0.082774   4\n",
       "2013-01-06 -0.972961  0.743743 -0.640023  0.600814   5"
      ]
     },
     "execution_count": 44,
     "metadata": {},
     "output_type": "execute_result"
    }
   ],
   "source": [
    "df.iat[0,1] = 0\n",
    "df"
   ]
  },
  {
   "cell_type": "markdown",
   "metadata": {
    "deletable": true,
    "editable": true
   },
   "source": [
    "通过传递numpy array赋值"
   ]
  },
  {
   "cell_type": "code",
   "execution_count": 46,
   "metadata": {
    "collapsed": false,
    "deletable": true,
    "editable": true
   },
   "outputs": [],
   "source": [
    "df.loc[:,'D'] = np.array([5] * len(df))"
   ]
  },
  {
   "cell_type": "code",
   "execution_count": 47,
   "metadata": {
    "collapsed": false,
    "deletable": true,
    "editable": true
   },
   "outputs": [
    {
     "data": {
      "text/html": [
       "<div style=\"max-height:1000px;max-width:1500px;overflow:auto;\">\n",
       "<table border=\"1\" class=\"dataframe\">\n",
       "  <thead>\n",
       "    <tr style=\"text-align: right;\">\n",
       "      <th></th>\n",
       "      <th>A</th>\n",
       "      <th>B</th>\n",
       "      <th>C</th>\n",
       "      <th>D</th>\n",
       "      <th>F</th>\n",
       "    </tr>\n",
       "  </thead>\n",
       "  <tbody>\n",
       "    <tr>\n",
       "      <th>2013-01-01</th>\n",
       "      <td> 0.000000</td>\n",
       "      <td> 0.000000</td>\n",
       "      <td>-0.677385</td>\n",
       "      <td> 5</td>\n",
       "      <td>NaN</td>\n",
       "    </tr>\n",
       "    <tr>\n",
       "      <th>2013-01-02</th>\n",
       "      <td>-0.662246</td>\n",
       "      <td>-0.029070</td>\n",
       "      <td> 0.428587</td>\n",
       "      <td> 5</td>\n",
       "      <td>  1</td>\n",
       "    </tr>\n",
       "    <tr>\n",
       "      <th>2013-01-03</th>\n",
       "      <td>-0.341566</td>\n",
       "      <td>-0.726115</td>\n",
       "      <td> 0.494828</td>\n",
       "      <td> 5</td>\n",
       "      <td>  2</td>\n",
       "    </tr>\n",
       "    <tr>\n",
       "      <th>2013-01-04</th>\n",
       "      <td> 0.486240</td>\n",
       "      <td> 1.190614</td>\n",
       "      <td> 0.757092</td>\n",
       "      <td> 5</td>\n",
       "      <td>  3</td>\n",
       "    </tr>\n",
       "    <tr>\n",
       "      <th>2013-01-05</th>\n",
       "      <td> 0.173729</td>\n",
       "      <td> 0.130515</td>\n",
       "      <td> 0.057717</td>\n",
       "      <td> 5</td>\n",
       "      <td>  4</td>\n",
       "    </tr>\n",
       "    <tr>\n",
       "      <th>2013-01-06</th>\n",
       "      <td>-0.972961</td>\n",
       "      <td> 0.743743</td>\n",
       "      <td>-0.640023</td>\n",
       "      <td> 5</td>\n",
       "      <td>  5</td>\n",
       "    </tr>\n",
       "  </tbody>\n",
       "</table>\n",
       "</div>"
      ],
      "text/plain": [
       "                   A         B         C  D   F\n",
       "2013-01-01  0.000000  0.000000 -0.677385  5 NaN\n",
       "2013-01-02 -0.662246 -0.029070  0.428587  5   1\n",
       "2013-01-03 -0.341566 -0.726115  0.494828  5   2\n",
       "2013-01-04  0.486240  1.190614  0.757092  5   3\n",
       "2013-01-05  0.173729  0.130515  0.057717  5   4\n",
       "2013-01-06 -0.972961  0.743743 -0.640023  5   5"
      ]
     },
     "execution_count": 47,
     "metadata": {},
     "output_type": "execute_result"
    }
   ],
   "source": [
    "df"
   ]
  },
  {
   "cell_type": "code",
   "execution_count": 48,
   "metadata": {
    "collapsed": false,
    "deletable": true,
    "editable": true
   },
   "outputs": [
    {
     "data": {
      "text/html": [
       "<div style=\"max-height:1000px;max-width:1500px;overflow:auto;\">\n",
       "<table border=\"1\" class=\"dataframe\">\n",
       "  <thead>\n",
       "    <tr style=\"text-align: right;\">\n",
       "      <th></th>\n",
       "      <th>A</th>\n",
       "      <th>B</th>\n",
       "      <th>C</th>\n",
       "      <th>D</th>\n",
       "      <th>F</th>\n",
       "    </tr>\n",
       "  </thead>\n",
       "  <tbody>\n",
       "    <tr>\n",
       "      <th>2013-01-01</th>\n",
       "      <td> 0.000000</td>\n",
       "      <td> 0.000000</td>\n",
       "      <td>-0.677385</td>\n",
       "      <td>-5</td>\n",
       "      <td>NaN</td>\n",
       "    </tr>\n",
       "    <tr>\n",
       "      <th>2013-01-02</th>\n",
       "      <td>-0.662246</td>\n",
       "      <td>-0.029070</td>\n",
       "      <td>-0.428587</td>\n",
       "      <td>-5</td>\n",
       "      <td> -1</td>\n",
       "    </tr>\n",
       "    <tr>\n",
       "      <th>2013-01-03</th>\n",
       "      <td>-0.341566</td>\n",
       "      <td>-0.726115</td>\n",
       "      <td>-0.494828</td>\n",
       "      <td>-5</td>\n",
       "      <td> -2</td>\n",
       "    </tr>\n",
       "    <tr>\n",
       "      <th>2013-01-04</th>\n",
       "      <td>-0.486240</td>\n",
       "      <td>-1.190614</td>\n",
       "      <td>-0.757092</td>\n",
       "      <td>-5</td>\n",
       "      <td> -3</td>\n",
       "    </tr>\n",
       "    <tr>\n",
       "      <th>2013-01-05</th>\n",
       "      <td>-0.173729</td>\n",
       "      <td>-0.130515</td>\n",
       "      <td>-0.057717</td>\n",
       "      <td>-5</td>\n",
       "      <td> -4</td>\n",
       "    </tr>\n",
       "    <tr>\n",
       "      <th>2013-01-06</th>\n",
       "      <td>-0.972961</td>\n",
       "      <td>-0.743743</td>\n",
       "      <td>-0.640023</td>\n",
       "      <td>-5</td>\n",
       "      <td> -5</td>\n",
       "    </tr>\n",
       "  </tbody>\n",
       "</table>\n",
       "</div>"
      ],
      "text/plain": [
       "                   A         B         C  D   F\n",
       "2013-01-01  0.000000  0.000000 -0.677385 -5 NaN\n",
       "2013-01-02 -0.662246 -0.029070 -0.428587 -5  -1\n",
       "2013-01-03 -0.341566 -0.726115 -0.494828 -5  -2\n",
       "2013-01-04 -0.486240 -1.190614 -0.757092 -5  -3\n",
       "2013-01-05 -0.173729 -0.130515 -0.057717 -5  -4\n",
       "2013-01-06 -0.972961 -0.743743 -0.640023 -5  -5"
      ]
     },
     "execution_count": 48,
     "metadata": {},
     "output_type": "execute_result"
    }
   ],
   "source": [
    "df2 = df.copy()\n",
    "df2[df2 > 0] = -df2\n",
    "df2"
   ]
  },
  {
   "cell_type": "markdown",
   "metadata": {
    "deletable": true,
    "editable": true
   },
   "source": [
    "## 缺失值处理\n",
    "\n",
    "在pandas中，用np.nan来代表缺失值，这些值默认不会参与运算。\n",
    "\n",
    "reindex()允许你修改、增加、删除指定轴上的索引，并返回一个**数据副本**。"
   ]
  },
  {
   "cell_type": "code",
   "execution_count": 50,
   "metadata": {
    "collapsed": false,
    "deletable": true,
    "editable": true
   },
   "outputs": [
    {
     "data": {
      "text/html": [
       "<div style=\"max-height:1000px;max-width:1500px;overflow:auto;\">\n",
       "<table border=\"1\" class=\"dataframe\">\n",
       "  <thead>\n",
       "    <tr style=\"text-align: right;\">\n",
       "      <th></th>\n",
       "      <th>A</th>\n",
       "      <th>B</th>\n",
       "      <th>C</th>\n",
       "      <th>D</th>\n",
       "      <th>F</th>\n",
       "      <th>E</th>\n",
       "    </tr>\n",
       "  </thead>\n",
       "  <tbody>\n",
       "    <tr>\n",
       "      <th>2013-01-01</th>\n",
       "      <td> 0.000000</td>\n",
       "      <td> 0.000000</td>\n",
       "      <td>-0.677385</td>\n",
       "      <td> 5</td>\n",
       "      <td>NaN</td>\n",
       "      <td>  1</td>\n",
       "    </tr>\n",
       "    <tr>\n",
       "      <th>2013-01-02</th>\n",
       "      <td>-0.662246</td>\n",
       "      <td>-0.029070</td>\n",
       "      <td> 0.428587</td>\n",
       "      <td> 5</td>\n",
       "      <td>  1</td>\n",
       "      <td>  1</td>\n",
       "    </tr>\n",
       "    <tr>\n",
       "      <th>2013-01-03</th>\n",
       "      <td>-0.341566</td>\n",
       "      <td>-0.726115</td>\n",
       "      <td> 0.494828</td>\n",
       "      <td> 5</td>\n",
       "      <td>  2</td>\n",
       "      <td>NaN</td>\n",
       "    </tr>\n",
       "    <tr>\n",
       "      <th>2013-01-04</th>\n",
       "      <td> 0.486240</td>\n",
       "      <td> 1.190614</td>\n",
       "      <td> 0.757092</td>\n",
       "      <td> 5</td>\n",
       "      <td>  3</td>\n",
       "      <td>NaN</td>\n",
       "    </tr>\n",
       "  </tbody>\n",
       "</table>\n",
       "</div>"
      ],
      "text/plain": [
       "                   A         B         C  D   F   E\n",
       "2013-01-01  0.000000  0.000000 -0.677385  5 NaN   1\n",
       "2013-01-02 -0.662246 -0.029070  0.428587  5   1   1\n",
       "2013-01-03 -0.341566 -0.726115  0.494828  5   2 NaN\n",
       "2013-01-04  0.486240  1.190614  0.757092  5   3 NaN"
      ]
     },
     "execution_count": 50,
     "metadata": {},
     "output_type": "execute_result"
    }
   ],
   "source": [
    "df1 = df.reindex(index=dates[0:4],columns=list(df.columns)+['E'])\n",
    "df1.loc[dates[0]:dates[1],'E'] = 1\n",
    "df1"
   ]
  },
  {
   "cell_type": "markdown",
   "metadata": {
    "deletable": true,
    "editable": true
   },
   "source": [
    "剔除所有包含缺失值的行数据"
   ]
  },
  {
   "cell_type": "code",
   "execution_count": 51,
   "metadata": {
    "collapsed": false,
    "deletable": true,
    "editable": true
   },
   "outputs": [
    {
     "data": {
      "text/html": [
       "<div style=\"max-height:1000px;max-width:1500px;overflow:auto;\">\n",
       "<table border=\"1\" class=\"dataframe\">\n",
       "  <thead>\n",
       "    <tr style=\"text-align: right;\">\n",
       "      <th></th>\n",
       "      <th>A</th>\n",
       "      <th>B</th>\n",
       "      <th>C</th>\n",
       "      <th>D</th>\n",
       "      <th>F</th>\n",
       "      <th>E</th>\n",
       "    </tr>\n",
       "  </thead>\n",
       "  <tbody>\n",
       "    <tr>\n",
       "      <th>2013-01-02</th>\n",
       "      <td>-0.662246</td>\n",
       "      <td>-0.02907</td>\n",
       "      <td> 0.428587</td>\n",
       "      <td> 5</td>\n",
       "      <td> 1</td>\n",
       "      <td> 1</td>\n",
       "    </tr>\n",
       "  </tbody>\n",
       "</table>\n",
       "</div>"
      ],
      "text/plain": [
       "                   A        B         C  D  F  E\n",
       "2013-01-02 -0.662246 -0.02907  0.428587  5  1  1"
      ]
     },
     "execution_count": 51,
     "metadata": {},
     "output_type": "execute_result"
    }
   ],
   "source": [
    "df1.dropna(how='any')"
   ]
  },
  {
   "cell_type": "markdown",
   "metadata": {
    "deletable": true,
    "editable": true
   },
   "source": [
    "填充缺失值"
   ]
  },
  {
   "cell_type": "code",
   "execution_count": 52,
   "metadata": {
    "collapsed": false,
    "deletable": true,
    "editable": true
   },
   "outputs": [
    {
     "data": {
      "text/html": [
       "<div style=\"max-height:1000px;max-width:1500px;overflow:auto;\">\n",
       "<table border=\"1\" class=\"dataframe\">\n",
       "  <thead>\n",
       "    <tr style=\"text-align: right;\">\n",
       "      <th></th>\n",
       "      <th>A</th>\n",
       "      <th>B</th>\n",
       "      <th>C</th>\n",
       "      <th>D</th>\n",
       "      <th>F</th>\n",
       "      <th>E</th>\n",
       "    </tr>\n",
       "  </thead>\n",
       "  <tbody>\n",
       "    <tr>\n",
       "      <th>2013-01-01</th>\n",
       "      <td> 0.000000</td>\n",
       "      <td> 0.000000</td>\n",
       "      <td>-0.677385</td>\n",
       "      <td> 5</td>\n",
       "      <td> 5</td>\n",
       "      <td> 1</td>\n",
       "    </tr>\n",
       "    <tr>\n",
       "      <th>2013-01-02</th>\n",
       "      <td>-0.662246</td>\n",
       "      <td>-0.029070</td>\n",
       "      <td> 0.428587</td>\n",
       "      <td> 5</td>\n",
       "      <td> 1</td>\n",
       "      <td> 1</td>\n",
       "    </tr>\n",
       "    <tr>\n",
       "      <th>2013-01-03</th>\n",
       "      <td>-0.341566</td>\n",
       "      <td>-0.726115</td>\n",
       "      <td> 0.494828</td>\n",
       "      <td> 5</td>\n",
       "      <td> 2</td>\n",
       "      <td> 5</td>\n",
       "    </tr>\n",
       "    <tr>\n",
       "      <th>2013-01-04</th>\n",
       "      <td> 0.486240</td>\n",
       "      <td> 1.190614</td>\n",
       "      <td> 0.757092</td>\n",
       "      <td> 5</td>\n",
       "      <td> 3</td>\n",
       "      <td> 5</td>\n",
       "    </tr>\n",
       "  </tbody>\n",
       "</table>\n",
       "</div>"
      ],
      "text/plain": [
       "                   A         B         C  D  F  E\n",
       "2013-01-01  0.000000  0.000000 -0.677385  5  5  1\n",
       "2013-01-02 -0.662246 -0.029070  0.428587  5  1  1\n",
       "2013-01-03 -0.341566 -0.726115  0.494828  5  2  5\n",
       "2013-01-04  0.486240  1.190614  0.757092  5  3  5"
      ]
     },
     "execution_count": 52,
     "metadata": {},
     "output_type": "execute_result"
    }
   ],
   "source": [
    "df1.fillna(value=5)"
   ]
  },
  {
   "cell_type": "markdown",
   "metadata": {
    "deletable": true,
    "editable": true
   },
   "source": [
    "获取值是否为nan的布尔标记"
   ]
  },
  {
   "cell_type": "code",
   "execution_count": 53,
   "metadata": {
    "collapsed": false,
    "deletable": true,
    "editable": true
   },
   "outputs": [
    {
     "data": {
      "text/html": [
       "<div style=\"max-height:1000px;max-width:1500px;overflow:auto;\">\n",
       "<table border=\"1\" class=\"dataframe\">\n",
       "  <thead>\n",
       "    <tr style=\"text-align: right;\">\n",
       "      <th></th>\n",
       "      <th>A</th>\n",
       "      <th>B</th>\n",
       "      <th>C</th>\n",
       "      <th>D</th>\n",
       "      <th>F</th>\n",
       "      <th>E</th>\n",
       "    </tr>\n",
       "  </thead>\n",
       "  <tbody>\n",
       "    <tr>\n",
       "      <th>2013-01-01</th>\n",
       "      <td> False</td>\n",
       "      <td> False</td>\n",
       "      <td> False</td>\n",
       "      <td> False</td>\n",
       "      <td>  True</td>\n",
       "      <td> False</td>\n",
       "    </tr>\n",
       "    <tr>\n",
       "      <th>2013-01-02</th>\n",
       "      <td> False</td>\n",
       "      <td> False</td>\n",
       "      <td> False</td>\n",
       "      <td> False</td>\n",
       "      <td> False</td>\n",
       "      <td> False</td>\n",
       "    </tr>\n",
       "    <tr>\n",
       "      <th>2013-01-03</th>\n",
       "      <td> False</td>\n",
       "      <td> False</td>\n",
       "      <td> False</td>\n",
       "      <td> False</td>\n",
       "      <td> False</td>\n",
       "      <td>  True</td>\n",
       "    </tr>\n",
       "    <tr>\n",
       "      <th>2013-01-04</th>\n",
       "      <td> False</td>\n",
       "      <td> False</td>\n",
       "      <td> False</td>\n",
       "      <td> False</td>\n",
       "      <td> False</td>\n",
       "      <td>  True</td>\n",
       "    </tr>\n",
       "  </tbody>\n",
       "</table>\n",
       "</div>"
      ],
      "text/plain": [
       "                A      B      C      D      F      E\n",
       "2013-01-01  False  False  False  False   True  False\n",
       "2013-01-02  False  False  False  False  False  False\n",
       "2013-01-03  False  False  False  False  False   True\n",
       "2013-01-04  False  False  False  False  False   True"
      ]
     },
     "execution_count": 53,
     "metadata": {},
     "output_type": "execute_result"
    }
   ],
   "source": [
    "pd.isnull(df1)"
   ]
  },
  {
   "cell_type": "markdown",
   "metadata": {
    "deletable": true,
    "editable": true
   },
   "source": [
    "## 运算\n",
    "\n",
    "### 统计\n",
    "\n",
    "运算过程中，通常不包含缺失值。\n",
    "\n",
    "进行描述性统计。"
   ]
  },
  {
   "cell_type": "code",
   "execution_count": 54,
   "metadata": {
    "collapsed": false,
    "deletable": true,
    "editable": true
   },
   "outputs": [
    {
     "data": {
      "text/html": [
       "<div style=\"max-height:1000px;max-width:1500px;overflow:auto;\">\n",
       "<table border=\"1\" class=\"dataframe\">\n",
       "  <thead>\n",
       "    <tr style=\"text-align: right;\">\n",
       "      <th></th>\n",
       "      <th>A</th>\n",
       "      <th>B</th>\n",
       "      <th>C</th>\n",
       "      <th>D</th>\n",
       "      <th>F</th>\n",
       "    </tr>\n",
       "  </thead>\n",
       "  <tbody>\n",
       "    <tr>\n",
       "      <th>2013-01-01</th>\n",
       "      <td> 0.000000</td>\n",
       "      <td> 0.000000</td>\n",
       "      <td>-0.677385</td>\n",
       "      <td> 5</td>\n",
       "      <td>NaN</td>\n",
       "    </tr>\n",
       "    <tr>\n",
       "      <th>2013-01-02</th>\n",
       "      <td>-0.662246</td>\n",
       "      <td>-0.029070</td>\n",
       "      <td> 0.428587</td>\n",
       "      <td> 5</td>\n",
       "      <td>  1</td>\n",
       "    </tr>\n",
       "    <tr>\n",
       "      <th>2013-01-03</th>\n",
       "      <td>-0.341566</td>\n",
       "      <td>-0.726115</td>\n",
       "      <td> 0.494828</td>\n",
       "      <td> 5</td>\n",
       "      <td>  2</td>\n",
       "    </tr>\n",
       "    <tr>\n",
       "      <th>2013-01-04</th>\n",
       "      <td> 0.486240</td>\n",
       "      <td> 1.190614</td>\n",
       "      <td> 0.757092</td>\n",
       "      <td> 5</td>\n",
       "      <td>  3</td>\n",
       "    </tr>\n",
       "    <tr>\n",
       "      <th>2013-01-05</th>\n",
       "      <td> 0.173729</td>\n",
       "      <td> 0.130515</td>\n",
       "      <td> 0.057717</td>\n",
       "      <td> 5</td>\n",
       "      <td>  4</td>\n",
       "    </tr>\n",
       "    <tr>\n",
       "      <th>2013-01-06</th>\n",
       "      <td>-0.972961</td>\n",
       "      <td> 0.743743</td>\n",
       "      <td>-0.640023</td>\n",
       "      <td> 5</td>\n",
       "      <td>  5</td>\n",
       "    </tr>\n",
       "  </tbody>\n",
       "</table>\n",
       "</div>"
      ],
      "text/plain": [
       "                   A         B         C  D   F\n",
       "2013-01-01  0.000000  0.000000 -0.677385  5 NaN\n",
       "2013-01-02 -0.662246 -0.029070  0.428587  5   1\n",
       "2013-01-03 -0.341566 -0.726115  0.494828  5   2\n",
       "2013-01-04  0.486240  1.190614  0.757092  5   3\n",
       "2013-01-05  0.173729  0.130515  0.057717  5   4\n",
       "2013-01-06 -0.972961  0.743743 -0.640023  5   5"
      ]
     },
     "execution_count": 54,
     "metadata": {},
     "output_type": "execute_result"
    }
   ],
   "source": [
    "df"
   ]
  },
  {
   "cell_type": "code",
   "execution_count": 55,
   "metadata": {
    "collapsed": false,
    "deletable": true,
    "editable": true
   },
   "outputs": [
    {
     "data": {
      "text/plain": [
       "A   -0.219467\n",
       "B    0.218281\n",
       "C    0.070136\n",
       "D    5.000000\n",
       "F    3.000000\n",
       "dtype: float64"
      ]
     },
     "execution_count": 55,
     "metadata": {},
     "output_type": "execute_result"
    }
   ],
   "source": [
    "df.mean()"
   ]
  },
  {
   "cell_type": "markdown",
   "metadata": {
    "deletable": true,
    "editable": true
   },
   "source": [
    "对其他轴进行同样的运算"
   ]
  },
  {
   "cell_type": "code",
   "execution_count": 56,
   "metadata": {
    "collapsed": false,
    "deletable": true,
    "editable": true
   },
   "outputs": [
    {
     "data": {
      "text/plain": [
       "2013-01-01    1.080654\n",
       "2013-01-02    1.147454\n",
       "2013-01-03    1.285429\n",
       "2013-01-04    2.086789\n",
       "2013-01-05    1.872392\n",
       "2013-01-06    1.826152\n",
       "Freq: D, dtype: float64"
      ]
     },
     "execution_count": 56,
     "metadata": {},
     "output_type": "execute_result"
    }
   ],
   "source": [
    "df.mean(1)"
   ]
  },
  {
   "cell_type": "markdown",
   "metadata": {
    "deletable": true,
    "editable": true
   },
   "source": [
    "对于拥有不同维度的对象进行运算时需要对齐。除此之外，pandas会自动沿着指定维度计算。"
   ]
  },
  {
   "cell_type": "code",
   "execution_count": 58,
   "metadata": {
    "collapsed": false,
    "deletable": true,
    "editable": true
   },
   "outputs": [
    {
     "data": {
      "text/plain": [
       "2013-01-01   NaN\n",
       "2013-01-02   NaN\n",
       "2013-01-03     1\n",
       "2013-01-04     3\n",
       "2013-01-05     5\n",
       "2013-01-06   NaN\n",
       "Freq: D, dtype: float64"
      ]
     },
     "execution_count": 58,
     "metadata": {},
     "output_type": "execute_result"
    }
   ],
   "source": [
    "s = pd.Series([1,3,5,np.nan,6,8],index=dates).shift(2)\n",
    "s"
   ]
  },
  {
   "cell_type": "code",
   "execution_count": 59,
   "metadata": {
    "collapsed": false,
    "deletable": true,
    "editable": true
   },
   "outputs": [
    {
     "data": {
      "text/html": [
       "<div style=\"max-height:1000px;max-width:1500px;overflow:auto;\">\n",
       "<table border=\"1\" class=\"dataframe\">\n",
       "  <thead>\n",
       "    <tr style=\"text-align: right;\">\n",
       "      <th></th>\n",
       "      <th>A</th>\n",
       "      <th>B</th>\n",
       "      <th>C</th>\n",
       "      <th>D</th>\n",
       "      <th>F</th>\n",
       "    </tr>\n",
       "  </thead>\n",
       "  <tbody>\n",
       "    <tr>\n",
       "      <th>2013-01-01</th>\n",
       "      <td>      NaN</td>\n",
       "      <td>      NaN</td>\n",
       "      <td>      NaN</td>\n",
       "      <td>NaN</td>\n",
       "      <td>NaN</td>\n",
       "    </tr>\n",
       "    <tr>\n",
       "      <th>2013-01-02</th>\n",
       "      <td>      NaN</td>\n",
       "      <td>      NaN</td>\n",
       "      <td>      NaN</td>\n",
       "      <td>NaN</td>\n",
       "      <td>NaN</td>\n",
       "    </tr>\n",
       "    <tr>\n",
       "      <th>2013-01-03</th>\n",
       "      <td>-1.341566</td>\n",
       "      <td>-1.726115</td>\n",
       "      <td>-0.505172</td>\n",
       "      <td>  4</td>\n",
       "      <td>  1</td>\n",
       "    </tr>\n",
       "    <tr>\n",
       "      <th>2013-01-04</th>\n",
       "      <td>-2.513760</td>\n",
       "      <td>-1.809386</td>\n",
       "      <td>-2.242908</td>\n",
       "      <td>  2</td>\n",
       "      <td>  0</td>\n",
       "    </tr>\n",
       "    <tr>\n",
       "      <th>2013-01-05</th>\n",
       "      <td>-4.826271</td>\n",
       "      <td>-4.869485</td>\n",
       "      <td>-4.942283</td>\n",
       "      <td>  0</td>\n",
       "      <td> -1</td>\n",
       "    </tr>\n",
       "    <tr>\n",
       "      <th>2013-01-06</th>\n",
       "      <td>      NaN</td>\n",
       "      <td>      NaN</td>\n",
       "      <td>      NaN</td>\n",
       "      <td>NaN</td>\n",
       "      <td>NaN</td>\n",
       "    </tr>\n",
       "  </tbody>\n",
       "</table>\n",
       "</div>"
      ],
      "text/plain": [
       "                   A         B         C   D   F\n",
       "2013-01-01       NaN       NaN       NaN NaN NaN\n",
       "2013-01-02       NaN       NaN       NaN NaN NaN\n",
       "2013-01-03 -1.341566 -1.726115 -0.505172   4   1\n",
       "2013-01-04 -2.513760 -1.809386 -2.242908   2   0\n",
       "2013-01-05 -4.826271 -4.869485 -4.942283   0  -1\n",
       "2013-01-06       NaN       NaN       NaN NaN NaN"
      ]
     },
     "execution_count": 59,
     "metadata": {},
     "output_type": "execute_result"
    }
   ],
   "source": [
    "df.sub(s,axis='index')"
   ]
  },
  {
   "cell_type": "markdown",
   "metadata": {
    "deletable": true,
    "editable": true
   },
   "source": [
    "### Apply 函数作用\n",
    "\n",
    "通过apply()对函数作用"
   ]
  },
  {
   "cell_type": "code",
   "execution_count": 60,
   "metadata": {
    "collapsed": false,
    "deletable": true,
    "editable": true
   },
   "outputs": [
    {
     "data": {
      "text/html": [
       "<div style=\"max-height:1000px;max-width:1500px;overflow:auto;\">\n",
       "<table border=\"1\" class=\"dataframe\">\n",
       "  <thead>\n",
       "    <tr style=\"text-align: right;\">\n",
       "      <th></th>\n",
       "      <th>A</th>\n",
       "      <th>B</th>\n",
       "      <th>C</th>\n",
       "      <th>D</th>\n",
       "      <th>F</th>\n",
       "    </tr>\n",
       "  </thead>\n",
       "  <tbody>\n",
       "    <tr>\n",
       "      <th>2013-01-01</th>\n",
       "      <td> 0.000000</td>\n",
       "      <td> 0.000000</td>\n",
       "      <td>-0.677385</td>\n",
       "      <td>  5</td>\n",
       "      <td>NaN</td>\n",
       "    </tr>\n",
       "    <tr>\n",
       "      <th>2013-01-02</th>\n",
       "      <td>-0.662246</td>\n",
       "      <td>-0.029070</td>\n",
       "      <td>-0.248797</td>\n",
       "      <td> 10</td>\n",
       "      <td>  1</td>\n",
       "    </tr>\n",
       "    <tr>\n",
       "      <th>2013-01-03</th>\n",
       "      <td>-1.003813</td>\n",
       "      <td>-0.755185</td>\n",
       "      <td> 0.246031</td>\n",
       "      <td> 15</td>\n",
       "      <td>  3</td>\n",
       "    </tr>\n",
       "    <tr>\n",
       "      <th>2013-01-04</th>\n",
       "      <td>-0.517573</td>\n",
       "      <td> 0.435429</td>\n",
       "      <td> 1.003123</td>\n",
       "      <td> 20</td>\n",
       "      <td>  6</td>\n",
       "    </tr>\n",
       "    <tr>\n",
       "      <th>2013-01-05</th>\n",
       "      <td>-0.343843</td>\n",
       "      <td> 0.565944</td>\n",
       "      <td> 1.060840</td>\n",
       "      <td> 25</td>\n",
       "      <td> 10</td>\n",
       "    </tr>\n",
       "    <tr>\n",
       "      <th>2013-01-06</th>\n",
       "      <td>-1.316805</td>\n",
       "      <td> 1.309686</td>\n",
       "      <td> 0.420818</td>\n",
       "      <td> 30</td>\n",
       "      <td> 15</td>\n",
       "    </tr>\n",
       "  </tbody>\n",
       "</table>\n",
       "</div>"
      ],
      "text/plain": [
       "                   A         B         C   D   F\n",
       "2013-01-01  0.000000  0.000000 -0.677385   5 NaN\n",
       "2013-01-02 -0.662246 -0.029070 -0.248797  10   1\n",
       "2013-01-03 -1.003813 -0.755185  0.246031  15   3\n",
       "2013-01-04 -0.517573  0.435429  1.003123  20   6\n",
       "2013-01-05 -0.343843  0.565944  1.060840  25  10\n",
       "2013-01-06 -1.316805  1.309686  0.420818  30  15"
      ]
     },
     "execution_count": 60,
     "metadata": {},
     "output_type": "execute_result"
    }
   ],
   "source": [
    "df.apply(np.cumsum)"
   ]
  },
  {
   "cell_type": "code",
   "execution_count": 61,
   "metadata": {
    "collapsed": false,
    "deletable": true,
    "editable": true
   },
   "outputs": [
    {
     "data": {
      "text/plain": [
       "A    1.459201\n",
       "B    1.916729\n",
       "C    1.434477\n",
       "D    0.000000\n",
       "F    4.000000\n",
       "dtype: float64"
      ]
     },
     "execution_count": 61,
     "metadata": {},
     "output_type": "execute_result"
    }
   ],
   "source": [
    "df.apply(lambda x:x.max()-x.min())"
   ]
  },
  {
   "cell_type": "markdown",
   "metadata": {
    "deletable": true,
    "editable": true
   },
   "source": [
    "### 频数统计"
   ]
  },
  {
   "cell_type": "code",
   "execution_count": 64,
   "metadata": {
    "collapsed": false,
    "deletable": true,
    "editable": true
   },
   "outputs": [
    {
     "data": {
      "text/plain": [
       "0    0\n",
       "1    1\n",
       "2    2\n",
       "3    6\n",
       "4    6\n",
       "5    5\n",
       "6    4\n",
       "7    5\n",
       "8    5\n",
       "9    3\n",
       "dtype: int64"
      ]
     },
     "execution_count": 64,
     "metadata": {},
     "output_type": "execute_result"
    }
   ],
   "source": [
    "s = pd.Series(np.random.randint(0,7,size=10))\n",
    "s"
   ]
  },
  {
   "cell_type": "code",
   "execution_count": 65,
   "metadata": {
    "collapsed": false,
    "deletable": true,
    "editable": true
   },
   "outputs": [
    {
     "data": {
      "text/plain": [
       "5    3\n",
       "6    2\n",
       "4    1\n",
       "3    1\n",
       "2    1\n",
       "1    1\n",
       "0    1\n",
       "dtype: int64"
      ]
     },
     "execution_count": 65,
     "metadata": {},
     "output_type": "execute_result"
    }
   ],
   "source": [
    "s.value_counts()"
   ]
  },
  {
   "cell_type": "markdown",
   "metadata": {
    "deletable": true,
    "editable": true
   },
   "source": [
    "### 字符串方法\n",
    "\n",
    "对于Series对象，在其str属性中有着一系列的字符串处理方法。就如同下段代码一样，能很方便的对array中各个元素进行运算。值得注意的是，在str属性中的模式匹配默认使用正则表达式。"
   ]
  },
  {
   "cell_type": "code",
   "execution_count": 66,
   "metadata": {
    "collapsed": false,
    "deletable": true,
    "editable": true
   },
   "outputs": [
    {
     "data": {
      "text/plain": [
       "0       a\n",
       "1       b\n",
       "2       c\n",
       "3    aaba\n",
       "4    baca\n",
       "5     NaN\n",
       "6    caba\n",
       "7     dog\n",
       "8     cat\n",
       "dtype: object"
      ]
     },
     "execution_count": 66,
     "metadata": {},
     "output_type": "execute_result"
    }
   ],
   "source": [
    "s = pd.Series(['A', 'B', 'C', 'Aaba', 'Baca', np.nan, 'CABA', 'dog', 'cat'])\n",
    "s.str.lower()"
   ]
  },
  {
   "cell_type": "markdown",
   "metadata": {
    "deletable": true,
    "editable": true
   },
   "source": [
    "## 合并\n",
    "\n",
    "### Concat 连接\n",
    "\n",
    "pandas中提供了大量的方法能够轻松对Series，DataFrame和Panel对象进行不同满足逻辑关系的合并操作\n",
    "通过concat()来连接pandas对象。"
   ]
  },
  {
   "cell_type": "code",
   "execution_count": 67,
   "metadata": {
    "collapsed": false,
    "deletable": true,
    "editable": true
   },
   "outputs": [
    {
     "data": {
      "text/html": [
       "<div style=\"max-height:1000px;max-width:1500px;overflow:auto;\">\n",
       "<table border=\"1\" class=\"dataframe\">\n",
       "  <thead>\n",
       "    <tr style=\"text-align: right;\">\n",
       "      <th></th>\n",
       "      <th>0</th>\n",
       "      <th>1</th>\n",
       "      <th>2</th>\n",
       "      <th>3</th>\n",
       "    </tr>\n",
       "  </thead>\n",
       "  <tbody>\n",
       "    <tr>\n",
       "      <th>0</th>\n",
       "      <td>-1.161027</td>\n",
       "      <td>-1.231622</td>\n",
       "      <td> 0.822933</td>\n",
       "      <td>-0.878371</td>\n",
       "    </tr>\n",
       "    <tr>\n",
       "      <th>1</th>\n",
       "      <td> 0.714175</td>\n",
       "      <td>-0.588277</td>\n",
       "      <td> 1.727522</td>\n",
       "      <td>-0.705645</td>\n",
       "    </tr>\n",
       "    <tr>\n",
       "      <th>2</th>\n",
       "      <td> 1.561076</td>\n",
       "      <td>-0.124905</td>\n",
       "      <td>-0.625960</td>\n",
       "      <td>-0.248218</td>\n",
       "    </tr>\n",
       "    <tr>\n",
       "      <th>3</th>\n",
       "      <td> 0.223258</td>\n",
       "      <td> 0.697115</td>\n",
       "      <td> 0.821513</td>\n",
       "      <td>-0.620105</td>\n",
       "    </tr>\n",
       "    <tr>\n",
       "      <th>4</th>\n",
       "      <td> 0.832664</td>\n",
       "      <td> 1.299400</td>\n",
       "      <td> 1.100731</td>\n",
       "      <td> 1.244994</td>\n",
       "    </tr>\n",
       "    <tr>\n",
       "      <th>5</th>\n",
       "      <td>-1.463792</td>\n",
       "      <td> 1.709988</td>\n",
       "      <td> 1.271488</td>\n",
       "      <td>-1.394849</td>\n",
       "    </tr>\n",
       "    <tr>\n",
       "      <th>6</th>\n",
       "      <td> 0.645790</td>\n",
       "      <td>-1.030419</td>\n",
       "      <td>-0.218581</td>\n",
       "      <td> 0.204045</td>\n",
       "    </tr>\n",
       "    <tr>\n",
       "      <th>7</th>\n",
       "      <td>-0.892794</td>\n",
       "      <td> 1.370087</td>\n",
       "      <td> 0.445159</td>\n",
       "      <td> 0.015854</td>\n",
       "    </tr>\n",
       "    <tr>\n",
       "      <th>8</th>\n",
       "      <td> 0.810359</td>\n",
       "      <td> 1.111946</td>\n",
       "      <td>-0.269680</td>\n",
       "      <td> 0.461707</td>\n",
       "    </tr>\n",
       "    <tr>\n",
       "      <th>9</th>\n",
       "      <td>-2.962658</td>\n",
       "      <td>-0.170383</td>\n",
       "      <td> 0.447636</td>\n",
       "      <td> 0.231339</td>\n",
       "    </tr>\n",
       "  </tbody>\n",
       "</table>\n",
       "</div>"
      ],
      "text/plain": [
       "          0         1         2         3\n",
       "0 -1.161027 -1.231622  0.822933 -0.878371\n",
       "1  0.714175 -0.588277  1.727522 -0.705645\n",
       "2  1.561076 -0.124905 -0.625960 -0.248218\n",
       "3  0.223258  0.697115  0.821513 -0.620105\n",
       "4  0.832664  1.299400  1.100731  1.244994\n",
       "5 -1.463792  1.709988  1.271488 -1.394849\n",
       "6  0.645790 -1.030419 -0.218581  0.204045\n",
       "7 -0.892794  1.370087  0.445159  0.015854\n",
       "8  0.810359  1.111946 -0.269680  0.461707\n",
       "9 -2.962658 -0.170383  0.447636  0.231339"
      ]
     },
     "execution_count": 67,
     "metadata": {},
     "output_type": "execute_result"
    }
   ],
   "source": [
    "df = pd.DataFrame(np.random.randn(10,4))\n",
    "df"
   ]
  },
  {
   "cell_type": "code",
   "execution_count": 68,
   "metadata": {
    "collapsed": false,
    "deletable": true,
    "editable": true
   },
   "outputs": [
    {
     "data": {
      "text/plain": [
       "[          0         1         2         3\n",
       " 0 -1.161027 -1.231622  0.822933 -0.878371\n",
       " 1  0.714175 -0.588277  1.727522 -0.705645\n",
       " 2  1.561076 -0.124905 -0.625960 -0.248218,\n",
       "           0         1         2         3\n",
       " 3  0.223258  0.697115  0.821513 -0.620105\n",
       " 4  0.832664  1.299400  1.100731  1.244994\n",
       " 5 -1.463792  1.709988  1.271488 -1.394849\n",
       " 6  0.645790 -1.030419 -0.218581  0.204045,\n",
       "           0         1         2         3\n",
       " 7 -0.892794  1.370087  0.445159  0.015854\n",
       " 8  0.810359  1.111946 -0.269680  0.461707\n",
       " 9 -2.962658 -0.170383  0.447636  0.231339]"
      ]
     },
     "execution_count": 68,
     "metadata": {},
     "output_type": "execute_result"
    }
   ],
   "source": [
    "#break it into pieces\n",
    "pieces = [df[:3], df[3:7], df[7:]]\n",
    "pieces"
   ]
  },
  {
   "cell_type": "code",
   "execution_count": 69,
   "metadata": {
    "collapsed": false,
    "deletable": true,
    "editable": true
   },
   "outputs": [
    {
     "data": {
      "text/html": [
       "<div style=\"max-height:1000px;max-width:1500px;overflow:auto;\">\n",
       "<table border=\"1\" class=\"dataframe\">\n",
       "  <thead>\n",
       "    <tr style=\"text-align: right;\">\n",
       "      <th></th>\n",
       "      <th>0</th>\n",
       "      <th>1</th>\n",
       "      <th>2</th>\n",
       "      <th>3</th>\n",
       "    </tr>\n",
       "  </thead>\n",
       "  <tbody>\n",
       "    <tr>\n",
       "      <th>0</th>\n",
       "      <td>-1.161027</td>\n",
       "      <td>-1.231622</td>\n",
       "      <td> 0.822933</td>\n",
       "      <td>-0.878371</td>\n",
       "    </tr>\n",
       "    <tr>\n",
       "      <th>1</th>\n",
       "      <td> 0.714175</td>\n",
       "      <td>-0.588277</td>\n",
       "      <td> 1.727522</td>\n",
       "      <td>-0.705645</td>\n",
       "    </tr>\n",
       "    <tr>\n",
       "      <th>2</th>\n",
       "      <td> 1.561076</td>\n",
       "      <td>-0.124905</td>\n",
       "      <td>-0.625960</td>\n",
       "      <td>-0.248218</td>\n",
       "    </tr>\n",
       "    <tr>\n",
       "      <th>3</th>\n",
       "      <td> 0.223258</td>\n",
       "      <td> 0.697115</td>\n",
       "      <td> 0.821513</td>\n",
       "      <td>-0.620105</td>\n",
       "    </tr>\n",
       "    <tr>\n",
       "      <th>4</th>\n",
       "      <td> 0.832664</td>\n",
       "      <td> 1.299400</td>\n",
       "      <td> 1.100731</td>\n",
       "      <td> 1.244994</td>\n",
       "    </tr>\n",
       "    <tr>\n",
       "      <th>5</th>\n",
       "      <td>-1.463792</td>\n",
       "      <td> 1.709988</td>\n",
       "      <td> 1.271488</td>\n",
       "      <td>-1.394849</td>\n",
       "    </tr>\n",
       "    <tr>\n",
       "      <th>6</th>\n",
       "      <td> 0.645790</td>\n",
       "      <td>-1.030419</td>\n",
       "      <td>-0.218581</td>\n",
       "      <td> 0.204045</td>\n",
       "    </tr>\n",
       "    <tr>\n",
       "      <th>7</th>\n",
       "      <td>-0.892794</td>\n",
       "      <td> 1.370087</td>\n",
       "      <td> 0.445159</td>\n",
       "      <td> 0.015854</td>\n",
       "    </tr>\n",
       "    <tr>\n",
       "      <th>8</th>\n",
       "      <td> 0.810359</td>\n",
       "      <td> 1.111946</td>\n",
       "      <td>-0.269680</td>\n",
       "      <td> 0.461707</td>\n",
       "    </tr>\n",
       "    <tr>\n",
       "      <th>9</th>\n",
       "      <td>-2.962658</td>\n",
       "      <td>-0.170383</td>\n",
       "      <td> 0.447636</td>\n",
       "      <td> 0.231339</td>\n",
       "    </tr>\n",
       "  </tbody>\n",
       "</table>\n",
       "</div>"
      ],
      "text/plain": [
       "          0         1         2         3\n",
       "0 -1.161027 -1.231622  0.822933 -0.878371\n",
       "1  0.714175 -0.588277  1.727522 -0.705645\n",
       "2  1.561076 -0.124905 -0.625960 -0.248218\n",
       "3  0.223258  0.697115  0.821513 -0.620105\n",
       "4  0.832664  1.299400  1.100731  1.244994\n",
       "5 -1.463792  1.709988  1.271488 -1.394849\n",
       "6  0.645790 -1.030419 -0.218581  0.204045\n",
       "7 -0.892794  1.370087  0.445159  0.015854\n",
       "8  0.810359  1.111946 -0.269680  0.461707\n",
       "9 -2.962658 -0.170383  0.447636  0.231339"
      ]
     },
     "execution_count": 69,
     "metadata": {},
     "output_type": "execute_result"
    }
   ],
   "source": [
    "pd.concat(pieces)"
   ]
  },
  {
   "cell_type": "markdown",
   "metadata": {
    "deletable": true,
    "editable": true
   },
   "source": [
    "### Join 合并\n",
    "\n",
    "类似于SQL中的合并(merge)"
   ]
  },
  {
   "cell_type": "code",
   "execution_count": 70,
   "metadata": {
    "collapsed": false,
    "deletable": true,
    "editable": true
   },
   "outputs": [
    {
     "data": {
      "text/html": [
       "<div style=\"max-height:1000px;max-width:1500px;overflow:auto;\">\n",
       "<table border=\"1\" class=\"dataframe\">\n",
       "  <thead>\n",
       "    <tr style=\"text-align: right;\">\n",
       "      <th></th>\n",
       "      <th>key</th>\n",
       "      <th>lval</th>\n",
       "    </tr>\n",
       "  </thead>\n",
       "  <tbody>\n",
       "    <tr>\n",
       "      <th>0</th>\n",
       "      <td> foo</td>\n",
       "      <td> 1</td>\n",
       "    </tr>\n",
       "    <tr>\n",
       "      <th>1</th>\n",
       "      <td> foo</td>\n",
       "      <td> 2</td>\n",
       "    </tr>\n",
       "  </tbody>\n",
       "</table>\n",
       "</div>"
      ],
      "text/plain": [
       "   key  lval\n",
       "0  foo     1\n",
       "1  foo     2"
      ]
     },
     "execution_count": 70,
     "metadata": {},
     "output_type": "execute_result"
    }
   ],
   "source": [
    "left = pd.DataFrame({'key':['foo','foo'],'lval':[1,2]})\n",
    "left"
   ]
  },
  {
   "cell_type": "code",
   "execution_count": 71,
   "metadata": {
    "collapsed": false,
    "deletable": true,
    "editable": true
   },
   "outputs": [
    {
     "data": {
      "text/html": [
       "<div style=\"max-height:1000px;max-width:1500px;overflow:auto;\">\n",
       "<table border=\"1\" class=\"dataframe\">\n",
       "  <thead>\n",
       "    <tr style=\"text-align: right;\">\n",
       "      <th></th>\n",
       "      <th>key</th>\n",
       "      <th>lval</th>\n",
       "    </tr>\n",
       "  </thead>\n",
       "  <tbody>\n",
       "    <tr>\n",
       "      <th>0</th>\n",
       "      <td> foo</td>\n",
       "      <td> 4</td>\n",
       "    </tr>\n",
       "    <tr>\n",
       "      <th>1</th>\n",
       "      <td> foo</td>\n",
       "      <td> 5</td>\n",
       "    </tr>\n",
       "  </tbody>\n",
       "</table>\n",
       "</div>"
      ],
      "text/plain": [
       "   key  lval\n",
       "0  foo     4\n",
       "1  foo     5"
      ]
     },
     "execution_count": 71,
     "metadata": {},
     "output_type": "execute_result"
    }
   ],
   "source": [
    "right = pd.DataFrame({'key':['foo','foo'],'lval':[4,5]})\n",
    "right"
   ]
  },
  {
   "cell_type": "code",
   "execution_count": 72,
   "metadata": {
    "collapsed": false,
    "deletable": true,
    "editable": true
   },
   "outputs": [
    {
     "data": {
      "text/html": [
       "<div style=\"max-height:1000px;max-width:1500px;overflow:auto;\">\n",
       "<table border=\"1\" class=\"dataframe\">\n",
       "  <thead>\n",
       "    <tr style=\"text-align: right;\">\n",
       "      <th></th>\n",
       "      <th>key</th>\n",
       "      <th>lval_x</th>\n",
       "      <th>lval_y</th>\n",
       "    </tr>\n",
       "  </thead>\n",
       "  <tbody>\n",
       "    <tr>\n",
       "      <th>0</th>\n",
       "      <td> foo</td>\n",
       "      <td> 1</td>\n",
       "      <td> 4</td>\n",
       "    </tr>\n",
       "    <tr>\n",
       "      <th>1</th>\n",
       "      <td> foo</td>\n",
       "      <td> 1</td>\n",
       "      <td> 5</td>\n",
       "    </tr>\n",
       "    <tr>\n",
       "      <th>2</th>\n",
       "      <td> foo</td>\n",
       "      <td> 2</td>\n",
       "      <td> 4</td>\n",
       "    </tr>\n",
       "    <tr>\n",
       "      <th>3</th>\n",
       "      <td> foo</td>\n",
       "      <td> 2</td>\n",
       "      <td> 5</td>\n",
       "    </tr>\n",
       "  </tbody>\n",
       "</table>\n",
       "</div>"
      ],
      "text/plain": [
       "   key  lval_x  lval_y\n",
       "0  foo       1       4\n",
       "1  foo       1       5\n",
       "2  foo       2       4\n",
       "3  foo       2       5"
      ]
     },
     "execution_count": 72,
     "metadata": {},
     "output_type": "execute_result"
    }
   ],
   "source": [
    "pd.merge(left,right,on='key')"
   ]
  },
  {
   "cell_type": "markdown",
   "metadata": {
    "deletable": true,
    "editable": true
   },
   "source": [
    "### Append 添加\n",
    "\n",
    "将若干行添加到dataFrame后面"
   ]
  },
  {
   "cell_type": "code",
   "execution_count": 73,
   "metadata": {
    "collapsed": false,
    "deletable": true,
    "editable": true
   },
   "outputs": [
    {
     "data": {
      "text/html": [
       "<div style=\"max-height:1000px;max-width:1500px;overflow:auto;\">\n",
       "<table border=\"1\" class=\"dataframe\">\n",
       "  <thead>\n",
       "    <tr style=\"text-align: right;\">\n",
       "      <th></th>\n",
       "      <th>A</th>\n",
       "      <th>B</th>\n",
       "      <th>C</th>\n",
       "      <th>D</th>\n",
       "    </tr>\n",
       "  </thead>\n",
       "  <tbody>\n",
       "    <tr>\n",
       "      <th>0</th>\n",
       "      <td> 1.069736</td>\n",
       "      <td> 0.057451</td>\n",
       "      <td> 1.644067</td>\n",
       "      <td>-0.494798</td>\n",
       "    </tr>\n",
       "    <tr>\n",
       "      <th>1</th>\n",
       "      <td> 0.107777</td>\n",
       "      <td>-0.146868</td>\n",
       "      <td> 1.161056</td>\n",
       "      <td> 0.501471</td>\n",
       "    </tr>\n",
       "    <tr>\n",
       "      <th>2</th>\n",
       "      <td> 0.434794</td>\n",
       "      <td>-1.209243</td>\n",
       "      <td>-1.795692</td>\n",
       "      <td>-0.155802</td>\n",
       "    </tr>\n",
       "    <tr>\n",
       "      <th>3</th>\n",
       "      <td>-1.172873</td>\n",
       "      <td> 0.171433</td>\n",
       "      <td>-0.010713</td>\n",
       "      <td>-1.213308</td>\n",
       "    </tr>\n",
       "    <tr>\n",
       "      <th>4</th>\n",
       "      <td> 1.086785</td>\n",
       "      <td>-0.205287</td>\n",
       "      <td> 0.956344</td>\n",
       "      <td>-0.487511</td>\n",
       "    </tr>\n",
       "    <tr>\n",
       "      <th>5</th>\n",
       "      <td>-0.776083</td>\n",
       "      <td> 0.961408</td>\n",
       "      <td> 0.289241</td>\n",
       "      <td>-1.167467</td>\n",
       "    </tr>\n",
       "    <tr>\n",
       "      <th>6</th>\n",
       "      <td>-0.907893</td>\n",
       "      <td>-0.494137</td>\n",
       "      <td>-1.967909</td>\n",
       "      <td> 1.799217</td>\n",
       "    </tr>\n",
       "    <tr>\n",
       "      <th>7</th>\n",
       "      <td>-0.041598</td>\n",
       "      <td>-0.793360</td>\n",
       "      <td> 0.700046</td>\n",
       "      <td> 0.812201</td>\n",
       "    </tr>\n",
       "  </tbody>\n",
       "</table>\n",
       "</div>"
      ],
      "text/plain": [
       "          A         B         C         D\n",
       "0  1.069736  0.057451  1.644067 -0.494798\n",
       "1  0.107777 -0.146868  1.161056  0.501471\n",
       "2  0.434794 -1.209243 -1.795692 -0.155802\n",
       "3 -1.172873  0.171433 -0.010713 -1.213308\n",
       "4  1.086785 -0.205287  0.956344 -0.487511\n",
       "5 -0.776083  0.961408  0.289241 -1.167467\n",
       "6 -0.907893 -0.494137 -1.967909  1.799217\n",
       "7 -0.041598 -0.793360  0.700046  0.812201"
      ]
     },
     "execution_count": 73,
     "metadata": {},
     "output_type": "execute_result"
    }
   ],
   "source": [
    "df =pd.DataFrame(np.random.randn(8,4),columns=['A','B','C','D'])\n",
    "df"
   ]
  },
  {
   "cell_type": "code",
   "execution_count": 74,
   "metadata": {
    "collapsed": false,
    "deletable": true,
    "editable": true
   },
   "outputs": [
    {
     "data": {
      "text/plain": [
       "A   -1.172873\n",
       "B    0.171433\n",
       "C   -0.010713\n",
       "D   -1.213308\n",
       "Name: 3, dtype: float64"
      ]
     },
     "execution_count": 74,
     "metadata": {},
     "output_type": "execute_result"
    }
   ],
   "source": [
    "s = df.iloc[3]\n",
    "s"
   ]
  },
  {
   "cell_type": "code",
   "execution_count": 75,
   "metadata": {
    "collapsed": false,
    "deletable": true,
    "editable": true
   },
   "outputs": [
    {
     "data": {
      "text/html": [
       "<div style=\"max-height:1000px;max-width:1500px;overflow:auto;\">\n",
       "<table border=\"1\" class=\"dataframe\">\n",
       "  <thead>\n",
       "    <tr style=\"text-align: right;\">\n",
       "      <th></th>\n",
       "      <th>A</th>\n",
       "      <th>B</th>\n",
       "      <th>C</th>\n",
       "      <th>D</th>\n",
       "    </tr>\n",
       "  </thead>\n",
       "  <tbody>\n",
       "    <tr>\n",
       "      <th>0</th>\n",
       "      <td> 1.069736</td>\n",
       "      <td> 0.057451</td>\n",
       "      <td> 1.644067</td>\n",
       "      <td>-0.494798</td>\n",
       "    </tr>\n",
       "    <tr>\n",
       "      <th>1</th>\n",
       "      <td> 0.107777</td>\n",
       "      <td>-0.146868</td>\n",
       "      <td> 1.161056</td>\n",
       "      <td> 0.501471</td>\n",
       "    </tr>\n",
       "    <tr>\n",
       "      <th>2</th>\n",
       "      <td> 0.434794</td>\n",
       "      <td>-1.209243</td>\n",
       "      <td>-1.795692</td>\n",
       "      <td>-0.155802</td>\n",
       "    </tr>\n",
       "    <tr>\n",
       "      <th>3</th>\n",
       "      <td>-1.172873</td>\n",
       "      <td> 0.171433</td>\n",
       "      <td>-0.010713</td>\n",
       "      <td>-1.213308</td>\n",
       "    </tr>\n",
       "    <tr>\n",
       "      <th>4</th>\n",
       "      <td> 1.086785</td>\n",
       "      <td>-0.205287</td>\n",
       "      <td> 0.956344</td>\n",
       "      <td>-0.487511</td>\n",
       "    </tr>\n",
       "    <tr>\n",
       "      <th>5</th>\n",
       "      <td>-0.776083</td>\n",
       "      <td> 0.961408</td>\n",
       "      <td> 0.289241</td>\n",
       "      <td>-1.167467</td>\n",
       "    </tr>\n",
       "    <tr>\n",
       "      <th>6</th>\n",
       "      <td>-0.907893</td>\n",
       "      <td>-0.494137</td>\n",
       "      <td>-1.967909</td>\n",
       "      <td> 1.799217</td>\n",
       "    </tr>\n",
       "    <tr>\n",
       "      <th>7</th>\n",
       "      <td>-0.041598</td>\n",
       "      <td>-0.793360</td>\n",
       "      <td> 0.700046</td>\n",
       "      <td> 0.812201</td>\n",
       "    </tr>\n",
       "    <tr>\n",
       "      <th>8</th>\n",
       "      <td>-1.172873</td>\n",
       "      <td> 0.171433</td>\n",
       "      <td>-0.010713</td>\n",
       "      <td>-1.213308</td>\n",
       "    </tr>\n",
       "  </tbody>\n",
       "</table>\n",
       "</div>"
      ],
      "text/plain": [
       "          A         B         C         D\n",
       "0  1.069736  0.057451  1.644067 -0.494798\n",
       "1  0.107777 -0.146868  1.161056  0.501471\n",
       "2  0.434794 -1.209243 -1.795692 -0.155802\n",
       "3 -1.172873  0.171433 -0.010713 -1.213308\n",
       "4  1.086785 -0.205287  0.956344 -0.487511\n",
       "5 -0.776083  0.961408  0.289241 -1.167467\n",
       "6 -0.907893 -0.494137 -1.967909  1.799217\n",
       "7 -0.041598 -0.793360  0.700046  0.812201\n",
       "8 -1.172873  0.171433 -0.010713 -1.213308"
      ]
     },
     "execution_count": 75,
     "metadata": {},
     "output_type": "execute_result"
    }
   ],
   "source": [
    "df.append(s,ignore_index=True)"
   ]
  },
  {
   "cell_type": "markdown",
   "metadata": {
    "deletable": true,
    "editable": true
   },
   "source": [
    "## 分组\n",
    "\n",
    "* **划分** 按照某些标准将数据分为不同的组\n",
    "* **应用** 对每组数据分别执行一个函数\n",
    "* **划分** 将结果组合到一个数据结构"
   ]
  },
  {
   "cell_type": "code",
   "execution_count": 76,
   "metadata": {
    "collapsed": false,
    "deletable": true,
    "editable": true
   },
   "outputs": [
    {
     "data": {
      "text/html": [
       "<div style=\"max-height:1000px;max-width:1500px;overflow:auto;\">\n",
       "<table border=\"1\" class=\"dataframe\">\n",
       "  <thead>\n",
       "    <tr style=\"text-align: right;\">\n",
       "      <th></th>\n",
       "      <th>A</th>\n",
       "      <th>B</th>\n",
       "      <th>C</th>\n",
       "      <th>D</th>\n",
       "    </tr>\n",
       "  </thead>\n",
       "  <tbody>\n",
       "    <tr>\n",
       "      <th>0</th>\n",
       "      <td> foo</td>\n",
       "      <td>   one</td>\n",
       "      <td>-0.443665</td>\n",
       "      <td> 0.238972</td>\n",
       "    </tr>\n",
       "    <tr>\n",
       "      <th>1</th>\n",
       "      <td> bar</td>\n",
       "      <td>   one</td>\n",
       "      <td> 2.848939</td>\n",
       "      <td>-0.167037</td>\n",
       "    </tr>\n",
       "    <tr>\n",
       "      <th>2</th>\n",
       "      <td> foo</td>\n",
       "      <td>   two</td>\n",
       "      <td> 0.106889</td>\n",
       "      <td>-0.805219</td>\n",
       "    </tr>\n",
       "    <tr>\n",
       "      <th>3</th>\n",
       "      <td> bar</td>\n",
       "      <td> three</td>\n",
       "      <td> 0.432271</td>\n",
       "      <td> 1.027090</td>\n",
       "    </tr>\n",
       "    <tr>\n",
       "      <th>4</th>\n",
       "      <td> foo</td>\n",
       "      <td>   two</td>\n",
       "      <td> 0.455520</td>\n",
       "      <td> 1.006666</td>\n",
       "    </tr>\n",
       "    <tr>\n",
       "      <th>5</th>\n",
       "      <td> bar</td>\n",
       "      <td>   two</td>\n",
       "      <td>-0.312365</td>\n",
       "      <td>-0.947471</td>\n",
       "    </tr>\n",
       "    <tr>\n",
       "      <th>6</th>\n",
       "      <td> foo</td>\n",
       "      <td>   one</td>\n",
       "      <td> 0.199800</td>\n",
       "      <td> 0.165791</td>\n",
       "    </tr>\n",
       "    <tr>\n",
       "      <th>7</th>\n",
       "      <td> bar</td>\n",
       "      <td> three</td>\n",
       "      <td>-0.551134</td>\n",
       "      <td> 1.478997</td>\n",
       "    </tr>\n",
       "  </tbody>\n",
       "</table>\n",
       "</div>"
      ],
      "text/plain": [
       "     A      B         C         D\n",
       "0  foo    one -0.443665  0.238972\n",
       "1  bar    one  2.848939 -0.167037\n",
       "2  foo    two  0.106889 -0.805219\n",
       "3  bar  three  0.432271  1.027090\n",
       "4  foo    two  0.455520  1.006666\n",
       "5  bar    two -0.312365 -0.947471\n",
       "6  foo    one  0.199800  0.165791\n",
       "7  bar  three -0.551134  1.478997"
      ]
     },
     "execution_count": 76,
     "metadata": {},
     "output_type": "execute_result"
    }
   ],
   "source": [
    "df = pd.DataFrame({'A' : ['foo', 'bar', 'foo', 'bar', \n",
    "                          'foo', 'bar', 'foo', 'bar'],\n",
    "                   'B' : ['one', 'one', 'two', 'three', \n",
    "                          'two', 'two', 'one', 'three'],\n",
    "                   'C' : np.random.randn(8),\n",
    "                   'D' : np.random.randn(8)})\n",
    "df"
   ]
  },
  {
   "cell_type": "markdown",
   "metadata": {
    "deletable": true,
    "editable": true
   },
   "source": [
    "分组并对每个分组应用sum函数"
   ]
  },
  {
   "cell_type": "code",
   "execution_count": 77,
   "metadata": {
    "collapsed": false,
    "deletable": true,
    "editable": true
   },
   "outputs": [
    {
     "data": {
      "text/html": [
       "<div style=\"max-height:1000px;max-width:1500px;overflow:auto;\">\n",
       "<table border=\"1\" class=\"dataframe\">\n",
       "  <thead>\n",
       "    <tr style=\"text-align: right;\">\n",
       "      <th></th>\n",
       "      <th>C</th>\n",
       "      <th>D</th>\n",
       "    </tr>\n",
       "    <tr>\n",
       "      <th>A</th>\n",
       "      <th></th>\n",
       "      <th></th>\n",
       "    </tr>\n",
       "  </thead>\n",
       "  <tbody>\n",
       "    <tr>\n",
       "      <th>bar</th>\n",
       "      <td> 2.417712</td>\n",
       "      <td> 1.391579</td>\n",
       "    </tr>\n",
       "    <tr>\n",
       "      <th>foo</th>\n",
       "      <td> 0.318544</td>\n",
       "      <td> 0.606211</td>\n",
       "    </tr>\n",
       "  </tbody>\n",
       "</table>\n",
       "</div>"
      ],
      "text/plain": [
       "            C         D\n",
       "A                      \n",
       "bar  2.417712  1.391579\n",
       "foo  0.318544  0.606211"
      ]
     },
     "execution_count": 77,
     "metadata": {},
     "output_type": "execute_result"
    }
   ],
   "source": [
    "df.groupby('A').sum()"
   ]
  },
  {
   "cell_type": "markdown",
   "metadata": {
    "deletable": true,
    "editable": true
   },
   "source": [
    "按多个列分组形成层级索引，然后应用函数"
   ]
  },
  {
   "cell_type": "code",
   "execution_count": 78,
   "metadata": {
    "collapsed": false,
    "deletable": true,
    "editable": true
   },
   "outputs": [
    {
     "data": {
      "text/html": [
       "<div style=\"max-height:1000px;max-width:1500px;overflow:auto;\">\n",
       "<table border=\"1\" class=\"dataframe\">\n",
       "  <thead>\n",
       "    <tr style=\"text-align: right;\">\n",
       "      <th></th>\n",
       "      <th></th>\n",
       "      <th>C</th>\n",
       "      <th>D</th>\n",
       "    </tr>\n",
       "    <tr>\n",
       "      <th>A</th>\n",
       "      <th>B</th>\n",
       "      <th></th>\n",
       "      <th></th>\n",
       "    </tr>\n",
       "  </thead>\n",
       "  <tbody>\n",
       "    <tr>\n",
       "      <th rowspan=\"3\" valign=\"top\">bar</th>\n",
       "      <th>one</th>\n",
       "      <td> 2.848939</td>\n",
       "      <td>-0.167037</td>\n",
       "    </tr>\n",
       "    <tr>\n",
       "      <th>three</th>\n",
       "      <td>-0.118863</td>\n",
       "      <td> 2.506087</td>\n",
       "    </tr>\n",
       "    <tr>\n",
       "      <th>two</th>\n",
       "      <td>-0.312365</td>\n",
       "      <td>-0.947471</td>\n",
       "    </tr>\n",
       "    <tr>\n",
       "      <th rowspan=\"2\" valign=\"top\">foo</th>\n",
       "      <th>one</th>\n",
       "      <td>-0.243865</td>\n",
       "      <td> 0.404764</td>\n",
       "    </tr>\n",
       "    <tr>\n",
       "      <th>two</th>\n",
       "      <td> 0.562409</td>\n",
       "      <td> 0.201447</td>\n",
       "    </tr>\n",
       "  </tbody>\n",
       "</table>\n",
       "</div>"
      ],
      "text/plain": [
       "                  C         D\n",
       "A   B                        \n",
       "bar one    2.848939 -0.167037\n",
       "    three -0.118863  2.506087\n",
       "    two   -0.312365 -0.947471\n",
       "foo one   -0.243865  0.404764\n",
       "    two    0.562409  0.201447"
      ]
     },
     "execution_count": 78,
     "metadata": {},
     "output_type": "execute_result"
    }
   ],
   "source": [
    "df.groupby(['A','B']).sum()"
   ]
  },
  {
   "cell_type": "markdown",
   "metadata": {
    "deletable": true,
    "editable": true
   },
   "source": [
    "## 变形\n",
    "\n",
    "### 堆叠"
   ]
  },
  {
   "cell_type": "code",
   "execution_count": 79,
   "metadata": {
    "collapsed": false,
    "deletable": true,
    "editable": true
   },
   "outputs": [
    {
     "data": {
      "text/html": [
       "<div style=\"max-height:1000px;max-width:1500px;overflow:auto;\">\n",
       "<table border=\"1\" class=\"dataframe\">\n",
       "  <thead>\n",
       "    <tr style=\"text-align: right;\">\n",
       "      <th></th>\n",
       "      <th></th>\n",
       "      <th>A</th>\n",
       "      <th>B</th>\n",
       "    </tr>\n",
       "    <tr>\n",
       "      <th>first</th>\n",
       "      <th>second</th>\n",
       "      <th></th>\n",
       "      <th></th>\n",
       "    </tr>\n",
       "  </thead>\n",
       "  <tbody>\n",
       "    <tr>\n",
       "      <th rowspan=\"2\" valign=\"top\">bar</th>\n",
       "      <th>one</th>\n",
       "      <td>-2.457795</td>\n",
       "      <td> 0.063298</td>\n",
       "    </tr>\n",
       "    <tr>\n",
       "      <th>two</th>\n",
       "      <td>-0.156439</td>\n",
       "      <td>-0.519229</td>\n",
       "    </tr>\n",
       "    <tr>\n",
       "      <th rowspan=\"2\" valign=\"top\">baz</th>\n",
       "      <th>one</th>\n",
       "      <td>-0.966348</td>\n",
       "      <td>-0.600774</td>\n",
       "    </tr>\n",
       "    <tr>\n",
       "      <th>two</th>\n",
       "      <td> 0.760764</td>\n",
       "      <td> 0.750158</td>\n",
       "    </tr>\n",
       "  </tbody>\n",
       "</table>\n",
       "</div>"
      ],
      "text/plain": [
       "                     A         B\n",
       "first second                    \n",
       "bar   one    -2.457795  0.063298\n",
       "      two    -0.156439 -0.519229\n",
       "baz   one    -0.966348 -0.600774\n",
       "      two     0.760764  0.750158"
      ]
     },
     "execution_count": 79,
     "metadata": {},
     "output_type": "execute_result"
    }
   ],
   "source": [
    "tuples = list(zip(*[['bar', 'bar', 'baz', 'baz',\n",
    "                     'foo', 'foo', 'qux', 'qux'],\n",
    "                    ['one', 'two', 'one', 'two',\n",
    "                     'one', 'two', 'one', 'two']]))\n",
    "index = pd.MultiIndex.from_tuples(tuples,names=['first', 'second'])\n",
    "df = pd.DataFrame(np.random.randn(8, 2), index=index, columns=['A', 'B'])\n",
    "\n",
    "df2 = df[:4]\n",
    "df2"
   ]
  },
  {
   "cell_type": "markdown",
   "metadata": {
    "deletable": true,
    "editable": true
   },
   "source": [
    "**stack()**方法对DataFrame的列“压缩”一个层级"
   ]
  },
  {
   "cell_type": "code",
   "execution_count": 80,
   "metadata": {
    "collapsed": false,
    "deletable": true,
    "editable": true
   },
   "outputs": [
    {
     "data": {
      "text/plain": [
       "first  second   \n",
       "bar    one     A   -2.457795\n",
       "               B    0.063298\n",
       "       two     A   -0.156439\n",
       "               B   -0.519229\n",
       "baz    one     A   -0.966348\n",
       "               B   -0.600774\n",
       "       two     A    0.760764\n",
       "               B    0.750158\n",
       "dtype: float64"
      ]
     },
     "execution_count": 80,
     "metadata": {},
     "output_type": "execute_result"
    }
   ],
   "source": [
    "stacked = df2.stack()\n",
    "stacked"
   ]
  },
  {
   "cell_type": "markdown",
   "metadata": {
    "deletable": true,
    "editable": true
   },
   "source": [
    "对于一个“堆叠过的”DataFrame或者Series（拥有MultiIndex作为索引），**stack()**的逆操作是**unstack()**，默认反堆叠到上一个层级"
   ]
  },
  {
   "cell_type": "code",
   "execution_count": 81,
   "metadata": {
    "collapsed": false,
    "deletable": true,
    "editable": true
   },
   "outputs": [
    {
     "data": {
      "text/html": [
       "<div style=\"max-height:1000px;max-width:1500px;overflow:auto;\">\n",
       "<table border=\"1\" class=\"dataframe\">\n",
       "  <thead>\n",
       "    <tr style=\"text-align: right;\">\n",
       "      <th></th>\n",
       "      <th></th>\n",
       "      <th>A</th>\n",
       "      <th>B</th>\n",
       "    </tr>\n",
       "    <tr>\n",
       "      <th>first</th>\n",
       "      <th>second</th>\n",
       "      <th></th>\n",
       "      <th></th>\n",
       "    </tr>\n",
       "  </thead>\n",
       "  <tbody>\n",
       "    <tr>\n",
       "      <th rowspan=\"2\" valign=\"top\">bar</th>\n",
       "      <th>one</th>\n",
       "      <td>-2.457795</td>\n",
       "      <td> 0.063298</td>\n",
       "    </tr>\n",
       "    <tr>\n",
       "      <th>two</th>\n",
       "      <td>-0.156439</td>\n",
       "      <td>-0.519229</td>\n",
       "    </tr>\n",
       "    <tr>\n",
       "      <th rowspan=\"2\" valign=\"top\">baz</th>\n",
       "      <th>one</th>\n",
       "      <td>-0.966348</td>\n",
       "      <td>-0.600774</td>\n",
       "    </tr>\n",
       "    <tr>\n",
       "      <th>two</th>\n",
       "      <td> 0.760764</td>\n",
       "      <td> 0.750158</td>\n",
       "    </tr>\n",
       "  </tbody>\n",
       "</table>\n",
       "</div>"
      ],
      "text/plain": [
       "                     A         B\n",
       "first second                    \n",
       "bar   one    -2.457795  0.063298\n",
       "      two    -0.156439 -0.519229\n",
       "baz   one    -0.966348 -0.600774\n",
       "      two     0.760764  0.750158"
      ]
     },
     "execution_count": 81,
     "metadata": {},
     "output_type": "execute_result"
    }
   ],
   "source": [
    "stacked.unstack()"
   ]
  },
  {
   "cell_type": "code",
   "execution_count": 82,
   "metadata": {
    "collapsed": false,
    "deletable": true,
    "editable": true
   },
   "outputs": [
    {
     "data": {
      "text/html": [
       "<div style=\"max-height:1000px;max-width:1500px;overflow:auto;\">\n",
       "<table border=\"1\" class=\"dataframe\">\n",
       "  <thead>\n",
       "    <tr style=\"text-align: right;\">\n",
       "      <th></th>\n",
       "      <th>second</th>\n",
       "      <th>one</th>\n",
       "      <th>two</th>\n",
       "    </tr>\n",
       "    <tr>\n",
       "      <th>first</th>\n",
       "      <th></th>\n",
       "      <th></th>\n",
       "      <th></th>\n",
       "    </tr>\n",
       "  </thead>\n",
       "  <tbody>\n",
       "    <tr>\n",
       "      <th rowspan=\"2\" valign=\"top\">bar</th>\n",
       "      <th>A</th>\n",
       "      <td>-2.457795</td>\n",
       "      <td>-0.156439</td>\n",
       "    </tr>\n",
       "    <tr>\n",
       "      <th>B</th>\n",
       "      <td> 0.063298</td>\n",
       "      <td>-0.519229</td>\n",
       "    </tr>\n",
       "    <tr>\n",
       "      <th rowspan=\"2\" valign=\"top\">baz</th>\n",
       "      <th>A</th>\n",
       "      <td>-0.966348</td>\n",
       "      <td> 0.760764</td>\n",
       "    </tr>\n",
       "    <tr>\n",
       "      <th>B</th>\n",
       "      <td>-0.600774</td>\n",
       "      <td> 0.750158</td>\n",
       "    </tr>\n",
       "  </tbody>\n",
       "</table>\n",
       "</div>"
      ],
      "text/plain": [
       "second        one       two\n",
       "first                      \n",
       "bar   A -2.457795 -0.156439\n",
       "      B  0.063298 -0.519229\n",
       "baz   A -0.966348  0.760764\n",
       "      B -0.600774  0.750158"
      ]
     },
     "execution_count": 82,
     "metadata": {},
     "output_type": "execute_result"
    }
   ],
   "source": [
    "stacked.unstack(1)"
   ]
  },
  {
   "cell_type": "code",
   "execution_count": 83,
   "metadata": {
    "collapsed": false,
    "deletable": true,
    "editable": true
   },
   "outputs": [
    {
     "data": {
      "text/html": [
       "<div style=\"max-height:1000px;max-width:1500px;overflow:auto;\">\n",
       "<table border=\"1\" class=\"dataframe\">\n",
       "  <thead>\n",
       "    <tr style=\"text-align: right;\">\n",
       "      <th></th>\n",
       "      <th>first</th>\n",
       "      <th>bar</th>\n",
       "      <th>baz</th>\n",
       "    </tr>\n",
       "    <tr>\n",
       "      <th>second</th>\n",
       "      <th></th>\n",
       "      <th></th>\n",
       "      <th></th>\n",
       "    </tr>\n",
       "  </thead>\n",
       "  <tbody>\n",
       "    <tr>\n",
       "      <th rowspan=\"2\" valign=\"top\">one</th>\n",
       "      <th>A</th>\n",
       "      <td>-2.457795</td>\n",
       "      <td>-0.966348</td>\n",
       "    </tr>\n",
       "    <tr>\n",
       "      <th>B</th>\n",
       "      <td> 0.063298</td>\n",
       "      <td>-0.600774</td>\n",
       "    </tr>\n",
       "    <tr>\n",
       "      <th rowspan=\"2\" valign=\"top\">two</th>\n",
       "      <th>A</th>\n",
       "      <td>-0.156439</td>\n",
       "      <td> 0.760764</td>\n",
       "    </tr>\n",
       "    <tr>\n",
       "      <th>B</th>\n",
       "      <td>-0.519229</td>\n",
       "      <td> 0.750158</td>\n",
       "    </tr>\n",
       "  </tbody>\n",
       "</table>\n",
       "</div>"
      ],
      "text/plain": [
       "first          bar       baz\n",
       "second                      \n",
       "one    A -2.457795 -0.966348\n",
       "       B  0.063298 -0.600774\n",
       "two    A -0.156439  0.760764\n",
       "       B -0.519229  0.750158"
      ]
     },
     "execution_count": 83,
     "metadata": {},
     "output_type": "execute_result"
    }
   ],
   "source": [
    "stacked.unstack(0)"
   ]
  },
  {
   "cell_type": "markdown",
   "metadata": {
    "deletable": true,
    "editable": true
   },
   "source": [
    "### 数据透视表"
   ]
  },
  {
   "cell_type": "code",
   "execution_count": 84,
   "metadata": {
    "collapsed": false,
    "deletable": true,
    "editable": true
   },
   "outputs": [
    {
     "data": {
      "text/html": [
       "<div style=\"max-height:1000px;max-width:1500px;overflow:auto;\">\n",
       "<table border=\"1\" class=\"dataframe\">\n",
       "  <thead>\n",
       "    <tr style=\"text-align: right;\">\n",
       "      <th></th>\n",
       "      <th>A</th>\n",
       "      <th>B</th>\n",
       "      <th>C</th>\n",
       "      <th>D</th>\n",
       "      <th>E</th>\n",
       "    </tr>\n",
       "  </thead>\n",
       "  <tbody>\n",
       "    <tr>\n",
       "      <th>0 </th>\n",
       "      <td>   one</td>\n",
       "      <td> A</td>\n",
       "      <td> foo</td>\n",
       "      <td> 0.472500</td>\n",
       "      <td>-0.023828</td>\n",
       "    </tr>\n",
       "    <tr>\n",
       "      <th>1 </th>\n",
       "      <td>   one</td>\n",
       "      <td> B</td>\n",
       "      <td> foo</td>\n",
       "      <td> 1.395087</td>\n",
       "      <td> 1.796497</td>\n",
       "    </tr>\n",
       "    <tr>\n",
       "      <th>2 </th>\n",
       "      <td>   two</td>\n",
       "      <td> C</td>\n",
       "      <td> foo</td>\n",
       "      <td>-0.018254</td>\n",
       "      <td> 0.103754</td>\n",
       "    </tr>\n",
       "    <tr>\n",
       "      <th>3 </th>\n",
       "      <td> three</td>\n",
       "      <td> A</td>\n",
       "      <td> bar</td>\n",
       "      <td>-0.961576</td>\n",
       "      <td> 0.812154</td>\n",
       "    </tr>\n",
       "    <tr>\n",
       "      <th>4 </th>\n",
       "      <td>   one</td>\n",
       "      <td> B</td>\n",
       "      <td> bar</td>\n",
       "      <td> 1.239921</td>\n",
       "      <td> 1.058762</td>\n",
       "    </tr>\n",
       "    <tr>\n",
       "      <th>5 </th>\n",
       "      <td>   one</td>\n",
       "      <td> C</td>\n",
       "      <td> bar</td>\n",
       "      <td>-0.162519</td>\n",
       "      <td>-1.145215</td>\n",
       "    </tr>\n",
       "    <tr>\n",
       "      <th>6 </th>\n",
       "      <td>   two</td>\n",
       "      <td> A</td>\n",
       "      <td> foo</td>\n",
       "      <td> 0.783263</td>\n",
       "      <td> 0.602081</td>\n",
       "    </tr>\n",
       "    <tr>\n",
       "      <th>7 </th>\n",
       "      <td> three</td>\n",
       "      <td> B</td>\n",
       "      <td> foo</td>\n",
       "      <td>-1.131829</td>\n",
       "      <td>-0.958198</td>\n",
       "    </tr>\n",
       "    <tr>\n",
       "      <th>8 </th>\n",
       "      <td>   one</td>\n",
       "      <td> C</td>\n",
       "      <td> foo</td>\n",
       "      <td>-1.323945</td>\n",
       "      <td> 0.701110</td>\n",
       "    </tr>\n",
       "    <tr>\n",
       "      <th>9 </th>\n",
       "      <td>   one</td>\n",
       "      <td> A</td>\n",
       "      <td> bar</td>\n",
       "      <td>-0.985977</td>\n",
       "      <td> 0.679032</td>\n",
       "    </tr>\n",
       "    <tr>\n",
       "      <th>10</th>\n",
       "      <td>   two</td>\n",
       "      <td> B</td>\n",
       "      <td> bar</td>\n",
       "      <td> 0.559153</td>\n",
       "      <td> 1.564735</td>\n",
       "    </tr>\n",
       "    <tr>\n",
       "      <th>11</th>\n",
       "      <td> three</td>\n",
       "      <td> C</td>\n",
       "      <td> bar</td>\n",
       "      <td>-0.688053</td>\n",
       "      <td> 0.467063</td>\n",
       "    </tr>\n",
       "  </tbody>\n",
       "</table>\n",
       "</div>"
      ],
      "text/plain": [
       "        A  B    C         D         E\n",
       "0     one  A  foo  0.472500 -0.023828\n",
       "1     one  B  foo  1.395087  1.796497\n",
       "2     two  C  foo -0.018254  0.103754\n",
       "3   three  A  bar -0.961576  0.812154\n",
       "4     one  B  bar  1.239921  1.058762\n",
       "5     one  C  bar -0.162519 -1.145215\n",
       "6     two  A  foo  0.783263  0.602081\n",
       "7   three  B  foo -1.131829 -0.958198\n",
       "8     one  C  foo -1.323945  0.701110\n",
       "9     one  A  bar -0.985977  0.679032\n",
       "10    two  B  bar  0.559153  1.564735\n",
       "11  three  C  bar -0.688053  0.467063"
      ]
     },
     "execution_count": 84,
     "metadata": {},
     "output_type": "execute_result"
    }
   ],
   "source": [
    "df = pd.DataFrame({'A' : ['one', 'one', 'two', 'three'] * 3,\n",
    "                   'B' : ['A', 'B', 'C'] * 4,\n",
    "                   'C' : ['foo', 'foo', 'foo', 'bar', 'bar', 'bar'] * 2,\n",
    "                   'D' : np.random.randn(12),\n",
    "                   'E' : np.random.randn(12)})\n",
    "df"
   ]
  },
  {
   "cell_type": "code",
   "execution_count": 85,
   "metadata": {
    "collapsed": false,
    "deletable": true,
    "editable": true
   },
   "outputs": [
    {
     "data": {
      "text/html": [
       "<div style=\"max-height:1000px;max-width:1500px;overflow:auto;\">\n",
       "<table border=\"1\" class=\"dataframe\">\n",
       "  <thead>\n",
       "    <tr style=\"text-align: right;\">\n",
       "      <th></th>\n",
       "      <th>C</th>\n",
       "      <th>bar</th>\n",
       "      <th>foo</th>\n",
       "    </tr>\n",
       "    <tr>\n",
       "      <th>A</th>\n",
       "      <th>B</th>\n",
       "      <th></th>\n",
       "      <th></th>\n",
       "    </tr>\n",
       "  </thead>\n",
       "  <tbody>\n",
       "    <tr>\n",
       "      <th rowspan=\"3\" valign=\"top\">one</th>\n",
       "      <th>A</th>\n",
       "      <td>-0.985977</td>\n",
       "      <td> 0.472500</td>\n",
       "    </tr>\n",
       "    <tr>\n",
       "      <th>B</th>\n",
       "      <td> 1.239921</td>\n",
       "      <td> 1.395087</td>\n",
       "    </tr>\n",
       "    <tr>\n",
       "      <th>C</th>\n",
       "      <td>-0.162519</td>\n",
       "      <td>-1.323945</td>\n",
       "    </tr>\n",
       "    <tr>\n",
       "      <th rowspan=\"3\" valign=\"top\">three</th>\n",
       "      <th>A</th>\n",
       "      <td>-0.961576</td>\n",
       "      <td>      NaN</td>\n",
       "    </tr>\n",
       "    <tr>\n",
       "      <th>B</th>\n",
       "      <td>      NaN</td>\n",
       "      <td>-1.131829</td>\n",
       "    </tr>\n",
       "    <tr>\n",
       "      <th>C</th>\n",
       "      <td>-0.688053</td>\n",
       "      <td>      NaN</td>\n",
       "    </tr>\n",
       "    <tr>\n",
       "      <th rowspan=\"3\" valign=\"top\">two</th>\n",
       "      <th>A</th>\n",
       "      <td>      NaN</td>\n",
       "      <td> 0.783263</td>\n",
       "    </tr>\n",
       "    <tr>\n",
       "      <th>B</th>\n",
       "      <td> 0.559153</td>\n",
       "      <td>      NaN</td>\n",
       "    </tr>\n",
       "    <tr>\n",
       "      <th>C</th>\n",
       "      <td>      NaN</td>\n",
       "      <td>-0.018254</td>\n",
       "    </tr>\n",
       "  </tbody>\n",
       "</table>\n",
       "</div>"
      ],
      "text/plain": [
       "C             bar       foo\n",
       "A     B                    \n",
       "one   A -0.985977  0.472500\n",
       "      B  1.239921  1.395087\n",
       "      C -0.162519 -1.323945\n",
       "three A -0.961576       NaN\n",
       "      B       NaN -1.131829\n",
       "      C -0.688053       NaN\n",
       "two   A       NaN  0.783263\n",
       "      B  0.559153       NaN\n",
       "      C       NaN -0.018254"
      ]
     },
     "execution_count": 85,
     "metadata": {},
     "output_type": "execute_result"
    }
   ],
   "source": [
    "pd.pivot_table(df, values='D', index=['A', 'B'], columns=['C'])"
   ]
  },
  {
   "cell_type": "markdown",
   "metadata": {
    "deletable": true,
    "editable": true
   },
   "source": [
    "## 时间序列\n",
    "\n",
    "pandas在对频率转换进行重新采样时拥有着简单，强大而且高效的功能（例如把按秒采样的数据转换为按5分钟采样的数据）。这在金融领域很常见，但又不限于此。"
   ]
  },
  {
   "cell_type": "code",
   "execution_count": 86,
   "metadata": {
    "collapsed": false,
    "deletable": true,
    "editable": true
   },
   "outputs": [
    {
     "data": {
      "text/plain": [
       "<class 'pandas.tseries.index.DatetimeIndex'>\n",
       "[2012-01-01 00:00:00, ..., 2012-01-01 00:01:39]\n",
       "Length: 100, Freq: S, Timezone: None"
      ]
     },
     "execution_count": 86,
     "metadata": {},
     "output_type": "execute_result"
    }
   ],
   "source": [
    "rng = pd.date_range('1/1/2012',periods=100,freq='S')\n",
    "rng"
   ]
  },
  {
   "cell_type": "code",
   "execution_count": 87,
   "metadata": {
    "collapsed": false,
    "deletable": true,
    "editable": true
   },
   "outputs": [
    {
     "data": {
      "text/plain": [
       "2012-01-01 00:00:00    114\n",
       "2012-01-01 00:00:01     62\n",
       "2012-01-01 00:00:02    370\n",
       "2012-01-01 00:00:03    379\n",
       "2012-01-01 00:00:04    360\n",
       "2012-01-01 00:00:05    234\n",
       "2012-01-01 00:00:06    198\n",
       "2012-01-01 00:00:07     55\n",
       "2012-01-01 00:00:08    458\n",
       "2012-01-01 00:00:09    241\n",
       "2012-01-01 00:00:10    117\n",
       "2012-01-01 00:00:11    110\n",
       "2012-01-01 00:00:12     57\n",
       "2012-01-01 00:00:13    293\n",
       "2012-01-01 00:00:14    150\n",
       "...\n",
       "2012-01-01 00:01:25    346\n",
       "2012-01-01 00:01:26    355\n",
       "2012-01-01 00:01:27     27\n",
       "2012-01-01 00:01:28     36\n",
       "2012-01-01 00:01:29     47\n",
       "2012-01-01 00:01:30    394\n",
       "2012-01-01 00:01:31    295\n",
       "2012-01-01 00:01:32    329\n",
       "2012-01-01 00:01:33     48\n",
       "2012-01-01 00:01:34    296\n",
       "2012-01-01 00:01:35     18\n",
       "2012-01-01 00:01:36    373\n",
       "2012-01-01 00:01:37    328\n",
       "2012-01-01 00:01:38    494\n",
       "2012-01-01 00:01:39    457\n",
       "Freq: S, Length: 100"
      ]
     },
     "execution_count": 87,
     "metadata": {},
     "output_type": "execute_result"
    }
   ],
   "source": [
    "ts = pd.Series(np.random.randint(0,500,len(rng)),index=rng)\n",
    "ts"
   ]
  },
  {
   "cell_type": "code",
   "execution_count": 88,
   "metadata": {
    "collapsed": false,
    "deletable": true,
    "editable": true
   },
   "outputs": [
    {
     "data": {
      "text/plain": [
       "2012-01-01    24374\n",
       "Freq: 5T, dtype: int64"
      ]
     },
     "execution_count": 88,
     "metadata": {},
     "output_type": "execute_result"
    }
   ],
   "source": [
    "ts.resample('5Min',how='sum')"
   ]
  },
  {
   "cell_type": "markdown",
   "metadata": {
    "deletable": true,
    "editable": true
   },
   "source": [
    "时区表示"
   ]
  },
  {
   "cell_type": "code",
   "execution_count": 89,
   "metadata": {
    "collapsed": false,
    "deletable": true,
    "editable": true
   },
   "outputs": [
    {
     "data": {
      "text/plain": [
       "<class 'pandas.tseries.index.DatetimeIndex'>\n",
       "[2012-03-06, ..., 2012-03-10]\n",
       "Length: 5, Freq: D, Timezone: None"
      ]
     },
     "execution_count": 89,
     "metadata": {},
     "output_type": "execute_result"
    }
   ],
   "source": [
    "rng = pd.date_range('3/6/2012',periods=5,freq='D')\n",
    "rng"
   ]
  },
  {
   "cell_type": "code",
   "execution_count": 90,
   "metadata": {
    "collapsed": false,
    "deletable": true,
    "editable": true
   },
   "outputs": [
    {
     "data": {
      "text/plain": [
       "2012-03-06   -1.062647\n",
       "2012-03-07   -0.988973\n",
       "2012-03-08    0.018998\n",
       "2012-03-09    0.882671\n",
       "2012-03-10   -0.566935\n",
       "Freq: D, dtype: float64"
      ]
     },
     "execution_count": 90,
     "metadata": {},
     "output_type": "execute_result"
    }
   ],
   "source": [
    "ts = pd.Series(np.random.randn(len(rng)),index=rng)\n",
    "ts"
   ]
  },
  {
   "cell_type": "code",
   "execution_count": 91,
   "metadata": {
    "collapsed": false,
    "deletable": true,
    "editable": true
   },
   "outputs": [
    {
     "data": {
      "text/plain": [
       "2012-03-06 00:00:00+00:00   -1.062647\n",
       "2012-03-07 00:00:00+00:00   -0.988973\n",
       "2012-03-08 00:00:00+00:00    0.018998\n",
       "2012-03-09 00:00:00+00:00    0.882671\n",
       "2012-03-10 00:00:00+00:00   -0.566935\n",
       "Freq: D, dtype: float64"
      ]
     },
     "execution_count": 91,
     "metadata": {},
     "output_type": "execute_result"
    }
   ],
   "source": [
    "ts_utc = ts.tz_localize('UTC')\n",
    "ts_utc"
   ]
  },
  {
   "cell_type": "markdown",
   "metadata": {
    "deletable": true,
    "editable": true
   },
   "source": [
    "时区转换"
   ]
  },
  {
   "cell_type": "code",
   "execution_count": 92,
   "metadata": {
    "collapsed": false,
    "deletable": true,
    "editable": true
   },
   "outputs": [
    {
     "data": {
      "text/plain": [
       "2012-03-05 19:00:00-05:00   -1.062647\n",
       "2012-03-06 19:00:00-05:00   -0.988973\n",
       "2012-03-07 19:00:00-05:00    0.018998\n",
       "2012-03-08 19:00:00-05:00    0.882671\n",
       "2012-03-09 19:00:00-05:00   -0.566935\n",
       "Freq: D, dtype: float64"
      ]
     },
     "execution_count": 92,
     "metadata": {},
     "output_type": "execute_result"
    }
   ],
   "source": [
    "ts_utc.tz_convert('US/Eastern')"
   ]
  },
  {
   "cell_type": "markdown",
   "metadata": {
    "deletable": true,
    "editable": true
   },
   "source": [
    "时间跨度转换"
   ]
  },
  {
   "cell_type": "code",
   "execution_count": 93,
   "metadata": {
    "collapsed": false,
    "deletable": true,
    "editable": true
   },
   "outputs": [
    {
     "data": {
      "text/plain": [
       "<class 'pandas.tseries.index.DatetimeIndex'>\n",
       "[2012-01-31, ..., 2012-05-31]\n",
       "Length: 5, Freq: M, Timezone: None"
      ]
     },
     "execution_count": 93,
     "metadata": {},
     "output_type": "execute_result"
    }
   ],
   "source": [
    "rng = pd.date_range('1/1/2012', periods=5, freq='M')\n",
    "rng"
   ]
  },
  {
   "cell_type": "code",
   "execution_count": 94,
   "metadata": {
    "collapsed": false,
    "deletable": true,
    "editable": true
   },
   "outputs": [
    {
     "data": {
      "text/plain": [
       "2012-01-31   -0.632847\n",
       "2012-02-29   -0.983099\n",
       "2012-03-31    1.646944\n",
       "2012-04-30   -2.136451\n",
       "2012-05-31   -0.048257\n",
       "Freq: M, dtype: float64"
      ]
     },
     "execution_count": 94,
     "metadata": {},
     "output_type": "execute_result"
    }
   ],
   "source": [
    "ts = pd.Series(np.random.randn(len(rng)), index=rng)\n",
    "ts"
   ]
  },
  {
   "cell_type": "code",
   "execution_count": 96,
   "metadata": {
    "collapsed": false,
    "deletable": true,
    "editable": true
   },
   "outputs": [
    {
     "data": {
      "text/plain": [
       "2012-01   -0.632847\n",
       "2012-02   -0.983099\n",
       "2012-03    1.646944\n",
       "2012-04   -2.136451\n",
       "2012-05   -0.048257\n",
       "Freq: M, dtype: float64"
      ]
     },
     "execution_count": 96,
     "metadata": {},
     "output_type": "execute_result"
    }
   ],
   "source": [
    "ps = ts.to_period()\n",
    "ps"
   ]
  },
  {
   "cell_type": "code",
   "execution_count": 97,
   "metadata": {
    "collapsed": false,
    "deletable": true,
    "editable": true
   },
   "outputs": [
    {
     "data": {
      "text/plain": [
       "2012-01-01   -0.632847\n",
       "2012-02-01   -0.983099\n",
       "2012-03-01    1.646944\n",
       "2012-04-01   -2.136451\n",
       "2012-05-01   -0.048257\n",
       "Freq: MS, dtype: float64"
      ]
     },
     "execution_count": 97,
     "metadata": {},
     "output_type": "execute_result"
    }
   ],
   "source": [
    "ps.to_timestamp()\n"
   ]
  },
  {
   "cell_type": "markdown",
   "metadata": {
    "deletable": true,
    "editable": true
   },
   "source": [
    "日期与时间戳之间的转换使得可以使用一些方便的算术函数。例如，我们把以11月为年底的季度数据转换为当前季度末月底为始的数据"
   ]
  },
  {
   "cell_type": "code",
   "execution_count": 98,
   "metadata": {
    "collapsed": false,
    "deletable": true,
    "editable": true
   },
   "outputs": [
    {
     "data": {
      "text/plain": [
       "<class 'pandas.tseries.period.PeriodIndex'>\n",
       "[1990Q1, ..., 2000Q4]\n",
       "Length: 44, Freq: Q-NOV"
      ]
     },
     "execution_count": 98,
     "metadata": {},
     "output_type": "execute_result"
    }
   ],
   "source": [
    "prng = pd.period_range('1990Q1', '2000Q4', freq='Q-NOV')\n",
    "prng"
   ]
  },
  {
   "cell_type": "code",
   "execution_count": 99,
   "metadata": {
    "collapsed": false,
    "deletable": true,
    "editable": true
   },
   "outputs": [
    {
     "data": {
      "text/plain": [
       "1990Q1   -0.529455\n",
       "1990Q2    0.570384\n",
       "1990Q3   -1.544862\n",
       "1990Q4   -0.297993\n",
       "1991Q1   -0.817410\n",
       "1991Q2   -0.409854\n",
       "1991Q3   -2.555214\n",
       "1991Q4    1.032389\n",
       "1992Q1   -0.378980\n",
       "1992Q2   -0.373298\n",
       "1992Q3   -0.290478\n",
       "1992Q4   -1.106722\n",
       "1993Q1   -1.118070\n",
       "1993Q2    1.683016\n",
       "1993Q3    2.278607\n",
       "1993Q4    1.070247\n",
       "1994Q1    0.911208\n",
       "1994Q2    0.632467\n",
       "1994Q3   -0.234640\n",
       "1994Q4   -1.545572\n",
       "1995Q1    0.707218\n",
       "1995Q2   -0.386264\n",
       "1995Q3    1.440627\n",
       "1995Q4    0.751621\n",
       "1996Q1   -1.640999\n",
       "1996Q2    0.125822\n",
       "1996Q3   -0.781528\n",
       "1996Q4    1.900030\n",
       "1997Q1    0.031440\n",
       "1997Q2   -1.521395\n",
       "1997Q3   -0.350913\n",
       "1997Q4   -1.335841\n",
       "1998Q1   -0.506609\n",
       "1998Q2    0.609221\n",
       "1998Q3   -0.092327\n",
       "1998Q4    0.742343\n",
       "1999Q1   -0.490511\n",
       "1999Q2    1.018211\n",
       "1999Q3    1.817720\n",
       "1999Q4    0.560937\n",
       "2000Q1   -1.012795\n",
       "2000Q2   -1.070557\n",
       "2000Q3    0.704798\n",
       "2000Q4    0.353916\n",
       "Freq: Q-NOV, dtype: float64"
      ]
     },
     "execution_count": 99,
     "metadata": {},
     "output_type": "execute_result"
    }
   ],
   "source": [
    "ts = pd.Series(np.random.randn(len(prng)), index = prng)\n",
    "ts"
   ]
  },
  {
   "cell_type": "code",
   "execution_count": 100,
   "metadata": {
    "collapsed": false,
    "deletable": true,
    "editable": true
   },
   "outputs": [
    {
     "data": {
      "text/plain": [
       "1990-02-01 09:00   -0.529455\n",
       "1990-05-01 09:00    0.570384\n",
       "1990-08-01 09:00   -1.544862\n",
       "1990-11-01 09:00   -0.297993\n",
       "1991-02-01 09:00   -0.817410\n",
       "1991-05-01 09:00   -0.409854\n",
       "1991-08-01 09:00   -2.555214\n",
       "1991-11-01 09:00    1.032389\n",
       "1992-02-01 09:00   -0.378980\n",
       "1992-05-01 09:00   -0.373298\n",
       "1992-08-01 09:00   -0.290478\n",
       "1992-11-01 09:00   -1.106722\n",
       "1993-02-01 09:00   -1.118070\n",
       "1993-05-01 09:00    1.683016\n",
       "1993-08-01 09:00    2.278607\n",
       "1993-11-01 09:00    1.070247\n",
       "1994-02-01 09:00    0.911208\n",
       "1994-05-01 09:00    0.632467\n",
       "1994-08-01 09:00   -0.234640\n",
       "1994-11-01 09:00   -1.545572\n",
       "1995-02-01 09:00    0.707218\n",
       "1995-05-01 09:00   -0.386264\n",
       "1995-08-01 09:00    1.440627\n",
       "1995-11-01 09:00    0.751621\n",
       "1996-02-01 09:00   -1.640999\n",
       "1996-05-01 09:00    0.125822\n",
       "1996-08-01 09:00   -0.781528\n",
       "1996-11-01 09:00    1.900030\n",
       "1997-02-01 09:00    0.031440\n",
       "1997-05-01 09:00   -1.521395\n",
       "1997-08-01 09:00   -0.350913\n",
       "1997-11-01 09:00   -1.335841\n",
       "1998-02-01 09:00   -0.506609\n",
       "1998-05-01 09:00    0.609221\n",
       "1998-08-01 09:00   -0.092327\n",
       "1998-11-01 09:00    0.742343\n",
       "1999-02-01 09:00   -0.490511\n",
       "1999-05-01 09:00    1.018211\n",
       "1999-08-01 09:00    1.817720\n",
       "1999-11-01 09:00    0.560937\n",
       "2000-02-01 09:00   -1.012795\n",
       "2000-05-01 09:00   -1.070557\n",
       "2000-08-01 09:00    0.704798\n",
       "2000-11-01 09:00    0.353916\n",
       "Freq: H, dtype: float64"
      ]
     },
     "execution_count": 100,
     "metadata": {},
     "output_type": "execute_result"
    }
   ],
   "source": [
    "ts.index = (prng.asfreq('M', 'end') ) .asfreq('H', 'start') +9\n",
    "ts"
   ]
  },
  {
   "cell_type": "markdown",
   "metadata": {
    "deletable": true,
    "editable": true
   },
   "source": [
    "## 分类\n",
    "\n",
    "从版本0.15开始，pandas在DataFrame中开始包括分类数据。"
   ]
  },
  {
   "cell_type": "code",
   "execution_count": 101,
   "metadata": {
    "collapsed": false,
    "deletable": true,
    "editable": true
   },
   "outputs": [
    {
     "data": {
      "text/html": [
       "<div style=\"max-height:1000px;max-width:1500px;overflow:auto;\">\n",
       "<table border=\"1\" class=\"dataframe\">\n",
       "  <thead>\n",
       "    <tr style=\"text-align: right;\">\n",
       "      <th></th>\n",
       "      <th>id</th>\n",
       "      <th>raw_grade</th>\n",
       "    </tr>\n",
       "  </thead>\n",
       "  <tbody>\n",
       "    <tr>\n",
       "      <th>0</th>\n",
       "      <td> 1</td>\n",
       "      <td> a</td>\n",
       "    </tr>\n",
       "    <tr>\n",
       "      <th>1</th>\n",
       "      <td> 2</td>\n",
       "      <td> b</td>\n",
       "    </tr>\n",
       "    <tr>\n",
       "      <th>2</th>\n",
       "      <td> 3</td>\n",
       "      <td> b</td>\n",
       "    </tr>\n",
       "    <tr>\n",
       "      <th>3</th>\n",
       "      <td> 4</td>\n",
       "      <td> a</td>\n",
       "    </tr>\n",
       "    <tr>\n",
       "      <th>4</th>\n",
       "      <td> 5</td>\n",
       "      <td> e</td>\n",
       "    </tr>\n",
       "    <tr>\n",
       "      <th>5</th>\n",
       "      <td> 6</td>\n",
       "      <td> e</td>\n",
       "    </tr>\n",
       "  </tbody>\n",
       "</table>\n",
       "</div>"
      ],
      "text/plain": [
       "   id raw_grade\n",
       "0   1         a\n",
       "1   2         b\n",
       "2   3         b\n",
       "3   4         a\n",
       "4   5         e\n",
       "5   6         e"
      ]
     },
     "execution_count": 101,
     "metadata": {},
     "output_type": "execute_result"
    }
   ],
   "source": [
    "df = pd.DataFrame({\"id\":[1,2,3,4,5,6], \"raw_grade\":['a', 'b', 'b', 'a', 'e', 'e']})\n",
    "df"
   ]
  },
  {
   "cell_type": "markdown",
   "metadata": {
    "deletable": true,
    "editable": true
   },
   "source": [
    "把raw_grade转换为分类类型"
   ]
  },
  {
   "cell_type": "code",
   "execution_count": 102,
   "metadata": {
    "collapsed": false,
    "deletable": true,
    "editable": true
   },
   "outputs": [
    {
     "data": {
      "text/plain": [
       "0    a\n",
       "1    b\n",
       "2    b\n",
       "3    a\n",
       "4    e\n",
       "5    e\n",
       "Name: grade, dtype: category\n",
       "Categories (3, object): [a < b < e]"
      ]
     },
     "execution_count": 102,
     "metadata": {},
     "output_type": "execute_result"
    }
   ],
   "source": [
    "df[\"grade\"] = df[\"raw_grade\"].astype(\"category\")\n",
    "df[\"grade\"]"
   ]
  },
  {
   "cell_type": "markdown",
   "metadata": {
    "deletable": true,
    "editable": true
   },
   "source": [
    "重命名类别名为更有意义的名称"
   ]
  },
  {
   "cell_type": "code",
   "execution_count": 103,
   "metadata": {
    "collapsed": true,
    "deletable": true,
    "editable": true
   },
   "outputs": [],
   "source": [
    "df[\"grade\"].cat.categories = [\"very good\",\"good\",\"very bad\"]"
   ]
  },
  {
   "cell_type": "markdown",
   "metadata": {
    "deletable": true,
    "editable": true
   },
   "source": [
    "对分类重新排序，并添加缺失的分类"
   ]
  },
  {
   "cell_type": "code",
   "execution_count": 108,
   "metadata": {
    "collapsed": false,
    "deletable": true,
    "editable": true
   },
   "outputs": [
    {
     "data": {
      "text/plain": [
       "0    very good\n",
       "1         good\n",
       "2         good\n",
       "3    very good\n",
       "4     very bad\n",
       "5     very bad\n",
       "Name: grade, dtype: category\n",
       "Categories (5, object): [very bad < bad < medium < good < very good]"
      ]
     },
     "execution_count": 108,
     "metadata": {},
     "output_type": "execute_result"
    }
   ],
   "source": [
    "df[\"grade\"] = df[\"grade\"].cat.set_categories([\"very bad\", \"bad\", \"medium\", \"good\", \"very good\"])\n",
    "df[\"grade\"]"
   ]
  },
  {
   "cell_type": "markdown",
   "metadata": {
    "deletable": true,
    "editable": true
   },
   "source": [
    "排序是按照分类的顺序进行的，而不是字典序"
   ]
  },
  {
   "cell_type": "code",
   "execution_count": 109,
   "metadata": {
    "collapsed": false,
    "deletable": true,
    "editable": true
   },
   "outputs": [
    {
     "data": {
      "text/html": [
       "<div style=\"max-height:1000px;max-width:1500px;overflow:auto;\">\n",
       "<table border=\"1\" class=\"dataframe\">\n",
       "  <thead>\n",
       "    <tr style=\"text-align: right;\">\n",
       "      <th></th>\n",
       "      <th>id</th>\n",
       "      <th>raw_grade</th>\n",
       "      <th>grade</th>\n",
       "    </tr>\n",
       "  </thead>\n",
       "  <tbody>\n",
       "    <tr>\n",
       "      <th>4</th>\n",
       "      <td> 5</td>\n",
       "      <td> e</td>\n",
       "      <td>  very bad</td>\n",
       "    </tr>\n",
       "    <tr>\n",
       "      <th>5</th>\n",
       "      <td> 6</td>\n",
       "      <td> e</td>\n",
       "      <td>  very bad</td>\n",
       "    </tr>\n",
       "    <tr>\n",
       "      <th>1</th>\n",
       "      <td> 2</td>\n",
       "      <td> b</td>\n",
       "      <td>      good</td>\n",
       "    </tr>\n",
       "    <tr>\n",
       "      <th>2</th>\n",
       "      <td> 3</td>\n",
       "      <td> b</td>\n",
       "      <td>      good</td>\n",
       "    </tr>\n",
       "    <tr>\n",
       "      <th>0</th>\n",
       "      <td> 1</td>\n",
       "      <td> a</td>\n",
       "      <td> very good</td>\n",
       "    </tr>\n",
       "    <tr>\n",
       "      <th>3</th>\n",
       "      <td> 4</td>\n",
       "      <td> a</td>\n",
       "      <td> very good</td>\n",
       "    </tr>\n",
       "  </tbody>\n",
       "</table>\n",
       "</div>"
      ],
      "text/plain": [
       "   id raw_grade      grade\n",
       "4   5         e   very bad\n",
       "5   6         e   very bad\n",
       "1   2         b       good\n",
       "2   3         b       good\n",
       "0   1         a  very good\n",
       "3   4         a  very good"
      ]
     },
     "execution_count": 109,
     "metadata": {},
     "output_type": "execute_result"
    }
   ],
   "source": [
    "df.sort_index(by=\"grade\")"
   ]
  },
  {
   "cell_type": "markdown",
   "metadata": {
    "deletable": true,
    "editable": true
   },
   "source": [
    "按分类分组时，也会显示空的分类"
   ]
  },
  {
   "cell_type": "code",
   "execution_count": 110,
   "metadata": {
    "collapsed": false,
    "deletable": true,
    "editable": true
   },
   "outputs": [
    {
     "data": {
      "text/plain": [
       "grade\n",
       "very bad      2\n",
       "bad         NaN\n",
       "medium      NaN\n",
       "good          2\n",
       "very good     2\n",
       "dtype: float64"
      ]
     },
     "execution_count": 110,
     "metadata": {},
     "output_type": "execute_result"
    }
   ],
   "source": [
    "df.groupby(\"grade\").size()"
   ]
  },
  {
   "cell_type": "markdown",
   "metadata": {
    "deletable": true,
    "editable": true
   },
   "source": [
    "## 绘图"
   ]
  },
  {
   "cell_type": "code",
   "execution_count": 114,
   "metadata": {
    "collapsed": false,
    "deletable": true,
    "editable": true
   },
   "outputs": [
    {
     "data": {
      "text/plain": [
       "<matplotlib.axes._subplots.AxesSubplot at 0x10792f590>"
      ]
     },
     "execution_count": 114,
     "metadata": {},
     "output_type": "execute_result"
    }
   ],
   "source": [
    "ts =pd.Series(np.random.randn(1000),index=pd.date_range('1/1/2000',periods=1000))\n",
    "ts = ts.cumsum()\n",
    "ts.plot()"
   ]
  },
  {
   "cell_type": "markdown",
   "metadata": {
    "deletable": true,
    "editable": true
   },
   "source": [
    "对于DataFrame类型，**plot()**能很方便地画出所有列及其标签"
   ]
  },
  {
   "cell_type": "code",
   "execution_count": 115,
   "metadata": {
    "collapsed": false,
    "deletable": true,
    "editable": true
   },
   "outputs": [
    {
     "data": {
      "text/plain": [
       "<matplotlib.axes._subplots.AxesSubplot at 0x10bd255d0>"
      ]
     },
     "execution_count": 115,
     "metadata": {},
     "output_type": "execute_result"
    }
   ],
   "source": [
    "df = pd.DataFrame(np.random.randn(1000,4),index=ts.index,columns=['A', 'B', 'C', 'D'])\n",
    "df = df.cumsum()\n",
    "df.plot()"
   ]
  },
  {
   "cell_type": "markdown",
   "metadata": {
    "deletable": true,
    "editable": true
   },
   "source": [
    "## 获取数据的I/O\n",
    "### CSV\n",
    "\n",
    "写入一个csv文件"
   ]
  },
  {
   "cell_type": "code",
   "execution_count": 118,
   "metadata": {
    "collapsed": true,
    "deletable": true,
    "editable": true
   },
   "outputs": [],
   "source": [
    "df.to_csv('foo.csv')"
   ]
  },
  {
   "cell_type": "markdown",
   "metadata": {
    "deletable": true,
    "editable": true
   },
   "source": [
    "从一个csv文件读入"
   ]
  },
  {
   "cell_type": "code",
   "execution_count": 119,
   "metadata": {
    "collapsed": false,
    "deletable": true,
    "editable": true
   },
   "outputs": [
    {
     "data": {
      "text/html": [
       "<div style=\"max-height:1000px;max-width:1500px;overflow:auto;\">\n",
       "<table border=\"1\" class=\"dataframe\">\n",
       "  <thead>\n",
       "    <tr style=\"text-align: right;\">\n",
       "      <th></th>\n",
       "      <th>Unnamed: 0</th>\n",
       "      <th>A</th>\n",
       "      <th>B</th>\n",
       "      <th>C</th>\n",
       "      <th>D</th>\n",
       "    </tr>\n",
       "  </thead>\n",
       "  <tbody>\n",
       "    <tr>\n",
       "      <th>0  </th>\n",
       "      <td> 2000-01-01</td>\n",
       "      <td>-0.425461</td>\n",
       "      <td> -1.403269</td>\n",
       "      <td> -0.044436</td>\n",
       "      <td>  0.219559</td>\n",
       "    </tr>\n",
       "    <tr>\n",
       "      <th>1  </th>\n",
       "      <td> 2000-01-02</td>\n",
       "      <td> 0.308576</td>\n",
       "      <td> -2.057619</td>\n",
       "      <td>  0.634288</td>\n",
       "      <td> -0.452682</td>\n",
       "    </tr>\n",
       "    <tr>\n",
       "      <th>2  </th>\n",
       "      <td> 2000-01-03</td>\n",
       "      <td> 0.619000</td>\n",
       "      <td> -2.869349</td>\n",
       "      <td>  1.237154</td>\n",
       "      <td> -0.308545</td>\n",
       "    </tr>\n",
       "    <tr>\n",
       "      <th>3  </th>\n",
       "      <td> 2000-01-04</td>\n",
       "      <td>-1.165187</td>\n",
       "      <td> -2.040167</td>\n",
       "      <td>  1.047757</td>\n",
       "      <td>  0.847036</td>\n",
       "    </tr>\n",
       "    <tr>\n",
       "      <th>4  </th>\n",
       "      <td> 2000-01-05</td>\n",
       "      <td>-0.214774</td>\n",
       "      <td> -4.301137</td>\n",
       "      <td>  0.571458</td>\n",
       "      <td>  2.713687</td>\n",
       "    </tr>\n",
       "    <tr>\n",
       "      <th>5  </th>\n",
       "      <td> 2000-01-06</td>\n",
       "      <td> 1.639842</td>\n",
       "      <td> -3.369141</td>\n",
       "      <td>  0.753631</td>\n",
       "      <td>  2.160821</td>\n",
       "    </tr>\n",
       "    <tr>\n",
       "      <th>6  </th>\n",
       "      <td> 2000-01-07</td>\n",
       "      <td> 1.910771</td>\n",
       "      <td> -4.025835</td>\n",
       "      <td> -0.773456</td>\n",
       "      <td>  1.821734</td>\n",
       "    </tr>\n",
       "    <tr>\n",
       "      <th>7  </th>\n",
       "      <td> 2000-01-08</td>\n",
       "      <td> 1.563340</td>\n",
       "      <td> -4.742109</td>\n",
       "      <td>  2.518628</td>\n",
       "      <td>  0.588485</td>\n",
       "    </tr>\n",
       "    <tr>\n",
       "      <th>8  </th>\n",
       "      <td> 2000-01-09</td>\n",
       "      <td> 0.132218</td>\n",
       "      <td> -4.341313</td>\n",
       "      <td>  1.862238</td>\n",
       "      <td> -0.697081</td>\n",
       "    </tr>\n",
       "    <tr>\n",
       "      <th>9  </th>\n",
       "      <td> 2000-01-10</td>\n",
       "      <td> 0.373116</td>\n",
       "      <td> -4.632546</td>\n",
       "      <td>  1.397640</td>\n",
       "      <td> -0.845373</td>\n",
       "    </tr>\n",
       "    <tr>\n",
       "      <th>10 </th>\n",
       "      <td> 2000-01-11</td>\n",
       "      <td> 1.112101</td>\n",
       "      <td> -5.740170</td>\n",
       "      <td>  1.803410</td>\n",
       "      <td>  0.575382</td>\n",
       "    </tr>\n",
       "    <tr>\n",
       "      <th>11 </th>\n",
       "      <td> 2000-01-12</td>\n",
       "      <td> 0.310180</td>\n",
       "      <td> -5.740034</td>\n",
       "      <td>  1.422615</td>\n",
       "      <td> -0.070605</td>\n",
       "    </tr>\n",
       "    <tr>\n",
       "      <th>12 </th>\n",
       "      <td> 2000-01-13</td>\n",
       "      <td>-0.496999</td>\n",
       "      <td> -6.002253</td>\n",
       "      <td>  1.836140</td>\n",
       "      <td> -1.737801</td>\n",
       "    </tr>\n",
       "    <tr>\n",
       "      <th>13 </th>\n",
       "      <td> 2000-01-14</td>\n",
       "      <td> 0.162170</td>\n",
       "      <td> -4.867653</td>\n",
       "      <td>  1.883516</td>\n",
       "      <td> -1.377816</td>\n",
       "    </tr>\n",
       "    <tr>\n",
       "      <th>14 </th>\n",
       "      <td> 2000-01-15</td>\n",
       "      <td>-0.219185</td>\n",
       "      <td> -6.045063</td>\n",
       "      <td>  2.179289</td>\n",
       "      <td>  0.404574</td>\n",
       "    </tr>\n",
       "    <tr>\n",
       "      <th>15 </th>\n",
       "      <td> 2000-01-16</td>\n",
       "      <td>-0.492499</td>\n",
       "      <td> -8.239633</td>\n",
       "      <td>  2.340800</td>\n",
       "      <td>  2.083196</td>\n",
       "    </tr>\n",
       "    <tr>\n",
       "      <th>16 </th>\n",
       "      <td> 2000-01-17</td>\n",
       "      <td>-1.906515</td>\n",
       "      <td> -7.611583</td>\n",
       "      <td>  2.096817</td>\n",
       "      <td>  2.474113</td>\n",
       "    </tr>\n",
       "    <tr>\n",
       "      <th>17 </th>\n",
       "      <td> 2000-01-18</td>\n",
       "      <td>-1.479602</td>\n",
       "      <td> -7.924990</td>\n",
       "      <td>  3.659178</td>\n",
       "      <td>  1.732523</td>\n",
       "    </tr>\n",
       "    <tr>\n",
       "      <th>18 </th>\n",
       "      <td> 2000-01-19</td>\n",
       "      <td>-1.877567</td>\n",
       "      <td> -7.676786</td>\n",
       "      <td>  2.962439</td>\n",
       "      <td>  0.808766</td>\n",
       "    </tr>\n",
       "    <tr>\n",
       "      <th>19 </th>\n",
       "      <td> 2000-01-20</td>\n",
       "      <td> 0.446554</td>\n",
       "      <td> -8.478972</td>\n",
       "      <td>  2.770583</td>\n",
       "      <td>  1.005155</td>\n",
       "    </tr>\n",
       "    <tr>\n",
       "      <th>20 </th>\n",
       "      <td> 2000-01-21</td>\n",
       "      <td> 0.815523</td>\n",
       "      <td> -7.639916</td>\n",
       "      <td>  4.375444</td>\n",
       "      <td>  0.975386</td>\n",
       "    </tr>\n",
       "    <tr>\n",
       "      <th>21 </th>\n",
       "      <td> 2000-01-22</td>\n",
       "      <td> 1.232161</td>\n",
       "      <td> -8.011159</td>\n",
       "      <td>  3.948103</td>\n",
       "      <td> -0.071826</td>\n",
       "    </tr>\n",
       "    <tr>\n",
       "      <th>22 </th>\n",
       "      <td> 2000-01-23</td>\n",
       "      <td> 0.809309</td>\n",
       "      <td>-10.975806</td>\n",
       "      <td>  3.579664</td>\n",
       "      <td> -0.193101</td>\n",
       "    </tr>\n",
       "    <tr>\n",
       "      <th>23 </th>\n",
       "      <td> 2000-01-24</td>\n",
       "      <td> 2.980972</td>\n",
       "      <td>-10.672872</td>\n",
       "      <td>  4.323559</td>\n",
       "      <td> -0.837766</td>\n",
       "    </tr>\n",
       "    <tr>\n",
       "      <th>24 </th>\n",
       "      <td> 2000-01-25</td>\n",
       "      <td> 3.361422</td>\n",
       "      <td>-12.640693</td>\n",
       "      <td>  5.046673</td>\n",
       "      <td> -0.518537</td>\n",
       "    </tr>\n",
       "    <tr>\n",
       "      <th>25 </th>\n",
       "      <td> 2000-01-26</td>\n",
       "      <td> 1.927294</td>\n",
       "      <td>-11.242640</td>\n",
       "      <td>  3.801135</td>\n",
       "      <td>  0.896068</td>\n",
       "    </tr>\n",
       "    <tr>\n",
       "      <th>26 </th>\n",
       "      <td> 2000-01-27</td>\n",
       "      <td> 1.249261</td>\n",
       "      <td>-10.931013</td>\n",
       "      <td>  2.837784</td>\n",
       "      <td>  1.464897</td>\n",
       "    </tr>\n",
       "    <tr>\n",
       "      <th>27 </th>\n",
       "      <td> 2000-01-28</td>\n",
       "      <td> 1.281549</td>\n",
       "      <td>-11.003295</td>\n",
       "      <td>  3.951254</td>\n",
       "      <td>  1.179706</td>\n",
       "    </tr>\n",
       "    <tr>\n",
       "      <th>28 </th>\n",
       "      <td> 2000-01-29</td>\n",
       "      <td> 0.512112</td>\n",
       "      <td>-10.761742</td>\n",
       "      <td>  2.233165</td>\n",
       "      <td>  0.174430</td>\n",
       "    </tr>\n",
       "    <tr>\n",
       "      <th>29 </th>\n",
       "      <td> 2000-01-30</td>\n",
       "      <td> 0.262344</td>\n",
       "      <td> -9.672089</td>\n",
       "      <td>  4.887404</td>\n",
       "      <td>  0.712865</td>\n",
       "    </tr>\n",
       "    <tr>\n",
       "      <th>...</th>\n",
       "      <td>...</td>\n",
       "      <td>...</td>\n",
       "      <td>...</td>\n",
       "      <td>...</td>\n",
       "      <td>...</td>\n",
       "    </tr>\n",
       "    <tr>\n",
       "      <th>970</th>\n",
       "      <td> 2002-08-28</td>\n",
       "      <td> 4.625208</td>\n",
       "      <td> -1.794282</td>\n",
       "      <td> -8.259543</td>\n",
       "      <td> -1.588357</td>\n",
       "    </tr>\n",
       "    <tr>\n",
       "      <th>971</th>\n",
       "      <td> 2002-08-29</td>\n",
       "      <td> 4.666648</td>\n",
       "      <td> -1.795497</td>\n",
       "      <td> -8.238837</td>\n",
       "      <td>  0.252956</td>\n",
       "    </tr>\n",
       "    <tr>\n",
       "      <th>972</th>\n",
       "      <td> 2002-08-30</td>\n",
       "      <td> 5.607705</td>\n",
       "      <td> -1.428826</td>\n",
       "      <td> -7.712760</td>\n",
       "      <td>  1.868046</td>\n",
       "    </tr>\n",
       "    <tr>\n",
       "      <th>973</th>\n",
       "      <td> 2002-08-31</td>\n",
       "      <td> 4.946251</td>\n",
       "      <td> -0.112299</td>\n",
       "      <td> -7.518860</td>\n",
       "      <td>  1.777350</td>\n",
       "    </tr>\n",
       "    <tr>\n",
       "      <th>974</th>\n",
       "      <td> 2002-09-01</td>\n",
       "      <td> 3.864572</td>\n",
       "      <td> -0.545530</td>\n",
       "      <td> -6.292253</td>\n",
       "      <td>  1.586294</td>\n",
       "    </tr>\n",
       "    <tr>\n",
       "      <th>975</th>\n",
       "      <td> 2002-09-02</td>\n",
       "      <td> 5.555515</td>\n",
       "      <td> -0.372099</td>\n",
       "      <td> -6.675474</td>\n",
       "      <td> -0.593894</td>\n",
       "    </tr>\n",
       "    <tr>\n",
       "      <th>976</th>\n",
       "      <td> 2002-09-03</td>\n",
       "      <td> 7.088676</td>\n",
       "      <td> -1.012956</td>\n",
       "      <td> -7.077376</td>\n",
       "      <td> -0.086973</td>\n",
       "    </tr>\n",
       "    <tr>\n",
       "      <th>977</th>\n",
       "      <td> 2002-09-04</td>\n",
       "      <td> 7.750305</td>\n",
       "      <td> -1.040951</td>\n",
       "      <td> -6.940778</td>\n",
       "      <td> -1.275356</td>\n",
       "    </tr>\n",
       "    <tr>\n",
       "      <th>978</th>\n",
       "      <td> 2002-09-05</td>\n",
       "      <td> 7.037225</td>\n",
       "      <td> -2.321507</td>\n",
       "      <td> -7.430603</td>\n",
       "      <td> -2.204701</td>\n",
       "    </tr>\n",
       "    <tr>\n",
       "      <th>979</th>\n",
       "      <td> 2002-09-06</td>\n",
       "      <td> 7.219238</td>\n",
       "      <td> -1.307758</td>\n",
       "      <td> -7.643952</td>\n",
       "      <td> -1.942661</td>\n",
       "    </tr>\n",
       "    <tr>\n",
       "      <th>980</th>\n",
       "      <td> 2002-09-07</td>\n",
       "      <td> 5.001612</td>\n",
       "      <td> -2.704933</td>\n",
       "      <td> -7.839517</td>\n",
       "      <td> -2.209851</td>\n",
       "    </tr>\n",
       "    <tr>\n",
       "      <th>981</th>\n",
       "      <td> 2002-09-08</td>\n",
       "      <td> 6.266836</td>\n",
       "      <td> -2.599260</td>\n",
       "      <td> -7.889995</td>\n",
       "      <td> -1.813327</td>\n",
       "    </tr>\n",
       "    <tr>\n",
       "      <th>982</th>\n",
       "      <td> 2002-09-09</td>\n",
       "      <td> 4.921057</td>\n",
       "      <td> -2.086468</td>\n",
       "      <td> -8.432188</td>\n",
       "      <td> -1.590568</td>\n",
       "    </tr>\n",
       "    <tr>\n",
       "      <th>983</th>\n",
       "      <td> 2002-09-10</td>\n",
       "      <td> 5.409754</td>\n",
       "      <td> -0.320361</td>\n",
       "      <td>-11.189269</td>\n",
       "      <td> -2.413758</td>\n",
       "    </tr>\n",
       "    <tr>\n",
       "      <th>984</th>\n",
       "      <td> 2002-09-11</td>\n",
       "      <td> 5.011992</td>\n",
       "      <td> -0.950910</td>\n",
       "      <td>-11.590882</td>\n",
       "      <td> -3.230179</td>\n",
       "    </tr>\n",
       "    <tr>\n",
       "      <th>985</th>\n",
       "      <td> 2002-09-12</td>\n",
       "      <td> 4.742224</td>\n",
       "      <td> -0.815597</td>\n",
       "      <td> -9.546448</td>\n",
       "      <td> -4.055350</td>\n",
       "    </tr>\n",
       "    <tr>\n",
       "      <th>986</th>\n",
       "      <td> 2002-09-13</td>\n",
       "      <td> 6.101983</td>\n",
       "      <td> -0.774610</td>\n",
       "      <td> -9.722567</td>\n",
       "      <td> -6.045751</td>\n",
       "    </tr>\n",
       "    <tr>\n",
       "      <th>987</th>\n",
       "      <td> 2002-09-14</td>\n",
       "      <td> 7.365744</td>\n",
       "      <td> -1.116305</td>\n",
       "      <td> -9.630651</td>\n",
       "      <td> -5.592564</td>\n",
       "    </tr>\n",
       "    <tr>\n",
       "      <th>988</th>\n",
       "      <td> 2002-09-15</td>\n",
       "      <td> 5.084383</td>\n",
       "      <td> -2.143574</td>\n",
       "      <td> -9.798200</td>\n",
       "      <td> -6.216111</td>\n",
       "    </tr>\n",
       "    <tr>\n",
       "      <th>989</th>\n",
       "      <td> 2002-09-16</td>\n",
       "      <td> 5.535138</td>\n",
       "      <td> -2.309296</td>\n",
       "      <td>-10.247144</td>\n",
       "      <td> -5.912922</td>\n",
       "    </tr>\n",
       "    <tr>\n",
       "      <th>990</th>\n",
       "      <td> 2002-09-17</td>\n",
       "      <td> 6.727144</td>\n",
       "      <td> -1.383390</td>\n",
       "      <td>-10.538517</td>\n",
       "      <td> -6.811851</td>\n",
       "    </tr>\n",
       "    <tr>\n",
       "      <th>991</th>\n",
       "      <td> 2002-09-18</td>\n",
       "      <td> 6.381736</td>\n",
       "      <td> -1.541663</td>\n",
       "      <td>-11.300122</td>\n",
       "      <td> -7.795385</td>\n",
       "    </tr>\n",
       "    <tr>\n",
       "      <th>992</th>\n",
       "      <td> 2002-09-19</td>\n",
       "      <td> 5.797594</td>\n",
       "      <td> -2.066551</td>\n",
       "      <td>-10.043998</td>\n",
       "      <td> -5.295954</td>\n",
       "    </tr>\n",
       "    <tr>\n",
       "      <th>993</th>\n",
       "      <td> 2002-09-20</td>\n",
       "      <td> 5.727980</td>\n",
       "      <td> -2.694832</td>\n",
       "      <td>-10.937890</td>\n",
       "      <td> -6.940196</td>\n",
       "    </tr>\n",
       "    <tr>\n",
       "      <th>994</th>\n",
       "      <td> 2002-09-21</td>\n",
       "      <td> 6.101493</td>\n",
       "      <td> -3.295493</td>\n",
       "      <td>-10.662621</td>\n",
       "      <td> -8.503858</td>\n",
       "    </tr>\n",
       "    <tr>\n",
       "      <th>995</th>\n",
       "      <td> 2002-09-22</td>\n",
       "      <td> 6.281263</td>\n",
       "      <td> -3.543243</td>\n",
       "      <td> -9.669077</td>\n",
       "      <td> -8.634091</td>\n",
       "    </tr>\n",
       "    <tr>\n",
       "      <th>996</th>\n",
       "      <td> 2002-09-23</td>\n",
       "      <td> 6.193919</td>\n",
       "      <td> -3.517716</td>\n",
       "      <td>-11.120515</td>\n",
       "      <td> -9.019951</td>\n",
       "    </tr>\n",
       "    <tr>\n",
       "      <th>997</th>\n",
       "      <td> 2002-09-24</td>\n",
       "      <td> 6.032230</td>\n",
       "      <td> -3.171396</td>\n",
       "      <td>-11.000641</td>\n",
       "      <td>-10.376975</td>\n",
       "    </tr>\n",
       "    <tr>\n",
       "      <th>998</th>\n",
       "      <td> 2002-09-25</td>\n",
       "      <td> 5.692565</td>\n",
       "      <td> -4.190530</td>\n",
       "      <td>-11.027112</td>\n",
       "      <td>-11.042980</td>\n",
       "    </tr>\n",
       "    <tr>\n",
       "      <th>999</th>\n",
       "      <td> 2002-09-26</td>\n",
       "      <td> 5.337877</td>\n",
       "      <td> -3.505361</td>\n",
       "      <td>-11.775212</td>\n",
       "      <td>-10.298722</td>\n",
       "    </tr>\n",
       "  </tbody>\n",
       "</table>\n",
       "<p>1000 rows × 5 columns</p>\n",
       "</div>"
      ],
      "text/plain": [
       "     Unnamed: 0         A          B          C          D\n",
       "0    2000-01-01 -0.425461  -1.403269  -0.044436   0.219559\n",
       "1    2000-01-02  0.308576  -2.057619   0.634288  -0.452682\n",
       "2    2000-01-03  0.619000  -2.869349   1.237154  -0.308545\n",
       "3    2000-01-04 -1.165187  -2.040167   1.047757   0.847036\n",
       "4    2000-01-05 -0.214774  -4.301137   0.571458   2.713687\n",
       "5    2000-01-06  1.639842  -3.369141   0.753631   2.160821\n",
       "6    2000-01-07  1.910771  -4.025835  -0.773456   1.821734\n",
       "7    2000-01-08  1.563340  -4.742109   2.518628   0.588485\n",
       "8    2000-01-09  0.132218  -4.341313   1.862238  -0.697081\n",
       "9    2000-01-10  0.373116  -4.632546   1.397640  -0.845373\n",
       "10   2000-01-11  1.112101  -5.740170   1.803410   0.575382\n",
       "11   2000-01-12  0.310180  -5.740034   1.422615  -0.070605\n",
       "12   2000-01-13 -0.496999  -6.002253   1.836140  -1.737801\n",
       "13   2000-01-14  0.162170  -4.867653   1.883516  -1.377816\n",
       "14   2000-01-15 -0.219185  -6.045063   2.179289   0.404574\n",
       "15   2000-01-16 -0.492499  -8.239633   2.340800   2.083196\n",
       "16   2000-01-17 -1.906515  -7.611583   2.096817   2.474113\n",
       "17   2000-01-18 -1.479602  -7.924990   3.659178   1.732523\n",
       "18   2000-01-19 -1.877567  -7.676786   2.962439   0.808766\n",
       "19   2000-01-20  0.446554  -8.478972   2.770583   1.005155\n",
       "20   2000-01-21  0.815523  -7.639916   4.375444   0.975386\n",
       "21   2000-01-22  1.232161  -8.011159   3.948103  -0.071826\n",
       "22   2000-01-23  0.809309 -10.975806   3.579664  -0.193101\n",
       "23   2000-01-24  2.980972 -10.672872   4.323559  -0.837766\n",
       "24   2000-01-25  3.361422 -12.640693   5.046673  -0.518537\n",
       "25   2000-01-26  1.927294 -11.242640   3.801135   0.896068\n",
       "26   2000-01-27  1.249261 -10.931013   2.837784   1.464897\n",
       "27   2000-01-28  1.281549 -11.003295   3.951254   1.179706\n",
       "28   2000-01-29  0.512112 -10.761742   2.233165   0.174430\n",
       "29   2000-01-30  0.262344  -9.672089   4.887404   0.712865\n",
       "..          ...       ...        ...        ...        ...\n",
       "970  2002-08-28  4.625208  -1.794282  -8.259543  -1.588357\n",
       "971  2002-08-29  4.666648  -1.795497  -8.238837   0.252956\n",
       "972  2002-08-30  5.607705  -1.428826  -7.712760   1.868046\n",
       "973  2002-08-31  4.946251  -0.112299  -7.518860   1.777350\n",
       "974  2002-09-01  3.864572  -0.545530  -6.292253   1.586294\n",
       "975  2002-09-02  5.555515  -0.372099  -6.675474  -0.593894\n",
       "976  2002-09-03  7.088676  -1.012956  -7.077376  -0.086973\n",
       "977  2002-09-04  7.750305  -1.040951  -6.940778  -1.275356\n",
       "978  2002-09-05  7.037225  -2.321507  -7.430603  -2.204701\n",
       "979  2002-09-06  7.219238  -1.307758  -7.643952  -1.942661\n",
       "980  2002-09-07  5.001612  -2.704933  -7.839517  -2.209851\n",
       "981  2002-09-08  6.266836  -2.599260  -7.889995  -1.813327\n",
       "982  2002-09-09  4.921057  -2.086468  -8.432188  -1.590568\n",
       "983  2002-09-10  5.409754  -0.320361 -11.189269  -2.413758\n",
       "984  2002-09-11  5.011992  -0.950910 -11.590882  -3.230179\n",
       "985  2002-09-12  4.742224  -0.815597  -9.546448  -4.055350\n",
       "986  2002-09-13  6.101983  -0.774610  -9.722567  -6.045751\n",
       "987  2002-09-14  7.365744  -1.116305  -9.630651  -5.592564\n",
       "988  2002-09-15  5.084383  -2.143574  -9.798200  -6.216111\n",
       "989  2002-09-16  5.535138  -2.309296 -10.247144  -5.912922\n",
       "990  2002-09-17  6.727144  -1.383390 -10.538517  -6.811851\n",
       "991  2002-09-18  6.381736  -1.541663 -11.300122  -7.795385\n",
       "992  2002-09-19  5.797594  -2.066551 -10.043998  -5.295954\n",
       "993  2002-09-20  5.727980  -2.694832 -10.937890  -6.940196\n",
       "994  2002-09-21  6.101493  -3.295493 -10.662621  -8.503858\n",
       "995  2002-09-22  6.281263  -3.543243  -9.669077  -8.634091\n",
       "996  2002-09-23  6.193919  -3.517716 -11.120515  -9.019951\n",
       "997  2002-09-24  6.032230  -3.171396 -11.000641 -10.376975\n",
       "998  2002-09-25  5.692565  -4.190530 -11.027112 -11.042980\n",
       "999  2002-09-26  5.337877  -3.505361 -11.775212 -10.298722\n",
       "\n",
       "[1000 rows x 5 columns]"
      ]
     },
     "execution_count": 119,
     "metadata": {},
     "output_type": "execute_result"
    }
   ],
   "source": [
    "pd.read_csv('foo.csv')"
   ]
  },
  {
   "cell_type": "markdown",
   "metadata": {
    "deletable": true,
    "editable": true
   },
   "source": [
    "### HDF5\n",
    "\n",
    "HDFStores的读写\n",
    "\n",
    "写入一个HDF5 Store"
   ]
  },
  {
   "cell_type": "code",
   "execution_count": 120,
   "metadata": {
    "collapsed": true,
    "deletable": true,
    "editable": true
   },
   "outputs": [],
   "source": [
    "df.to_hdf('foo.h5','df')"
   ]
  },
  {
   "cell_type": "markdown",
   "metadata": {
    "deletable": true,
    "editable": true
   },
   "source": [
    "从一个HDF5 Store读入"
   ]
  },
  {
   "cell_type": "code",
   "execution_count": 121,
   "metadata": {
    "collapsed": false,
    "deletable": true,
    "editable": true
   },
   "outputs": [
    {
     "data": {
      "text/html": [
       "<div style=\"max-height:1000px;max-width:1500px;overflow:auto;\">\n",
       "<table border=\"1\" class=\"dataframe\">\n",
       "  <thead>\n",
       "    <tr style=\"text-align: right;\">\n",
       "      <th></th>\n",
       "      <th>A</th>\n",
       "      <th>B</th>\n",
       "      <th>C</th>\n",
       "      <th>D</th>\n",
       "    </tr>\n",
       "  </thead>\n",
       "  <tbody>\n",
       "    <tr>\n",
       "      <th>2000-01-01</th>\n",
       "      <td>-0.425461</td>\n",
       "      <td> -1.403269</td>\n",
       "      <td> -0.044436</td>\n",
       "      <td>  0.219559</td>\n",
       "    </tr>\n",
       "    <tr>\n",
       "      <th>2000-01-02</th>\n",
       "      <td> 0.308576</td>\n",
       "      <td> -2.057619</td>\n",
       "      <td>  0.634288</td>\n",
       "      <td> -0.452682</td>\n",
       "    </tr>\n",
       "    <tr>\n",
       "      <th>2000-01-03</th>\n",
       "      <td> 0.619000</td>\n",
       "      <td> -2.869349</td>\n",
       "      <td>  1.237154</td>\n",
       "      <td> -0.308545</td>\n",
       "    </tr>\n",
       "    <tr>\n",
       "      <th>2000-01-04</th>\n",
       "      <td>-1.165187</td>\n",
       "      <td> -2.040167</td>\n",
       "      <td>  1.047757</td>\n",
       "      <td>  0.847036</td>\n",
       "    </tr>\n",
       "    <tr>\n",
       "      <th>2000-01-05</th>\n",
       "      <td>-0.214774</td>\n",
       "      <td> -4.301137</td>\n",
       "      <td>  0.571458</td>\n",
       "      <td>  2.713687</td>\n",
       "    </tr>\n",
       "    <tr>\n",
       "      <th>2000-01-06</th>\n",
       "      <td> 1.639842</td>\n",
       "      <td> -3.369141</td>\n",
       "      <td>  0.753631</td>\n",
       "      <td>  2.160821</td>\n",
       "    </tr>\n",
       "    <tr>\n",
       "      <th>2000-01-07</th>\n",
       "      <td> 1.910771</td>\n",
       "      <td> -4.025835</td>\n",
       "      <td> -0.773456</td>\n",
       "      <td>  1.821734</td>\n",
       "    </tr>\n",
       "    <tr>\n",
       "      <th>2000-01-08</th>\n",
       "      <td> 1.563340</td>\n",
       "      <td> -4.742109</td>\n",
       "      <td>  2.518628</td>\n",
       "      <td>  0.588485</td>\n",
       "    </tr>\n",
       "    <tr>\n",
       "      <th>2000-01-09</th>\n",
       "      <td> 0.132218</td>\n",
       "      <td> -4.341313</td>\n",
       "      <td>  1.862238</td>\n",
       "      <td> -0.697081</td>\n",
       "    </tr>\n",
       "    <tr>\n",
       "      <th>2000-01-10</th>\n",
       "      <td> 0.373116</td>\n",
       "      <td> -4.632546</td>\n",
       "      <td>  1.397640</td>\n",
       "      <td> -0.845373</td>\n",
       "    </tr>\n",
       "    <tr>\n",
       "      <th>2000-01-11</th>\n",
       "      <td> 1.112101</td>\n",
       "      <td> -5.740170</td>\n",
       "      <td>  1.803410</td>\n",
       "      <td>  0.575382</td>\n",
       "    </tr>\n",
       "    <tr>\n",
       "      <th>2000-01-12</th>\n",
       "      <td> 0.310180</td>\n",
       "      <td> -5.740034</td>\n",
       "      <td>  1.422615</td>\n",
       "      <td> -0.070605</td>\n",
       "    </tr>\n",
       "    <tr>\n",
       "      <th>2000-01-13</th>\n",
       "      <td>-0.496999</td>\n",
       "      <td> -6.002253</td>\n",
       "      <td>  1.836140</td>\n",
       "      <td> -1.737801</td>\n",
       "    </tr>\n",
       "    <tr>\n",
       "      <th>2000-01-14</th>\n",
       "      <td> 0.162170</td>\n",
       "      <td> -4.867653</td>\n",
       "      <td>  1.883516</td>\n",
       "      <td> -1.377816</td>\n",
       "    </tr>\n",
       "    <tr>\n",
       "      <th>2000-01-15</th>\n",
       "      <td>-0.219185</td>\n",
       "      <td> -6.045063</td>\n",
       "      <td>  2.179289</td>\n",
       "      <td>  0.404574</td>\n",
       "    </tr>\n",
       "    <tr>\n",
       "      <th>2000-01-16</th>\n",
       "      <td>-0.492499</td>\n",
       "      <td> -8.239633</td>\n",
       "      <td>  2.340800</td>\n",
       "      <td>  2.083196</td>\n",
       "    </tr>\n",
       "    <tr>\n",
       "      <th>2000-01-17</th>\n",
       "      <td>-1.906515</td>\n",
       "      <td> -7.611583</td>\n",
       "      <td>  2.096817</td>\n",
       "      <td>  2.474113</td>\n",
       "    </tr>\n",
       "    <tr>\n",
       "      <th>2000-01-18</th>\n",
       "      <td>-1.479602</td>\n",
       "      <td> -7.924990</td>\n",
       "      <td>  3.659178</td>\n",
       "      <td>  1.732523</td>\n",
       "    </tr>\n",
       "    <tr>\n",
       "      <th>2000-01-19</th>\n",
       "      <td>-1.877567</td>\n",
       "      <td> -7.676786</td>\n",
       "      <td>  2.962439</td>\n",
       "      <td>  0.808766</td>\n",
       "    </tr>\n",
       "    <tr>\n",
       "      <th>2000-01-20</th>\n",
       "      <td> 0.446554</td>\n",
       "      <td> -8.478972</td>\n",
       "      <td>  2.770583</td>\n",
       "      <td>  1.005155</td>\n",
       "    </tr>\n",
       "    <tr>\n",
       "      <th>2000-01-21</th>\n",
       "      <td> 0.815523</td>\n",
       "      <td> -7.639916</td>\n",
       "      <td>  4.375444</td>\n",
       "      <td>  0.975386</td>\n",
       "    </tr>\n",
       "    <tr>\n",
       "      <th>2000-01-22</th>\n",
       "      <td> 1.232161</td>\n",
       "      <td> -8.011159</td>\n",
       "      <td>  3.948103</td>\n",
       "      <td> -0.071826</td>\n",
       "    </tr>\n",
       "    <tr>\n",
       "      <th>2000-01-23</th>\n",
       "      <td> 0.809309</td>\n",
       "      <td>-10.975806</td>\n",
       "      <td>  3.579664</td>\n",
       "      <td> -0.193101</td>\n",
       "    </tr>\n",
       "    <tr>\n",
       "      <th>2000-01-24</th>\n",
       "      <td> 2.980972</td>\n",
       "      <td>-10.672872</td>\n",
       "      <td>  4.323559</td>\n",
       "      <td> -0.837766</td>\n",
       "    </tr>\n",
       "    <tr>\n",
       "      <th>2000-01-25</th>\n",
       "      <td> 3.361422</td>\n",
       "      <td>-12.640693</td>\n",
       "      <td>  5.046673</td>\n",
       "      <td> -0.518537</td>\n",
       "    </tr>\n",
       "    <tr>\n",
       "      <th>2000-01-26</th>\n",
       "      <td> 1.927294</td>\n",
       "      <td>-11.242640</td>\n",
       "      <td>  3.801135</td>\n",
       "      <td>  0.896068</td>\n",
       "    </tr>\n",
       "    <tr>\n",
       "      <th>2000-01-27</th>\n",
       "      <td> 1.249261</td>\n",
       "      <td>-10.931013</td>\n",
       "      <td>  2.837784</td>\n",
       "      <td>  1.464897</td>\n",
       "    </tr>\n",
       "    <tr>\n",
       "      <th>2000-01-28</th>\n",
       "      <td> 1.281549</td>\n",
       "      <td>-11.003295</td>\n",
       "      <td>  3.951254</td>\n",
       "      <td>  1.179706</td>\n",
       "    </tr>\n",
       "    <tr>\n",
       "      <th>2000-01-29</th>\n",
       "      <td> 0.512112</td>\n",
       "      <td>-10.761742</td>\n",
       "      <td>  2.233165</td>\n",
       "      <td>  0.174430</td>\n",
       "    </tr>\n",
       "    <tr>\n",
       "      <th>2000-01-30</th>\n",
       "      <td> 0.262344</td>\n",
       "      <td> -9.672089</td>\n",
       "      <td>  4.887404</td>\n",
       "      <td>  0.712865</td>\n",
       "    </tr>\n",
       "    <tr>\n",
       "      <th>...</th>\n",
       "      <td>...</td>\n",
       "      <td>...</td>\n",
       "      <td>...</td>\n",
       "      <td>...</td>\n",
       "    </tr>\n",
       "    <tr>\n",
       "      <th>2002-08-28</th>\n",
       "      <td> 4.625208</td>\n",
       "      <td> -1.794282</td>\n",
       "      <td> -8.259543</td>\n",
       "      <td> -1.588357</td>\n",
       "    </tr>\n",
       "    <tr>\n",
       "      <th>2002-08-29</th>\n",
       "      <td> 4.666648</td>\n",
       "      <td> -1.795497</td>\n",
       "      <td> -8.238837</td>\n",
       "      <td>  0.252956</td>\n",
       "    </tr>\n",
       "    <tr>\n",
       "      <th>2002-08-30</th>\n",
       "      <td> 5.607705</td>\n",
       "      <td> -1.428826</td>\n",
       "      <td> -7.712760</td>\n",
       "      <td>  1.868046</td>\n",
       "    </tr>\n",
       "    <tr>\n",
       "      <th>2002-08-31</th>\n",
       "      <td> 4.946251</td>\n",
       "      <td> -0.112299</td>\n",
       "      <td> -7.518860</td>\n",
       "      <td>  1.777350</td>\n",
       "    </tr>\n",
       "    <tr>\n",
       "      <th>2002-09-01</th>\n",
       "      <td> 3.864572</td>\n",
       "      <td> -0.545530</td>\n",
       "      <td> -6.292253</td>\n",
       "      <td>  1.586294</td>\n",
       "    </tr>\n",
       "    <tr>\n",
       "      <th>2002-09-02</th>\n",
       "      <td> 5.555515</td>\n",
       "      <td> -0.372099</td>\n",
       "      <td> -6.675474</td>\n",
       "      <td> -0.593894</td>\n",
       "    </tr>\n",
       "    <tr>\n",
       "      <th>2002-09-03</th>\n",
       "      <td> 7.088676</td>\n",
       "      <td> -1.012956</td>\n",
       "      <td> -7.077376</td>\n",
       "      <td> -0.086973</td>\n",
       "    </tr>\n",
       "    <tr>\n",
       "      <th>2002-09-04</th>\n",
       "      <td> 7.750305</td>\n",
       "      <td> -1.040951</td>\n",
       "      <td> -6.940778</td>\n",
       "      <td> -1.275356</td>\n",
       "    </tr>\n",
       "    <tr>\n",
       "      <th>2002-09-05</th>\n",
       "      <td> 7.037225</td>\n",
       "      <td> -2.321507</td>\n",
       "      <td> -7.430603</td>\n",
       "      <td> -2.204701</td>\n",
       "    </tr>\n",
       "    <tr>\n",
       "      <th>2002-09-06</th>\n",
       "      <td> 7.219238</td>\n",
       "      <td> -1.307758</td>\n",
       "      <td> -7.643952</td>\n",
       "      <td> -1.942661</td>\n",
       "    </tr>\n",
       "    <tr>\n",
       "      <th>2002-09-07</th>\n",
       "      <td> 5.001612</td>\n",
       "      <td> -2.704933</td>\n",
       "      <td> -7.839517</td>\n",
       "      <td> -2.209851</td>\n",
       "    </tr>\n",
       "    <tr>\n",
       "      <th>2002-09-08</th>\n",
       "      <td> 6.266836</td>\n",
       "      <td> -2.599260</td>\n",
       "      <td> -7.889995</td>\n",
       "      <td> -1.813327</td>\n",
       "    </tr>\n",
       "    <tr>\n",
       "      <th>2002-09-09</th>\n",
       "      <td> 4.921057</td>\n",
       "      <td> -2.086468</td>\n",
       "      <td> -8.432188</td>\n",
       "      <td> -1.590568</td>\n",
       "    </tr>\n",
       "    <tr>\n",
       "      <th>2002-09-10</th>\n",
       "      <td> 5.409754</td>\n",
       "      <td> -0.320361</td>\n",
       "      <td>-11.189269</td>\n",
       "      <td> -2.413758</td>\n",
       "    </tr>\n",
       "    <tr>\n",
       "      <th>2002-09-11</th>\n",
       "      <td> 5.011992</td>\n",
       "      <td> -0.950910</td>\n",
       "      <td>-11.590882</td>\n",
       "      <td> -3.230179</td>\n",
       "    </tr>\n",
       "    <tr>\n",
       "      <th>2002-09-12</th>\n",
       "      <td> 4.742224</td>\n",
       "      <td> -0.815597</td>\n",
       "      <td> -9.546448</td>\n",
       "      <td> -4.055350</td>\n",
       "    </tr>\n",
       "    <tr>\n",
       "      <th>2002-09-13</th>\n",
       "      <td> 6.101983</td>\n",
       "      <td> -0.774610</td>\n",
       "      <td> -9.722567</td>\n",
       "      <td> -6.045751</td>\n",
       "    </tr>\n",
       "    <tr>\n",
       "      <th>2002-09-14</th>\n",
       "      <td> 7.365744</td>\n",
       "      <td> -1.116305</td>\n",
       "      <td> -9.630651</td>\n",
       "      <td> -5.592564</td>\n",
       "    </tr>\n",
       "    <tr>\n",
       "      <th>2002-09-15</th>\n",
       "      <td> 5.084383</td>\n",
       "      <td> -2.143574</td>\n",
       "      <td> -9.798200</td>\n",
       "      <td> -6.216111</td>\n",
       "    </tr>\n",
       "    <tr>\n",
       "      <th>2002-09-16</th>\n",
       "      <td> 5.535138</td>\n",
       "      <td> -2.309296</td>\n",
       "      <td>-10.247144</td>\n",
       "      <td> -5.912922</td>\n",
       "    </tr>\n",
       "    <tr>\n",
       "      <th>2002-09-17</th>\n",
       "      <td> 6.727144</td>\n",
       "      <td> -1.383390</td>\n",
       "      <td>-10.538517</td>\n",
       "      <td> -6.811851</td>\n",
       "    </tr>\n",
       "    <tr>\n",
       "      <th>2002-09-18</th>\n",
       "      <td> 6.381736</td>\n",
       "      <td> -1.541663</td>\n",
       "      <td>-11.300122</td>\n",
       "      <td> -7.795385</td>\n",
       "    </tr>\n",
       "    <tr>\n",
       "      <th>2002-09-19</th>\n",
       "      <td> 5.797594</td>\n",
       "      <td> -2.066551</td>\n",
       "      <td>-10.043998</td>\n",
       "      <td> -5.295954</td>\n",
       "    </tr>\n",
       "    <tr>\n",
       "      <th>2002-09-20</th>\n",
       "      <td> 5.727980</td>\n",
       "      <td> -2.694832</td>\n",
       "      <td>-10.937890</td>\n",
       "      <td> -6.940196</td>\n",
       "    </tr>\n",
       "    <tr>\n",
       "      <th>2002-09-21</th>\n",
       "      <td> 6.101493</td>\n",
       "      <td> -3.295493</td>\n",
       "      <td>-10.662621</td>\n",
       "      <td> -8.503858</td>\n",
       "    </tr>\n",
       "    <tr>\n",
       "      <th>2002-09-22</th>\n",
       "      <td> 6.281263</td>\n",
       "      <td> -3.543243</td>\n",
       "      <td> -9.669077</td>\n",
       "      <td> -8.634091</td>\n",
       "    </tr>\n",
       "    <tr>\n",
       "      <th>2002-09-23</th>\n",
       "      <td> 6.193919</td>\n",
       "      <td> -3.517716</td>\n",
       "      <td>-11.120515</td>\n",
       "      <td> -9.019951</td>\n",
       "    </tr>\n",
       "    <tr>\n",
       "      <th>2002-09-24</th>\n",
       "      <td> 6.032230</td>\n",
       "      <td> -3.171396</td>\n",
       "      <td>-11.000641</td>\n",
       "      <td>-10.376975</td>\n",
       "    </tr>\n",
       "    <tr>\n",
       "      <th>2002-09-25</th>\n",
       "      <td> 5.692565</td>\n",
       "      <td> -4.190530</td>\n",
       "      <td>-11.027112</td>\n",
       "      <td>-11.042980</td>\n",
       "    </tr>\n",
       "    <tr>\n",
       "      <th>2002-09-26</th>\n",
       "      <td> 5.337877</td>\n",
       "      <td> -3.505361</td>\n",
       "      <td>-11.775212</td>\n",
       "      <td>-10.298722</td>\n",
       "    </tr>\n",
       "  </tbody>\n",
       "</table>\n",
       "<p>1000 rows × 4 columns</p>\n",
       "</div>"
      ],
      "text/plain": [
       "                   A          B          C          D\n",
       "2000-01-01 -0.425461  -1.403269  -0.044436   0.219559\n",
       "2000-01-02  0.308576  -2.057619   0.634288  -0.452682\n",
       "2000-01-03  0.619000  -2.869349   1.237154  -0.308545\n",
       "2000-01-04 -1.165187  -2.040167   1.047757   0.847036\n",
       "2000-01-05 -0.214774  -4.301137   0.571458   2.713687\n",
       "2000-01-06  1.639842  -3.369141   0.753631   2.160821\n",
       "2000-01-07  1.910771  -4.025835  -0.773456   1.821734\n",
       "2000-01-08  1.563340  -4.742109   2.518628   0.588485\n",
       "2000-01-09  0.132218  -4.341313   1.862238  -0.697081\n",
       "2000-01-10  0.373116  -4.632546   1.397640  -0.845373\n",
       "2000-01-11  1.112101  -5.740170   1.803410   0.575382\n",
       "2000-01-12  0.310180  -5.740034   1.422615  -0.070605\n",
       "2000-01-13 -0.496999  -6.002253   1.836140  -1.737801\n",
       "2000-01-14  0.162170  -4.867653   1.883516  -1.377816\n",
       "2000-01-15 -0.219185  -6.045063   2.179289   0.404574\n",
       "2000-01-16 -0.492499  -8.239633   2.340800   2.083196\n",
       "2000-01-17 -1.906515  -7.611583   2.096817   2.474113\n",
       "2000-01-18 -1.479602  -7.924990   3.659178   1.732523\n",
       "2000-01-19 -1.877567  -7.676786   2.962439   0.808766\n",
       "2000-01-20  0.446554  -8.478972   2.770583   1.005155\n",
       "2000-01-21  0.815523  -7.639916   4.375444   0.975386\n",
       "2000-01-22  1.232161  -8.011159   3.948103  -0.071826\n",
       "2000-01-23  0.809309 -10.975806   3.579664  -0.193101\n",
       "2000-01-24  2.980972 -10.672872   4.323559  -0.837766\n",
       "2000-01-25  3.361422 -12.640693   5.046673  -0.518537\n",
       "2000-01-26  1.927294 -11.242640   3.801135   0.896068\n",
       "2000-01-27  1.249261 -10.931013   2.837784   1.464897\n",
       "2000-01-28  1.281549 -11.003295   3.951254   1.179706\n",
       "2000-01-29  0.512112 -10.761742   2.233165   0.174430\n",
       "2000-01-30  0.262344  -9.672089   4.887404   0.712865\n",
       "...              ...        ...        ...        ...\n",
       "2002-08-28  4.625208  -1.794282  -8.259543  -1.588357\n",
       "2002-08-29  4.666648  -1.795497  -8.238837   0.252956\n",
       "2002-08-30  5.607705  -1.428826  -7.712760   1.868046\n",
       "2002-08-31  4.946251  -0.112299  -7.518860   1.777350\n",
       "2002-09-01  3.864572  -0.545530  -6.292253   1.586294\n",
       "2002-09-02  5.555515  -0.372099  -6.675474  -0.593894\n",
       "2002-09-03  7.088676  -1.012956  -7.077376  -0.086973\n",
       "2002-09-04  7.750305  -1.040951  -6.940778  -1.275356\n",
       "2002-09-05  7.037225  -2.321507  -7.430603  -2.204701\n",
       "2002-09-06  7.219238  -1.307758  -7.643952  -1.942661\n",
       "2002-09-07  5.001612  -2.704933  -7.839517  -2.209851\n",
       "2002-09-08  6.266836  -2.599260  -7.889995  -1.813327\n",
       "2002-09-09  4.921057  -2.086468  -8.432188  -1.590568\n",
       "2002-09-10  5.409754  -0.320361 -11.189269  -2.413758\n",
       "2002-09-11  5.011992  -0.950910 -11.590882  -3.230179\n",
       "2002-09-12  4.742224  -0.815597  -9.546448  -4.055350\n",
       "2002-09-13  6.101983  -0.774610  -9.722567  -6.045751\n",
       "2002-09-14  7.365744  -1.116305  -9.630651  -5.592564\n",
       "2002-09-15  5.084383  -2.143574  -9.798200  -6.216111\n",
       "2002-09-16  5.535138  -2.309296 -10.247144  -5.912922\n",
       "2002-09-17  6.727144  -1.383390 -10.538517  -6.811851\n",
       "2002-09-18  6.381736  -1.541663 -11.300122  -7.795385\n",
       "2002-09-19  5.797594  -2.066551 -10.043998  -5.295954\n",
       "2002-09-20  5.727980  -2.694832 -10.937890  -6.940196\n",
       "2002-09-21  6.101493  -3.295493 -10.662621  -8.503858\n",
       "2002-09-22  6.281263  -3.543243  -9.669077  -8.634091\n",
       "2002-09-23  6.193919  -3.517716 -11.120515  -9.019951\n",
       "2002-09-24  6.032230  -3.171396 -11.000641 -10.376975\n",
       "2002-09-25  5.692565  -4.190530 -11.027112 -11.042980\n",
       "2002-09-26  5.337877  -3.505361 -11.775212 -10.298722\n",
       "\n",
       "[1000 rows x 4 columns]"
      ]
     },
     "execution_count": 121,
     "metadata": {},
     "output_type": "execute_result"
    }
   ],
   "source": [
    "pd.read_hdf('foo.h5','df')"
   ]
  },
  {
   "cell_type": "markdown",
   "metadata": {
    "deletable": true,
    "editable": true
   },
   "source": [
    "### Excel表格\n",
    "\n",
    "Excel表格的读写\n",
    "\n",
    "写入一个Excel文件"
   ]
  },
  {
   "cell_type": "code",
   "execution_count": 122,
   "metadata": {
    "collapsed": true,
    "deletable": true,
    "editable": true
   },
   "outputs": [],
   "source": [
    "df.to_excel('foo.xlsx', sheet_name='Sheet1')"
   ]
  },
  {
   "cell_type": "markdown",
   "metadata": {
    "deletable": true,
    "editable": true
   },
   "source": [
    "从一个Excel文件读入"
   ]
  },
  {
   "cell_type": "code",
   "execution_count": 123,
   "metadata": {
    "collapsed": false,
    "deletable": true,
    "editable": true
   },
   "outputs": [
    {
     "data": {
      "text/html": [
       "<div style=\"max-height:1000px;max-width:1500px;overflow:auto;\">\n",
       "<table border=\"1\" class=\"dataframe\">\n",
       "  <thead>\n",
       "    <tr style=\"text-align: right;\">\n",
       "      <th></th>\n",
       "      <th>A</th>\n",
       "      <th>B</th>\n",
       "      <th>C</th>\n",
       "      <th>D</th>\n",
       "    </tr>\n",
       "  </thead>\n",
       "  <tbody>\n",
       "    <tr>\n",
       "      <th>2000-01-01</th>\n",
       "      <td>-0.425461</td>\n",
       "      <td> -1.403269</td>\n",
       "      <td> -0.044436</td>\n",
       "      <td>  0.219559</td>\n",
       "    </tr>\n",
       "    <tr>\n",
       "      <th>2000-01-02</th>\n",
       "      <td> 0.308576</td>\n",
       "      <td> -2.057619</td>\n",
       "      <td>  0.634288</td>\n",
       "      <td> -0.452682</td>\n",
       "    </tr>\n",
       "    <tr>\n",
       "      <th>2000-01-03</th>\n",
       "      <td> 0.619000</td>\n",
       "      <td> -2.869349</td>\n",
       "      <td>  1.237154</td>\n",
       "      <td> -0.308545</td>\n",
       "    </tr>\n",
       "    <tr>\n",
       "      <th>2000-01-04</th>\n",
       "      <td>-1.165187</td>\n",
       "      <td> -2.040167</td>\n",
       "      <td>  1.047757</td>\n",
       "      <td>  0.847036</td>\n",
       "    </tr>\n",
       "    <tr>\n",
       "      <th>2000-01-05</th>\n",
       "      <td>-0.214774</td>\n",
       "      <td> -4.301137</td>\n",
       "      <td>  0.571458</td>\n",
       "      <td>  2.713687</td>\n",
       "    </tr>\n",
       "    <tr>\n",
       "      <th>2000-01-06</th>\n",
       "      <td> 1.639842</td>\n",
       "      <td> -3.369141</td>\n",
       "      <td>  0.753631</td>\n",
       "      <td>  2.160821</td>\n",
       "    </tr>\n",
       "    <tr>\n",
       "      <th>2000-01-07</th>\n",
       "      <td> 1.910771</td>\n",
       "      <td> -4.025835</td>\n",
       "      <td> -0.773456</td>\n",
       "      <td>  1.821734</td>\n",
       "    </tr>\n",
       "    <tr>\n",
       "      <th>2000-01-08</th>\n",
       "      <td> 1.563340</td>\n",
       "      <td> -4.742109</td>\n",
       "      <td>  2.518628</td>\n",
       "      <td>  0.588485</td>\n",
       "    </tr>\n",
       "    <tr>\n",
       "      <th>2000-01-09</th>\n",
       "      <td> 0.132218</td>\n",
       "      <td> -4.341313</td>\n",
       "      <td>  1.862238</td>\n",
       "      <td> -0.697081</td>\n",
       "    </tr>\n",
       "    <tr>\n",
       "      <th>2000-01-10</th>\n",
       "      <td> 0.373116</td>\n",
       "      <td> -4.632546</td>\n",
       "      <td>  1.397640</td>\n",
       "      <td> -0.845373</td>\n",
       "    </tr>\n",
       "    <tr>\n",
       "      <th>2000-01-11</th>\n",
       "      <td> 1.112101</td>\n",
       "      <td> -5.740170</td>\n",
       "      <td>  1.803410</td>\n",
       "      <td>  0.575382</td>\n",
       "    </tr>\n",
       "    <tr>\n",
       "      <th>2000-01-12</th>\n",
       "      <td> 0.310180</td>\n",
       "      <td> -5.740034</td>\n",
       "      <td>  1.422615</td>\n",
       "      <td> -0.070605</td>\n",
       "    </tr>\n",
       "    <tr>\n",
       "      <th>2000-01-13</th>\n",
       "      <td>-0.496999</td>\n",
       "      <td> -6.002253</td>\n",
       "      <td>  1.836140</td>\n",
       "      <td> -1.737801</td>\n",
       "    </tr>\n",
       "    <tr>\n",
       "      <th>2000-01-14</th>\n",
       "      <td> 0.162170</td>\n",
       "      <td> -4.867653</td>\n",
       "      <td>  1.883516</td>\n",
       "      <td> -1.377816</td>\n",
       "    </tr>\n",
       "    <tr>\n",
       "      <th>2000-01-15</th>\n",
       "      <td>-0.219185</td>\n",
       "      <td> -6.045063</td>\n",
       "      <td>  2.179289</td>\n",
       "      <td>  0.404574</td>\n",
       "    </tr>\n",
       "    <tr>\n",
       "      <th>2000-01-16</th>\n",
       "      <td>-0.492499</td>\n",
       "      <td> -8.239633</td>\n",
       "      <td>  2.340800</td>\n",
       "      <td>  2.083196</td>\n",
       "    </tr>\n",
       "    <tr>\n",
       "      <th>2000-01-17</th>\n",
       "      <td>-1.906515</td>\n",
       "      <td> -7.611583</td>\n",
       "      <td>  2.096817</td>\n",
       "      <td>  2.474113</td>\n",
       "    </tr>\n",
       "    <tr>\n",
       "      <th>2000-01-18</th>\n",
       "      <td>-1.479602</td>\n",
       "      <td> -7.924990</td>\n",
       "      <td>  3.659178</td>\n",
       "      <td>  1.732523</td>\n",
       "    </tr>\n",
       "    <tr>\n",
       "      <th>2000-01-19</th>\n",
       "      <td>-1.877567</td>\n",
       "      <td> -7.676786</td>\n",
       "      <td>  2.962439</td>\n",
       "      <td>  0.808766</td>\n",
       "    </tr>\n",
       "    <tr>\n",
       "      <th>2000-01-20</th>\n",
       "      <td> 0.446554</td>\n",
       "      <td> -8.478972</td>\n",
       "      <td>  2.770583</td>\n",
       "      <td>  1.005155</td>\n",
       "    </tr>\n",
       "    <tr>\n",
       "      <th>2000-01-21</th>\n",
       "      <td> 0.815523</td>\n",
       "      <td> -7.639916</td>\n",
       "      <td>  4.375444</td>\n",
       "      <td>  0.975386</td>\n",
       "    </tr>\n",
       "    <tr>\n",
       "      <th>2000-01-22</th>\n",
       "      <td> 1.232161</td>\n",
       "      <td> -8.011159</td>\n",
       "      <td>  3.948103</td>\n",
       "      <td> -0.071826</td>\n",
       "    </tr>\n",
       "    <tr>\n",
       "      <th>2000-01-23</th>\n",
       "      <td> 0.809309</td>\n",
       "      <td>-10.975806</td>\n",
       "      <td>  3.579664</td>\n",
       "      <td> -0.193101</td>\n",
       "    </tr>\n",
       "    <tr>\n",
       "      <th>2000-01-24</th>\n",
       "      <td> 2.980972</td>\n",
       "      <td>-10.672872</td>\n",
       "      <td>  4.323559</td>\n",
       "      <td> -0.837766</td>\n",
       "    </tr>\n",
       "    <tr>\n",
       "      <th>2000-01-25</th>\n",
       "      <td> 3.361422</td>\n",
       "      <td>-12.640693</td>\n",
       "      <td>  5.046673</td>\n",
       "      <td> -0.518537</td>\n",
       "    </tr>\n",
       "    <tr>\n",
       "      <th>2000-01-26</th>\n",
       "      <td> 1.927294</td>\n",
       "      <td>-11.242640</td>\n",
       "      <td>  3.801135</td>\n",
       "      <td>  0.896068</td>\n",
       "    </tr>\n",
       "    <tr>\n",
       "      <th>2000-01-27</th>\n",
       "      <td> 1.249261</td>\n",
       "      <td>-10.931013</td>\n",
       "      <td>  2.837784</td>\n",
       "      <td>  1.464897</td>\n",
       "    </tr>\n",
       "    <tr>\n",
       "      <th>2000-01-28</th>\n",
       "      <td> 1.281549</td>\n",
       "      <td>-11.003295</td>\n",
       "      <td>  3.951254</td>\n",
       "      <td>  1.179706</td>\n",
       "    </tr>\n",
       "    <tr>\n",
       "      <th>2000-01-29</th>\n",
       "      <td> 0.512112</td>\n",
       "      <td>-10.761742</td>\n",
       "      <td>  2.233165</td>\n",
       "      <td>  0.174430</td>\n",
       "    </tr>\n",
       "    <tr>\n",
       "      <th>2000-01-30</th>\n",
       "      <td> 0.262344</td>\n",
       "      <td> -9.672089</td>\n",
       "      <td>  4.887404</td>\n",
       "      <td>  0.712865</td>\n",
       "    </tr>\n",
       "    <tr>\n",
       "      <th>...</th>\n",
       "      <td>...</td>\n",
       "      <td>...</td>\n",
       "      <td>...</td>\n",
       "      <td>...</td>\n",
       "    </tr>\n",
       "    <tr>\n",
       "      <th>2002-08-28</th>\n",
       "      <td> 4.625208</td>\n",
       "      <td> -1.794282</td>\n",
       "      <td> -8.259543</td>\n",
       "      <td> -1.588357</td>\n",
       "    </tr>\n",
       "    <tr>\n",
       "      <th>2002-08-29</th>\n",
       "      <td> 4.666648</td>\n",
       "      <td> -1.795497</td>\n",
       "      <td> -8.238837</td>\n",
       "      <td>  0.252956</td>\n",
       "    </tr>\n",
       "    <tr>\n",
       "      <th>2002-08-30</th>\n",
       "      <td> 5.607705</td>\n",
       "      <td> -1.428826</td>\n",
       "      <td> -7.712760</td>\n",
       "      <td>  1.868046</td>\n",
       "    </tr>\n",
       "    <tr>\n",
       "      <th>2002-08-31</th>\n",
       "      <td> 4.946251</td>\n",
       "      <td> -0.112299</td>\n",
       "      <td> -7.518860</td>\n",
       "      <td>  1.777350</td>\n",
       "    </tr>\n",
       "    <tr>\n",
       "      <th>2002-09-01</th>\n",
       "      <td> 3.864572</td>\n",
       "      <td> -0.545530</td>\n",
       "      <td> -6.292253</td>\n",
       "      <td>  1.586294</td>\n",
       "    </tr>\n",
       "    <tr>\n",
       "      <th>2002-09-02</th>\n",
       "      <td> 5.555515</td>\n",
       "      <td> -0.372099</td>\n",
       "      <td> -6.675474</td>\n",
       "      <td> -0.593894</td>\n",
       "    </tr>\n",
       "    <tr>\n",
       "      <th>2002-09-03</th>\n",
       "      <td> 7.088676</td>\n",
       "      <td> -1.012956</td>\n",
       "      <td> -7.077376</td>\n",
       "      <td> -0.086973</td>\n",
       "    </tr>\n",
       "    <tr>\n",
       "      <th>2002-09-04</th>\n",
       "      <td> 7.750305</td>\n",
       "      <td> -1.040951</td>\n",
       "      <td> -6.940778</td>\n",
       "      <td> -1.275356</td>\n",
       "    </tr>\n",
       "    <tr>\n",
       "      <th>2002-09-05</th>\n",
       "      <td> 7.037225</td>\n",
       "      <td> -2.321507</td>\n",
       "      <td> -7.430603</td>\n",
       "      <td> -2.204701</td>\n",
       "    </tr>\n",
       "    <tr>\n",
       "      <th>2002-09-06</th>\n",
       "      <td> 7.219238</td>\n",
       "      <td> -1.307758</td>\n",
       "      <td> -7.643952</td>\n",
       "      <td> -1.942661</td>\n",
       "    </tr>\n",
       "    <tr>\n",
       "      <th>2002-09-07</th>\n",
       "      <td> 5.001612</td>\n",
       "      <td> -2.704933</td>\n",
       "      <td> -7.839517</td>\n",
       "      <td> -2.209851</td>\n",
       "    </tr>\n",
       "    <tr>\n",
       "      <th>2002-09-08</th>\n",
       "      <td> 6.266836</td>\n",
       "      <td> -2.599260</td>\n",
       "      <td> -7.889995</td>\n",
       "      <td> -1.813327</td>\n",
       "    </tr>\n",
       "    <tr>\n",
       "      <th>2002-09-09</th>\n",
       "      <td> 4.921057</td>\n",
       "      <td> -2.086468</td>\n",
       "      <td> -8.432188</td>\n",
       "      <td> -1.590568</td>\n",
       "    </tr>\n",
       "    <tr>\n",
       "      <th>2002-09-10</th>\n",
       "      <td> 5.409754</td>\n",
       "      <td> -0.320361</td>\n",
       "      <td>-11.189269</td>\n",
       "      <td> -2.413758</td>\n",
       "    </tr>\n",
       "    <tr>\n",
       "      <th>2002-09-11</th>\n",
       "      <td> 5.011992</td>\n",
       "      <td> -0.950910</td>\n",
       "      <td>-11.590882</td>\n",
       "      <td> -3.230179</td>\n",
       "    </tr>\n",
       "    <tr>\n",
       "      <th>2002-09-12</th>\n",
       "      <td> 4.742224</td>\n",
       "      <td> -0.815597</td>\n",
       "      <td> -9.546448</td>\n",
       "      <td> -4.055350</td>\n",
       "    </tr>\n",
       "    <tr>\n",
       "      <th>2002-09-13</th>\n",
       "      <td> 6.101983</td>\n",
       "      <td> -0.774610</td>\n",
       "      <td> -9.722567</td>\n",
       "      <td> -6.045751</td>\n",
       "    </tr>\n",
       "    <tr>\n",
       "      <th>2002-09-14</th>\n",
       "      <td> 7.365744</td>\n",
       "      <td> -1.116305</td>\n",
       "      <td> -9.630651</td>\n",
       "      <td> -5.592564</td>\n",
       "    </tr>\n",
       "    <tr>\n",
       "      <th>2002-09-15</th>\n",
       "      <td> 5.084383</td>\n",
       "      <td> -2.143574</td>\n",
       "      <td> -9.798200</td>\n",
       "      <td> -6.216111</td>\n",
       "    </tr>\n",
       "    <tr>\n",
       "      <th>2002-09-16</th>\n",
       "      <td> 5.535138</td>\n",
       "      <td> -2.309296</td>\n",
       "      <td>-10.247144</td>\n",
       "      <td> -5.912922</td>\n",
       "    </tr>\n",
       "    <tr>\n",
       "      <th>2002-09-17</th>\n",
       "      <td> 6.727144</td>\n",
       "      <td> -1.383390</td>\n",
       "      <td>-10.538517</td>\n",
       "      <td> -6.811851</td>\n",
       "    </tr>\n",
       "    <tr>\n",
       "      <th>2002-09-18</th>\n",
       "      <td> 6.381736</td>\n",
       "      <td> -1.541663</td>\n",
       "      <td>-11.300122</td>\n",
       "      <td> -7.795385</td>\n",
       "    </tr>\n",
       "    <tr>\n",
       "      <th>2002-09-19</th>\n",
       "      <td> 5.797594</td>\n",
       "      <td> -2.066551</td>\n",
       "      <td>-10.043998</td>\n",
       "      <td> -5.295954</td>\n",
       "    </tr>\n",
       "    <tr>\n",
       "      <th>2002-09-20</th>\n",
       "      <td> 5.727980</td>\n",
       "      <td> -2.694832</td>\n",
       "      <td>-10.937890</td>\n",
       "      <td> -6.940196</td>\n",
       "    </tr>\n",
       "    <tr>\n",
       "      <th>2002-09-21</th>\n",
       "      <td> 6.101493</td>\n",
       "      <td> -3.295493</td>\n",
       "      <td>-10.662621</td>\n",
       "      <td> -8.503858</td>\n",
       "    </tr>\n",
       "    <tr>\n",
       "      <th>2002-09-22</th>\n",
       "      <td> 6.281263</td>\n",
       "      <td> -3.543243</td>\n",
       "      <td> -9.669077</td>\n",
       "      <td> -8.634091</td>\n",
       "    </tr>\n",
       "    <tr>\n",
       "      <th>2002-09-23</th>\n",
       "      <td> 6.193919</td>\n",
       "      <td> -3.517716</td>\n",
       "      <td>-11.120515</td>\n",
       "      <td> -9.019951</td>\n",
       "    </tr>\n",
       "    <tr>\n",
       "      <th>2002-09-24</th>\n",
       "      <td> 6.032230</td>\n",
       "      <td> -3.171396</td>\n",
       "      <td>-11.000641</td>\n",
       "      <td>-10.376975</td>\n",
       "    </tr>\n",
       "    <tr>\n",
       "      <th>2002-09-25</th>\n",
       "      <td> 5.692565</td>\n",
       "      <td> -4.190530</td>\n",
       "      <td>-11.027112</td>\n",
       "      <td>-11.042980</td>\n",
       "    </tr>\n",
       "    <tr>\n",
       "      <th>2002-09-26</th>\n",
       "      <td> 5.337877</td>\n",
       "      <td> -3.505361</td>\n",
       "      <td>-11.775212</td>\n",
       "      <td>-10.298722</td>\n",
       "    </tr>\n",
       "  </tbody>\n",
       "</table>\n",
       "<p>1000 rows × 4 columns</p>\n",
       "</div>"
      ],
      "text/plain": [
       "                   A          B          C          D\n",
       "2000-01-01 -0.425461  -1.403269  -0.044436   0.219559\n",
       "2000-01-02  0.308576  -2.057619   0.634288  -0.452682\n",
       "2000-01-03  0.619000  -2.869349   1.237154  -0.308545\n",
       "2000-01-04 -1.165187  -2.040167   1.047757   0.847036\n",
       "2000-01-05 -0.214774  -4.301137   0.571458   2.713687\n",
       "2000-01-06  1.639842  -3.369141   0.753631   2.160821\n",
       "2000-01-07  1.910771  -4.025835  -0.773456   1.821734\n",
       "2000-01-08  1.563340  -4.742109   2.518628   0.588485\n",
       "2000-01-09  0.132218  -4.341313   1.862238  -0.697081\n",
       "2000-01-10  0.373116  -4.632546   1.397640  -0.845373\n",
       "2000-01-11  1.112101  -5.740170   1.803410   0.575382\n",
       "2000-01-12  0.310180  -5.740034   1.422615  -0.070605\n",
       "2000-01-13 -0.496999  -6.002253   1.836140  -1.737801\n",
       "2000-01-14  0.162170  -4.867653   1.883516  -1.377816\n",
       "2000-01-15 -0.219185  -6.045063   2.179289   0.404574\n",
       "2000-01-16 -0.492499  -8.239633   2.340800   2.083196\n",
       "2000-01-17 -1.906515  -7.611583   2.096817   2.474113\n",
       "2000-01-18 -1.479602  -7.924990   3.659178   1.732523\n",
       "2000-01-19 -1.877567  -7.676786   2.962439   0.808766\n",
       "2000-01-20  0.446554  -8.478972   2.770583   1.005155\n",
       "2000-01-21  0.815523  -7.639916   4.375444   0.975386\n",
       "2000-01-22  1.232161  -8.011159   3.948103  -0.071826\n",
       "2000-01-23  0.809309 -10.975806   3.579664  -0.193101\n",
       "2000-01-24  2.980972 -10.672872   4.323559  -0.837766\n",
       "2000-01-25  3.361422 -12.640693   5.046673  -0.518537\n",
       "2000-01-26  1.927294 -11.242640   3.801135   0.896068\n",
       "2000-01-27  1.249261 -10.931013   2.837784   1.464897\n",
       "2000-01-28  1.281549 -11.003295   3.951254   1.179706\n",
       "2000-01-29  0.512112 -10.761742   2.233165   0.174430\n",
       "2000-01-30  0.262344  -9.672089   4.887404   0.712865\n",
       "...              ...        ...        ...        ...\n",
       "2002-08-28  4.625208  -1.794282  -8.259543  -1.588357\n",
       "2002-08-29  4.666648  -1.795497  -8.238837   0.252956\n",
       "2002-08-30  5.607705  -1.428826  -7.712760   1.868046\n",
       "2002-08-31  4.946251  -0.112299  -7.518860   1.777350\n",
       "2002-09-01  3.864572  -0.545530  -6.292253   1.586294\n",
       "2002-09-02  5.555515  -0.372099  -6.675474  -0.593894\n",
       "2002-09-03  7.088676  -1.012956  -7.077376  -0.086973\n",
       "2002-09-04  7.750305  -1.040951  -6.940778  -1.275356\n",
       "2002-09-05  7.037225  -2.321507  -7.430603  -2.204701\n",
       "2002-09-06  7.219238  -1.307758  -7.643952  -1.942661\n",
       "2002-09-07  5.001612  -2.704933  -7.839517  -2.209851\n",
       "2002-09-08  6.266836  -2.599260  -7.889995  -1.813327\n",
       "2002-09-09  4.921057  -2.086468  -8.432188  -1.590568\n",
       "2002-09-10  5.409754  -0.320361 -11.189269  -2.413758\n",
       "2002-09-11  5.011992  -0.950910 -11.590882  -3.230179\n",
       "2002-09-12  4.742224  -0.815597  -9.546448  -4.055350\n",
       "2002-09-13  6.101983  -0.774610  -9.722567  -6.045751\n",
       "2002-09-14  7.365744  -1.116305  -9.630651  -5.592564\n",
       "2002-09-15  5.084383  -2.143574  -9.798200  -6.216111\n",
       "2002-09-16  5.535138  -2.309296 -10.247144  -5.912922\n",
       "2002-09-17  6.727144  -1.383390 -10.538517  -6.811851\n",
       "2002-09-18  6.381736  -1.541663 -11.300122  -7.795385\n",
       "2002-09-19  5.797594  -2.066551 -10.043998  -5.295954\n",
       "2002-09-20  5.727980  -2.694832 -10.937890  -6.940196\n",
       "2002-09-21  6.101493  -3.295493 -10.662621  -8.503858\n",
       "2002-09-22  6.281263  -3.543243  -9.669077  -8.634091\n",
       "2002-09-23  6.193919  -3.517716 -11.120515  -9.019951\n",
       "2002-09-24  6.032230  -3.171396 -11.000641 -10.376975\n",
       "2002-09-25  5.692565  -4.190530 -11.027112 -11.042980\n",
       "2002-09-26  5.337877  -3.505361 -11.775212 -10.298722\n",
       "\n",
       "[1000 rows x 4 columns]"
      ]
     },
     "execution_count": 123,
     "metadata": {},
     "output_type": "execute_result"
    }
   ],
   "source": [
    "pd.read_excel('foo.xlsx', 'Sheet1', index_col=None, na_values=['NA'])"
   ]
  }
 ],
 "metadata": {
  "kernelspec": {
   "display_name": "Python 2",
   "language": "python",
   "name": "python2"
  },
  "language_info": {
   "codemirror_mode": {
    "name": "ipython",
    "version": 2
   },
   "file_extension": ".py",
   "mimetype": "text/x-python",
   "name": "python",
   "nbconvert_exporter": "python",
   "pygments_lexer": "ipython2",
   "version": "2.7.12"
  }
 },
 "nbformat": 4,
 "nbformat_minor": 0
}
